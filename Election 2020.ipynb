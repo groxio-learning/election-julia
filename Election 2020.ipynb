{
 "cells": [
  {
   "cell_type": "markdown",
   "metadata": {},
   "source": [
    "# Election 2020\n",
    "\n",
    "- election trends\n",
    "- by date fivethirtyeight model\n",
    "- tipping point analysis"
   ]
  },
  {
   "cell_type": "markdown",
   "metadata": {},
   "source": [
    "## Election Setup\n",
    "Initial imports, and set up toplines and election, and sort results"
   ]
  },
  {
   "cell_type": "code",
   "execution_count": 1,
   "metadata": {},
   "outputs": [
    {
     "name": "stderr",
     "output_type": "stream",
     "text": [
      "┌ Info: Precompiling Election [d8ec7907-e425-4022-a438-d1713b00489c]\n",
      "└ @ Base loading.jl:1260\n",
      "┌ Info: Precompiling VegaLite [112f6efa-9a02-5b7d-90c0-432ed331239a]\n",
      "└ @ Base loading.jl:1260\n",
      "┌ Info: Precompiling VegaDatasets [0ae4a718-28b7-58ec-9efb-cded64d6d5b4]\n",
      "└ @ Base loading.jl:1260\n"
     ]
    }
   ],
   "source": [
    "using Election, DataFrames, Query, VegaLite, VegaDatasets"
   ]
  },
  {
   "cell_type": "code",
   "execution_count": 65,
   "metadata": {},
   "outputs": [
    {
     "name": "stdout",
     "output_type": "stream",
     "text": [
      "thread = 1 warning: only found 2 / 3 columns around data row: 52. Filling remaining columns with `missing`\n",
      "thread = 1 warning: only found 2 / 3 columns around data row: 53. Filling remaining columns with `missing`\n",
      "thread = 1 warning: only found 2 / 3 columns around data row: 54. Filling remaining columns with `missing`\n",
      "thread = 1 warning: only found 2 / 3 columns around data row: 55. Filling remaining columns with `missing`\n",
      "thread = 1 warning: only found 2 / 3 columns around data row: 56. Filling remaining columns with `missing`\n",
      "thread = 1 warning: only found 2 / 3 columns around data row: 57. Filling remaining columns with `missing`\n"
     ]
    },
    {
     "data": {
      "text/html": [
       "<table class=\"data-frame\"><thead><tr><th></th><th>modeldate</th><th>state</th><th>winstate_inc</th><th>evs</th></tr><tr><th></th><th>String</th><th>String</th><th>Float64</th><th>Int64</th></tr></thead><tbody><p>6,160 rows × 4 columns</p><tr><th>1</th><td>9/18/2020</td><td>Wyoming</td><td>0.9981</td><td>3</td></tr><tr><th>2</th><td>9/18/2020</td><td>Wisconsin</td><td>0.1974</td><td>10</td></tr><tr><th>3</th><td>9/18/2020</td><td>West Virginia</td><td>0.9929</td><td>5</td></tr><tr><th>4</th><td>9/18/2020</td><td>Washington</td><td>0.00905</td><td>12</td></tr><tr><th>5</th><td>9/18/2020</td><td>Virginia</td><td>0.0423</td><td>13</td></tr><tr><th>6</th><td>9/18/2020</td><td>Vermont</td><td>0.0071</td><td>3</td></tr><tr><th>7</th><td>9/18/2020</td><td>Utah</td><td>0.956</td><td>6</td></tr><tr><th>8</th><td>9/18/2020</td><td>Texas</td><td>0.690425</td><td>38</td></tr><tr><th>9</th><td>9/18/2020</td><td>Tennessee</td><td>0.9575</td><td>11</td></tr><tr><th>10</th><td>9/18/2020</td><td>South Dakota</td><td>0.96815</td><td>3</td></tr><tr><th>11</th><td>9/18/2020</td><td>South Carolina</td><td>0.8758</td><td>9</td></tr><tr><th>12</th><td>9/18/2020</td><td>Rhode Island</td><td>0.009525</td><td>4</td></tr><tr><th>13</th><td>9/18/2020</td><td>Pennsylvania</td><td>0.239275</td><td>20</td></tr><tr><th>14</th><td>9/18/2020</td><td>Oregon</td><td>0.0767</td><td>7</td></tr><tr><th>15</th><td>9/18/2020</td><td>Oklahoma</td><td>0.993725</td><td>7</td></tr><tr><th>16</th><td>9/18/2020</td><td>Ohio</td><td>0.546725</td><td>18</td></tr><tr><th>17</th><td>9/18/2020</td><td>North Dakota</td><td>0.99065</td><td>3</td></tr><tr><th>18</th><td>9/18/2020</td><td>North Carolina</td><td>0.46125</td><td>15</td></tr><tr><th>19</th><td>9/18/2020</td><td>New York</td><td>0.00115</td><td>29</td></tr><tr><th>20</th><td>9/18/2020</td><td>New Mexico</td><td>0.057825</td><td>5</td></tr><tr><th>21</th><td>9/18/2020</td><td>New Jersey</td><td>0.028275</td><td>14</td></tr><tr><th>22</th><td>9/18/2020</td><td>New Hampshire</td><td>0.269175</td><td>4</td></tr><tr><th>23</th><td>9/18/2020</td><td>Nevada</td><td>0.195125</td><td>6</td></tr><tr><th>24</th><td>9/18/2020</td><td>Nebraska</td><td>0.987175</td><td>5</td></tr><tr><th>25</th><td>9/18/2020</td><td>NE-3</td><td>0.999675</td><td>1</td></tr><tr><th>26</th><td>9/18/2020</td><td>NE-2</td><td>0.384375</td><td>1</td></tr><tr><th>27</th><td>9/18/2020</td><td>NE-1</td><td>0.9386</td><td>1</td></tr><tr><th>28</th><td>9/18/2020</td><td>Montana</td><td>0.873625</td><td>3</td></tr><tr><th>29</th><td>9/18/2020</td><td>Missouri</td><td>0.900925</td><td>10</td></tr><tr><th>30</th><td>9/18/2020</td><td>Mississippi</td><td>0.871525</td><td>6</td></tr><tr><th>&vellip;</th><td>&vellip;</td><td>&vellip;</td><td>&vellip;</td><td>&vellip;</td></tr></tbody></table>"
      ],
      "text/latex": [
       "\\begin{tabular}{r|cccc}\n",
       "\t& modeldate & state & winstate\\_inc & evs\\\\\n",
       "\t\\hline\n",
       "\t& String & String & Float64 & Int64\\\\\n",
       "\t\\hline\n",
       "\t1 & 9/18/2020 & Wyoming & 0.9981 & 3 \\\\\n",
       "\t2 & 9/18/2020 & Wisconsin & 0.1974 & 10 \\\\\n",
       "\t3 & 9/18/2020 & West Virginia & 0.9929 & 5 \\\\\n",
       "\t4 & 9/18/2020 & Washington & 0.00905 & 12 \\\\\n",
       "\t5 & 9/18/2020 & Virginia & 0.0423 & 13 \\\\\n",
       "\t6 & 9/18/2020 & Vermont & 0.0071 & 3 \\\\\n",
       "\t7 & 9/18/2020 & Utah & 0.956 & 6 \\\\\n",
       "\t8 & 9/18/2020 & Texas & 0.690425 & 38 \\\\\n",
       "\t9 & 9/18/2020 & Tennessee & 0.9575 & 11 \\\\\n",
       "\t10 & 9/18/2020 & South Dakota & 0.96815 & 3 \\\\\n",
       "\t11 & 9/18/2020 & South Carolina & 0.8758 & 9 \\\\\n",
       "\t12 & 9/18/2020 & Rhode Island & 0.009525 & 4 \\\\\n",
       "\t13 & 9/18/2020 & Pennsylvania & 0.239275 & 20 \\\\\n",
       "\t14 & 9/18/2020 & Oregon & 0.0767 & 7 \\\\\n",
       "\t15 & 9/18/2020 & Oklahoma & 0.993725 & 7 \\\\\n",
       "\t16 & 9/18/2020 & Ohio & 0.546725 & 18 \\\\\n",
       "\t17 & 9/18/2020 & North Dakota & 0.99065 & 3 \\\\\n",
       "\t18 & 9/18/2020 & North Carolina & 0.46125 & 15 \\\\\n",
       "\t19 & 9/18/2020 & New York & 0.00115 & 29 \\\\\n",
       "\t20 & 9/18/2020 & New Mexico & 0.057825 & 5 \\\\\n",
       "\t21 & 9/18/2020 & New Jersey & 0.028275 & 14 \\\\\n",
       "\t22 & 9/18/2020 & New Hampshire & 0.269175 & 4 \\\\\n",
       "\t23 & 9/18/2020 & Nevada & 0.195125 & 6 \\\\\n",
       "\t24 & 9/18/2020 & Nebraska & 0.987175 & 5 \\\\\n",
       "\t25 & 9/18/2020 & NE-3 & 0.999675 & 1 \\\\\n",
       "\t26 & 9/18/2020 & NE-2 & 0.384375 & 1 \\\\\n",
       "\t27 & 9/18/2020 & NE-1 & 0.9386 & 1 \\\\\n",
       "\t28 & 9/18/2020 & Montana & 0.873625 & 3 \\\\\n",
       "\t29 & 9/18/2020 & Missouri & 0.900925 & 10 \\\\\n",
       "\t30 & 9/18/2020 & Mississippi & 0.871525 & 6 \\\\\n",
       "\t$\\dots$ & $\\dots$ & $\\dots$ & $\\dots$ & $\\dots$ \\\\\n",
       "\\end{tabular}\n"
      ],
      "text/plain": [
       "6160×4 DataFrame\n",
       "│ Row  │ modeldate │ state                │ winstate_inc │ evs   │\n",
       "│      │ \u001b[90mString\u001b[39m    │ \u001b[90mString\u001b[39m               │ \u001b[90mFloat64\u001b[39m      │ \u001b[90mInt64\u001b[39m │\n",
       "├──────┼───────────┼──────────────────────┼──────────────┼───────┤\n",
       "│ 1    │ 9/18/2020 │ Wyoming              │ 0.9981       │ 3     │\n",
       "│ 2    │ 9/18/2020 │ Wisconsin            │ 0.1974       │ 10    │\n",
       "│ 3    │ 9/18/2020 │ West Virginia        │ 0.9929       │ 5     │\n",
       "│ 4    │ 9/18/2020 │ Washington           │ 0.00905      │ 12    │\n",
       "│ 5    │ 9/18/2020 │ Virginia             │ 0.0423       │ 13    │\n",
       "│ 6    │ 9/18/2020 │ Vermont              │ 0.0071       │ 3     │\n",
       "│ 7    │ 9/18/2020 │ Utah                 │ 0.956        │ 6     │\n",
       "│ 8    │ 9/18/2020 │ Texas                │ 0.690425     │ 38    │\n",
       "│ 9    │ 9/18/2020 │ Tennessee            │ 0.9575       │ 11    │\n",
       "│ 10   │ 9/18/2020 │ South Dakota         │ 0.96815      │ 3     │\n",
       "⋮\n",
       "│ 6150 │ 6/1/2020  │ Georgia              │ 0.5936       │ 16    │\n",
       "│ 6151 │ 6/1/2020  │ Florida              │ 0.3873       │ 29    │\n",
       "│ 6152 │ 6/1/2020  │ District of Columbia │ 5.0e-5       │ 3     │\n",
       "│ 6153 │ 6/1/2020  │ Delaware             │ 0.00455      │ 3     │\n",
       "│ 6154 │ 6/1/2020  │ Connecticut          │ 0.03775      │ 7     │\n",
       "│ 6155 │ 6/1/2020  │ Colorado             │ 0.14315      │ 9     │\n",
       "│ 6156 │ 6/1/2020  │ California           │ 0.004875     │ 55    │\n",
       "│ 6157 │ 6/1/2020  │ Arkansas             │ 0.967075     │ 6     │\n",
       "│ 6158 │ 6/1/2020  │ Arizona              │ 0.450525     │ 11    │\n",
       "│ 6159 │ 6/1/2020  │ Alaska               │ 0.8338       │ 3     │\n",
       "│ 6160 │ 6/1/2020  │ Alabama              │ 0.97525      │ 9     │"
      ]
     },
     "execution_count": 65,
     "metadata": {},
     "output_type": "execute_result"
    }
   ],
   "source": [
    "toplines = Election.combined()"
   ]
  },
  {
   "cell_type": "code",
   "execution_count": 54,
   "metadata": {},
   "outputs": [
    {
     "data": {
      "text/html": [
       "<table class=\"data-frame\"><thead><tr><th></th><th>date</th><th>trump</th></tr><tr><th></th><th>String</th><th>Float64</th></tr></thead><tbody><p>110 rows × 2 columns</p><tr><th>1</th><td>6/1/2020</td><td>0.066</td></tr><tr><th>2</th><td>6/10/2020</td><td>0.045</td></tr><tr><th>3</th><td>6/11/2020</td><td>0.025</td></tr><tr><th>4</th><td>6/12/2020</td><td>0.036</td></tr><tr><th>5</th><td>6/13/2020</td><td>0.02</td></tr><tr><th>6</th><td>6/14/2020</td><td>0.022</td></tr><tr><th>7</th><td>6/15/2020</td><td>0.034</td></tr><tr><th>8</th><td>6/16/2020</td><td>0.026</td></tr><tr><th>9</th><td>6/17/2020</td><td>0.022</td></tr><tr><th>10</th><td>6/18/2020</td><td>0.025</td></tr><tr><th>11</th><td>6/19/2020</td><td>0.022</td></tr><tr><th>12</th><td>6/2/2020</td><td>0.061</td></tr><tr><th>13</th><td>6/20/2020</td><td>0.018</td></tr><tr><th>14</th><td>6/21/2020</td><td>0.019</td></tr><tr><th>15</th><td>6/22/2020</td><td>0.013</td></tr><tr><th>16</th><td>6/23/2020</td><td>0.013</td></tr><tr><th>17</th><td>6/24/2020</td><td>0.011</td></tr><tr><th>18</th><td>6/25/2020</td><td>0.01</td></tr><tr><th>19</th><td>6/26/2020</td><td>0.01</td></tr><tr><th>20</th><td>6/27/2020</td><td>0.013</td></tr><tr><th>21</th><td>6/28/2020</td><td>0.011</td></tr><tr><th>22</th><td>6/29/2020</td><td>0.011</td></tr><tr><th>23</th><td>6/3/2020</td><td>0.063</td></tr><tr><th>24</th><td>6/30/2020</td><td>0.023</td></tr><tr><th>25</th><td>6/4/2020</td><td>0.056</td></tr><tr><th>26</th><td>6/5/2020</td><td>0.057</td></tr><tr><th>27</th><td>6/6/2020</td><td>0.067</td></tr><tr><th>28</th><td>6/7/2020</td><td>0.063</td></tr><tr><th>29</th><td>6/8/2020</td><td>0.063</td></tr><tr><th>30</th><td>6/9/2020</td><td>0.046</td></tr><tr><th>&vellip;</th><td>&vellip;</td><td>&vellip;</td></tr></tbody></table>"
      ],
      "text/latex": [
       "\\begin{tabular}{r|cc}\n",
       "\t& date & trump\\\\\n",
       "\t\\hline\n",
       "\t& String & Float64\\\\\n",
       "\t\\hline\n",
       "\t1 & 6/1/2020 & 0.066 \\\\\n",
       "\t2 & 6/10/2020 & 0.045 \\\\\n",
       "\t3 & 6/11/2020 & 0.025 \\\\\n",
       "\t4 & 6/12/2020 & 0.036 \\\\\n",
       "\t5 & 6/13/2020 & 0.02 \\\\\n",
       "\t6 & 6/14/2020 & 0.022 \\\\\n",
       "\t7 & 6/15/2020 & 0.034 \\\\\n",
       "\t8 & 6/16/2020 & 0.026 \\\\\n",
       "\t9 & 6/17/2020 & 0.022 \\\\\n",
       "\t10 & 6/18/2020 & 0.025 \\\\\n",
       "\t11 & 6/19/2020 & 0.022 \\\\\n",
       "\t12 & 6/2/2020 & 0.061 \\\\\n",
       "\t13 & 6/20/2020 & 0.018 \\\\\n",
       "\t14 & 6/21/2020 & 0.019 \\\\\n",
       "\t15 & 6/22/2020 & 0.013 \\\\\n",
       "\t16 & 6/23/2020 & 0.013 \\\\\n",
       "\t17 & 6/24/2020 & 0.011 \\\\\n",
       "\t18 & 6/25/2020 & 0.01 \\\\\n",
       "\t19 & 6/26/2020 & 0.01 \\\\\n",
       "\t20 & 6/27/2020 & 0.013 \\\\\n",
       "\t21 & 6/28/2020 & 0.011 \\\\\n",
       "\t22 & 6/29/2020 & 0.011 \\\\\n",
       "\t23 & 6/3/2020 & 0.063 \\\\\n",
       "\t24 & 6/30/2020 & 0.023 \\\\\n",
       "\t25 & 6/4/2020 & 0.056 \\\\\n",
       "\t26 & 6/5/2020 & 0.057 \\\\\n",
       "\t27 & 6/6/2020 & 0.067 \\\\\n",
       "\t28 & 6/7/2020 & 0.063 \\\\\n",
       "\t29 & 6/8/2020 & 0.063 \\\\\n",
       "\t30 & 6/9/2020 & 0.046 \\\\\n",
       "\t$\\dots$ & $\\dots$ & $\\dots$ \\\\\n",
       "\\end{tabular}\n"
      ],
      "text/plain": [
       "110×2 DataFrame\n",
       "│ Row │ date      │ trump   │\n",
       "│     │ \u001b[90mString\u001b[39m    │ \u001b[90mFloat64\u001b[39m │\n",
       "├─────┼───────────┼─────────┤\n",
       "│ 1   │ 6/1/2020  │ 0.066   │\n",
       "│ 2   │ 6/10/2020 │ 0.045   │\n",
       "│ 3   │ 6/11/2020 │ 0.025   │\n",
       "│ 4   │ 6/12/2020 │ 0.036   │\n",
       "│ 5   │ 6/13/2020 │ 0.02    │\n",
       "│ 6   │ 6/14/2020 │ 0.022   │\n",
       "│ 7   │ 6/15/2020 │ 0.034   │\n",
       "│ 8   │ 6/16/2020 │ 0.026   │\n",
       "│ 9   │ 6/17/2020 │ 0.022   │\n",
       "│ 10  │ 6/18/2020 │ 0.025   │\n",
       "⋮\n",
       "│ 100 │ 9/16/2020 │ 0.034   │\n",
       "│ 101 │ 9/17/2020 │ 0.035   │\n",
       "│ 102 │ 9/18/2020 │ 0.029   │\n",
       "│ 103 │ 9/2/2020  │ 0.07    │\n",
       "│ 104 │ 9/3/2020  │ 0.07    │\n",
       "│ 105 │ 9/4/2020  │ 0.057   │\n",
       "│ 106 │ 9/5/2020  │ 0.054   │\n",
       "│ 107 │ 9/6/2020  │ 0.064   │\n",
       "│ 108 │ 9/7/2020  │ 0.055   │\n",
       "│ 109 │ 9/8/2020  │ 0.07    │\n",
       "│ 110 │ 9/9/2020  │ 0.04    │"
      ]
     },
     "execution_count": 54,
     "metadata": {},
     "output_type": "execute_result"
    }
   ],
   "source": [
    "dates = Election.simulate_election_by_date(toplines);\n",
    "sort!(dates, 1)"
   ]
  },
  {
   "cell_type": "markdown",
   "metadata": {},
   "source": [
    "## Plot win percentage of  incumbant"
   ]
  },
  {
   "cell_type": "code",
   "execution_count": 27,
   "metadata": {
    "scrolled": true
   },
   "outputs": [
    {
     "data": {
      "application/vnd.vegalite.v4+json": {
       "data": {
        "values": [
         {
          "date": "6/1/2020",
          "trump": 0.064
         },
         {
          "date": "6/10/2020",
          "trump": 0.048
         },
         {
          "date": "6/11/2020",
          "trump": 0.026
         },
         {
          "date": "6/12/2020",
          "trump": 0.027
         },
         {
          "date": "6/13/2020",
          "trump": 0.02
         },
         {
          "date": "6/14/2020",
          "trump": 0.019
         },
         {
          "date": "6/15/2020",
          "trump": 0.031
         },
         {
          "date": "6/16/2020",
          "trump": 0.019
         },
         {
          "date": "6/17/2020",
          "trump": 0.013
         },
         {
          "date": "6/18/2020",
          "trump": 0.016
         },
         {
          "date": "6/19/2020",
          "trump": 0.023
         },
         {
          "date": "6/2/2020",
          "trump": 0.044
         },
         {
          "date": "6/20/2020",
          "trump": 0.023
         },
         {
          "date": "6/21/2020",
          "trump": 0.009
         },
         {
          "date": "6/22/2020",
          "trump": 0.01
         },
         {
          "date": "6/23/2020",
          "trump": 0.018
         },
         {
          "date": "6/24/2020",
          "trump": 0.01
         },
         {
          "date": "6/25/2020",
          "trump": 0.013
         },
         {
          "date": "6/26/2020",
          "trump": 0.009
         },
         {
          "date": "6/27/2020",
          "trump": 0.019
         },
         {
          "date": "6/28/2020",
          "trump": 0.006
         },
         {
          "date": "6/29/2020",
          "trump": 0.01
         },
         {
          "date": "6/3/2020",
          "trump": 0.063
         },
         {
          "date": "6/30/2020",
          "trump": 0.019
         },
         {
          "date": "6/4/2020",
          "trump": 0.056
         },
         {
          "date": "6/5/2020",
          "trump": 0.072
         },
         {
          "date": "6/6/2020",
          "trump": 0.064
         },
         {
          "date": "6/7/2020",
          "trump": 0.056
         },
         {
          "date": "6/8/2020",
          "trump": 0.062
         },
         {
          "date": "6/9/2020",
          "trump": 0.058
         },
         {
          "date": "7/1/2020",
          "trump": 0.019
         },
         {
          "date": "7/10/2020",
          "trump": 0.042
         },
         {
          "date": "7/11/2020",
          "trump": 0.036
         },
         {
          "date": "7/12/2020",
          "trump": 0.037
         },
         {
          "date": "7/13/2020",
          "trump": 0.026
         },
         {
          "date": "7/14/2020",
          "trump": 0.028
         },
         {
          "date": "7/15/2020",
          "trump": 0.025
         },
         {
          "date": "7/16/2020",
          "trump": 0.027
         },
         {
          "date": "7/17/2020",
          "trump": 0.037
         },
         {
          "date": "7/18/2020",
          "trump": 0.039
         },
         {
          "date": "7/19/2020",
          "trump": 0.032
         },
         {
          "date": "7/2/2020",
          "trump": 0.018
         },
         {
          "date": "7/20/2020",
          "trump": 0.031
         },
         {
          "date": "7/21/2020",
          "trump": 0.051
         },
         {
          "date": "7/22/2020",
          "trump": 0.029
         },
         {
          "date": "7/23/2020",
          "trump": 0.039
         },
         {
          "date": "7/24/2020",
          "trump": 0.034
         },
         {
          "date": "7/25/2020",
          "trump": 0.044
         },
         {
          "date": "7/26/2020",
          "trump": 0.03
         },
         {
          "date": "7/27/2020",
          "trump": 0.037
         },
         {
          "date": "7/28/2020",
          "trump": 0.04
         },
         {
          "date": "7/29/2020",
          "trump": 0.037
         },
         {
          "date": "7/3/2020",
          "trump": 0.025
         },
         {
          "date": "7/30/2020",
          "trump": 0.04
         },
         {
          "date": "7/31/2020",
          "trump": 0.049
         },
         {
          "date": "7/4/2020",
          "trump": 0.027
         },
         {
          "date": "7/5/2020",
          "trump": 0.016
         },
         {
          "date": "7/6/2020",
          "trump": 0.044
         },
         {
          "date": "7/7/2020",
          "trump": 0.04
         },
         {
          "date": "7/8/2020",
          "trump": 0.034
         },
         {
          "date": "7/9/2020",
          "trump": 0.035
         },
         {
          "date": "8/1/2020",
          "trump": 0.065
         },
         {
          "date": "8/10/2020",
          "trump": 0.044
         },
         {
          "date": "8/11/2020",
          "trump": 0.054
         },
         {
          "date": "8/12/2020",
          "trump": 0.063
         },
         {
          "date": "8/13/2020",
          "trump": 0.059
         },
         {
          "date": "8/14/2020",
          "trump": 0.044
         },
         {
          "date": "8/15/2020",
          "trump": 0.042
         },
         {
          "date": "8/16/2020",
          "trump": 0.057
         },
         {
          "date": "8/17/2020",
          "trump": 0.052
         },
         {
          "date": "8/18/2020",
          "trump": 0.051
         },
         {
          "date": "8/19/2020",
          "trump": 0.045
         },
         {
          "date": "8/2/2020",
          "trump": 0.042
         },
         {
          "date": "8/20/2020",
          "trump": 0.06
         },
         {
          "date": "8/21/2020",
          "trump": 0.058
         },
         {
          "date": "8/22/2020",
          "trump": 0.048
         },
         {
          "date": "8/23/2020",
          "trump": 0.037
         },
         {
          "date": "8/24/2020",
          "trump": 0.045
         },
         {
          "date": "8/25/2020",
          "trump": 0.035
         },
         {
          "date": "8/26/2020",
          "trump": 0.09
         },
         {
          "date": "8/27/2020",
          "trump": 0.081
         },
         {
          "date": "8/28/2020",
          "trump": 0.064
         },
         {
          "date": "8/29/2020",
          "trump": 0.084
         },
         {
          "date": "8/3/2020",
          "trump": 0.052
         },
         {
          "date": "8/30/2020",
          "trump": 0.094
         },
         {
          "date": "8/31/2020",
          "trump": 0.109
         },
         {
          "date": "8/4/2020",
          "trump": 0.049
         },
         {
          "date": "8/5/2020",
          "trump": 0.073
         },
         {
          "date": "8/6/2020",
          "trump": 0.067
         },
         {
          "date": "8/7/2020",
          "trump": 0.06
         },
         {
          "date": "8/8/2020",
          "trump": 0.057
         },
         {
          "date": "8/9/2020",
          "trump": 0.061
         },
         {
          "date": "9/1/2020",
          "trump": 0.087
         },
         {
          "date": "9/10/2020",
          "trump": 0.036
         },
         {
          "date": "9/11/2020",
          "trump": 0.02
         },
         {
          "date": "9/12/2020",
          "trump": 0.04
         },
         {
          "date": "9/13/2020",
          "trump": 0.041
         },
         {
          "date": "9/14/2020",
          "trump": 0.031
         },
         {
          "date": "9/15/2020",
          "trump": 0.043
         },
         {
          "date": "9/16/2020",
          "trump": 0.023
         },
         {
          "date": "9/17/2020",
          "trump": 0.03
         },
         {
          "date": "9/18/2020",
          "trump": 0.032
         },
         {
          "date": "9/2/2020",
          "trump": 0.069
         },
         {
          "date": "9/3/2020",
          "trump": 0.071
         },
         {
          "date": "9/4/2020",
          "trump": 0.068
         },
         {
          "date": "9/5/2020",
          "trump": 0.069
         },
         {
          "date": "9/6/2020",
          "trump": 0.064
         },
         {
          "date": "9/7/2020",
          "trump": 0.06
         },
         {
          "date": "9/8/2020",
          "trump": 0.05
         },
         {
          "date": "9/9/2020",
          "trump": 0.04
         }
        ]
       },
       "encoding": {
        "x": {
         "field": "date",
         "type": "nominal"
        },
        "y": {
         "field": "trump",
         "type": "quantitative"
        }
       },
       "height": 600,
       "mark": "line",
       "width": 800
      },
      "image/png": "[encoded data removed]",
      "image/svg+xml": [
       "<?xml version=\"1.0\" encoding=\"utf-8\"?>\n",
       "<!DOCTYPE svg PUBLIC \"-//W3C//DTD SVG 1.1//EN\" \"http://www.w3.org/Graphics/SVG/1.1/DTD/svg11.dtd\">\n",
       "<svg class=\"marks\" width=\"855\" height=\"685\" viewBox=\"0 0 855 685\" version=\"1.1\" xmlns=\"http://www.w3.org/2000/svg\" xmlns:xlink=\"http://www.w3.org/1999/xlink\"><rect width=\"855\" height=\"685\" fill=\"white\"></rect><g fill=\"none\" stroke-miterlimit=\"10\" transform=\"translate(48,10)\"><g class=\"mark-group role-frame root\" role=\"graphics-object\" aria-roledescription=\"group mark container\"><g transform=\"translate(0,0)\"><path class=\"background\" aria-hidden=\"true\" d=\"M0.5,0.5h800v600h-800Z\" stroke=\"#ddd\"></path><g><g class=\"mark-group role-axis\" aria-hidden=\"true\"><g transform=\"translate(0.5,0.5)\"><path class=\"background\" aria-hidden=\"true\" d=\"M0,0h0v0h0Z\" pointer-events=\"none\"></path><g><g class=\"mark-rule role-axis-grid\" pointer-events=\"none\"><line transform=\"translate(0,600)\" x2=\"800\" y2=\"0\" stroke=\"#ddd\" stroke-width=\"1\" opacity=\"1\"></line><line transform=\"translate(0,545)\" x2=\"800\" y2=\"0\" stroke=\"#ddd\" stroke-width=\"1\" opacity=\"1\"></line><line transform=\"translate(0,491)\" x2=\"800\" y2=\"0\" stroke=\"#ddd\" stroke-width=\"1\" opacity=\"1\"></line><line transform=\"translate(0,436)\" x2=\"800\" y2=\"0\" stroke=\"#ddd\" stroke-width=\"1\" opacity=\"1\"></line><line transform=\"translate(0,382)\" x2=\"800\" y2=\"0\" stroke=\"#ddd\" stroke-width=\"1\" opacity=\"1\"></line><line transform=\"translate(0,327)\" x2=\"800\" y2=\"0\" stroke=\"#ddd\" stroke-width=\"1\" opacity=\"1\"></line><line transform=\"translate(0,273)\" x2=\"800\" y2=\"0\" stroke=\"#ddd\" stroke-width=\"1\" opacity=\"1\"></line><line transform=\"translate(0,218)\" x2=\"800\" y2=\"0\" stroke=\"#ddd\" stroke-width=\"1\" opacity=\"1\"></line><line transform=\"translate(0,164)\" x2=\"800\" y2=\"0\" stroke=\"#ddd\" stroke-width=\"1\" opacity=\"1\"></line><line transform=\"translate(0,109)\" x2=\"800\" y2=\"0\" stroke=\"#ddd\" stroke-width=\"1\" opacity=\"1\"></line><line transform=\"translate(0,55)\" x2=\"800\" y2=\"0\" stroke=\"#ddd\" stroke-width=\"1\" opacity=\"1\"></line><line transform=\"translate(0,0)\" x2=\"800\" y2=\"0\" stroke=\"#ddd\" stroke-width=\"1\" opacity=\"1\"></line></g></g><path class=\"foreground\" aria-hidden=\"true\" d=\"\" pointer-events=\"none\" display=\"none\"></path></g></g><g class=\"mark-group role-axis\" role=\"graphics-symbol\" aria-roledescription=\"axis\" aria-label=\"X-axis titled 'date' for a discrete scale with 110 values: 6/1/2020, 6/10/2020, 6/11/2020, 6/12/2020, 6/13/2020, ending with 9/9/2020\"><g transform=\"translate(0.5,600.5)\"><path class=\"background\" aria-hidden=\"true\" d=\"M0,0h0v0h0Z\" pointer-events=\"none\"></path><g><g class=\"mark-rule role-axis-tick\" pointer-events=\"none\"><line transform=\"translate(4,0)\" x2=\"0\" y2=\"5\" stroke=\"#888\" stroke-width=\"1\" opacity=\"1\"></line><line transform=\"translate(11,0)\" x2=\"0\" y2=\"5\" stroke=\"#888\" stroke-width=\"1\" opacity=\"1\"></line><line transform=\"translate(18,0)\" x2=\"0\" y2=\"5\" stroke=\"#888\" stroke-width=\"1\" opacity=\"1\"></line><line transform=\"translate(25,0)\" x2=\"0\" y2=\"5\" stroke=\"#888\" stroke-width=\"1\" opacity=\"1\"></line><line transform=\"translate(33,0)\" x2=\"0\" y2=\"5\" stroke=\"#888\" stroke-width=\"1\" opacity=\"1\"></line><line transform=\"translate(40,0)\" x2=\"0\" y2=\"5\" stroke=\"#888\" stroke-width=\"1\" opacity=\"1\"></line><line transform=\"translate(47,0)\" x2=\"0\" y2=\"5\" stroke=\"#888\" stroke-width=\"1\" opacity=\"1\"></line><line transform=\"translate(55,0)\" x2=\"0\" y2=\"5\" stroke=\"#888\" stroke-width=\"1\" opacity=\"1\"></line><line transform=\"translate(62,0)\" x2=\"0\" y2=\"5\" stroke=\"#888\" stroke-width=\"1\" opacity=\"1\"></line><line transform=\"translate(69,0)\" x2=\"0\" y2=\"5\" stroke=\"#888\" stroke-width=\"1\" opacity=\"1\"></line><line transform=\"translate(76,0)\" x2=\"0\" y2=\"5\" stroke=\"#888\" stroke-width=\"1\" opacity=\"1\"></line><line transform=\"translate(84,0)\" x2=\"0\" y2=\"5\" stroke=\"#888\" stroke-width=\"1\" opacity=\"1\"></line><line transform=\"translate(91,0)\" x2=\"0\" y2=\"5\" stroke=\"#888\" stroke-width=\"1\" opacity=\"1\"></line><line transform=\"translate(98,0)\" x2=\"0\" y2=\"5\" stroke=\"#888\" stroke-width=\"1\" opacity=\"1\"></line><line transform=\"translate(105,0)\" x2=\"0\" y2=\"5\" stroke=\"#888\" stroke-width=\"1\" opacity=\"1\"></line><line transform=\"translate(113,0)\" x2=\"0\" y2=\"5\" stroke=\"#888\" stroke-width=\"1\" opacity=\"1\"></line><line transform=\"translate(120,0)\" x2=\"0\" y2=\"5\" stroke=\"#888\" stroke-width=\"1\" opacity=\"1\"></line><line transform=\"translate(127,0)\" x2=\"0\" y2=\"5\" stroke=\"#888\" stroke-width=\"1\" opacity=\"1\"></line><line transform=\"translate(135,0)\" x2=\"0\" y2=\"5\" stroke=\"#888\" stroke-width=\"1\" opacity=\"1\"></line><line transform=\"translate(142,0)\" x2=\"0\" y2=\"5\" stroke=\"#888\" stroke-width=\"1\" opacity=\"1\"></line><line transform=\"translate(149,0)\" x2=\"0\" y2=\"5\" stroke=\"#888\" stroke-width=\"1\" opacity=\"1\"></line><line transform=\"translate(156,0)\" x2=\"0\" y2=\"5\" stroke=\"#888\" stroke-width=\"1\" opacity=\"1\"></line><line transform=\"translate(164,0)\" x2=\"0\" y2=\"5\" stroke=\"#888\" stroke-width=\"1\" opacity=\"1\"></line><line transform=\"translate(171,0)\" x2=\"0\" y2=\"5\" stroke=\"#888\" stroke-width=\"1\" opacity=\"1\"></line><line transform=\"translate(178,0)\" x2=\"0\" y2=\"5\" stroke=\"#888\" stroke-width=\"1\" opacity=\"1\"></line><line transform=\"translate(185,0)\" x2=\"0\" y2=\"5\" stroke=\"#888\" stroke-width=\"1\" opacity=\"1\"></line><line transform=\"translate(193,0)\" x2=\"0\" y2=\"5\" stroke=\"#888\" stroke-width=\"1\" opacity=\"1\"></line><line transform=\"translate(200,0)\" x2=\"0\" y2=\"5\" stroke=\"#888\" stroke-width=\"1\" opacity=\"1\"></line><line transform=\"translate(207,0)\" x2=\"0\" y2=\"5\" stroke=\"#888\" stroke-width=\"1\" opacity=\"1\"></line><line transform=\"translate(215,0)\" x2=\"0\" y2=\"5\" stroke=\"#888\" stroke-width=\"1\" opacity=\"1\"></line><line transform=\"translate(222,0)\" x2=\"0\" y2=\"5\" stroke=\"#888\" stroke-width=\"1\" opacity=\"1\"></line><line transform=\"translate(229,0)\" x2=\"0\" y2=\"5\" stroke=\"#888\" stroke-width=\"1\" opacity=\"1\"></line><line transform=\"translate(236,0)\" x2=\"0\" y2=\"5\" stroke=\"#888\" stroke-width=\"1\" opacity=\"1\"></line><line transform=\"translate(244,0)\" x2=\"0\" y2=\"5\" stroke=\"#888\" stroke-width=\"1\" opacity=\"1\"></line><line transform=\"translate(251,0)\" x2=\"0\" y2=\"5\" stroke=\"#888\" stroke-width=\"1\" opacity=\"1\"></line><line transform=\"translate(258,0)\" x2=\"0\" y2=\"5\" stroke=\"#888\" stroke-width=\"1\" opacity=\"1\"></line><line transform=\"translate(265,0)\" x2=\"0\" y2=\"5\" stroke=\"#888\" stroke-width=\"1\" opacity=\"1\"></line><line transform=\"translate(273,0)\" x2=\"0\" y2=\"5\" stroke=\"#888\" stroke-width=\"1\" opacity=\"1\"></line><line transform=\"translate(280,0)\" x2=\"0\" y2=\"5\" stroke=\"#888\" stroke-width=\"1\" opacity=\"1\"></line><line transform=\"translate(287,0)\" x2=\"0\" y2=\"5\" stroke=\"#888\" stroke-width=\"1\" opacity=\"1\"></line><line transform=\"translate(295,0)\" x2=\"0\" y2=\"5\" stroke=\"#888\" stroke-width=\"1\" opacity=\"1\"></line><line transform=\"translate(302,0)\" x2=\"0\" y2=\"5\" stroke=\"#888\" stroke-width=\"1\" opacity=\"1\"></line><line transform=\"translate(309,0)\" x2=\"0\" y2=\"5\" stroke=\"#888\" stroke-width=\"1\" opacity=\"1\"></line><line transform=\"translate(316,0)\" x2=\"0\" y2=\"5\" stroke=\"#888\" stroke-width=\"1\" opacity=\"1\"></line><line transform=\"translate(324,0)\" x2=\"0\" y2=\"5\" stroke=\"#888\" stroke-width=\"1\" opacity=\"1\"></line><line transform=\"translate(331,0)\" x2=\"0\" y2=\"5\" stroke=\"#888\" stroke-width=\"1\" opacity=\"1\"></line><line transform=\"translate(338,0)\" x2=\"0\" y2=\"5\" stroke=\"#888\" stroke-width=\"1\" opacity=\"1\"></line><line transform=\"translate(345,0)\" x2=\"0\" y2=\"5\" stroke=\"#888\" stroke-width=\"1\" opacity=\"1\"></line><line transform=\"translate(353,0)\" x2=\"0\" y2=\"5\" stroke=\"#888\" stroke-width=\"1\" opacity=\"1\"></line><line transform=\"translate(360,0)\" x2=\"0\" y2=\"5\" stroke=\"#888\" stroke-width=\"1\" opacity=\"1\"></line><line transform=\"translate(367,0)\" x2=\"0\" y2=\"5\" stroke=\"#888\" stroke-width=\"1\" opacity=\"1\"></line><line transform=\"translate(375,0)\" x2=\"0\" y2=\"5\" stroke=\"#888\" stroke-width=\"1\" opacity=\"1\"></line><line transform=\"translate(382,0)\" x2=\"0\" y2=\"5\" stroke=\"#888\" stroke-width=\"1\" opacity=\"1\"></line><line transform=\"translate(389,0)\" x2=\"0\" y2=\"5\" stroke=\"#888\" stroke-width=\"1\" opacity=\"1\"></line><line transform=\"translate(396,0)\" x2=\"0\" y2=\"5\" stroke=\"#888\" stroke-width=\"1\" opacity=\"1\"></line><line transform=\"translate(404,0)\" x2=\"0\" y2=\"5\" stroke=\"#888\" stroke-width=\"1\" opacity=\"1\"></line><line transform=\"translate(411,0)\" x2=\"0\" y2=\"5\" stroke=\"#888\" stroke-width=\"1\" opacity=\"1\"></line><line transform=\"translate(418,0)\" x2=\"0\" y2=\"5\" stroke=\"#888\" stroke-width=\"1\" opacity=\"1\"></line><line transform=\"translate(425,0)\" x2=\"0\" y2=\"5\" stroke=\"#888\" stroke-width=\"1\" opacity=\"1\"></line><line transform=\"translate(433,0)\" x2=\"0\" y2=\"5\" stroke=\"#888\" stroke-width=\"1\" opacity=\"1\"></line><line transform=\"translate(440,0)\" x2=\"0\" y2=\"5\" stroke=\"#888\" stroke-width=\"1\" opacity=\"1\"></line><line transform=\"translate(447,0)\" x2=\"0\" y2=\"5\" stroke=\"#888\" stroke-width=\"1\" opacity=\"1\"></line><line transform=\"translate(455,0)\" x2=\"0\" y2=\"5\" stroke=\"#888\" stroke-width=\"1\" opacity=\"1\"></line><line transform=\"translate(462,0)\" x2=\"0\" y2=\"5\" stroke=\"#888\" stroke-width=\"1\" opacity=\"1\"></line><line transform=\"translate(469,0)\" x2=\"0\" y2=\"5\" stroke=\"#888\" stroke-width=\"1\" opacity=\"1\"></line><line transform=\"translate(476,0)\" x2=\"0\" y2=\"5\" stroke=\"#888\" stroke-width=\"1\" opacity=\"1\"></line><line transform=\"translate(484,0)\" x2=\"0\" y2=\"5\" stroke=\"#888\" stroke-width=\"1\" opacity=\"1\"></line><line transform=\"translate(491,0)\" x2=\"0\" y2=\"5\" stroke=\"#888\" stroke-width=\"1\" opacity=\"1\"></line><line transform=\"translate(498,0)\" x2=\"0\" y2=\"5\" stroke=\"#888\" stroke-width=\"1\" opacity=\"1\"></line><line transform=\"translate(505,0)\" x2=\"0\" y2=\"5\" stroke=\"#888\" stroke-width=\"1\" opacity=\"1\"></line><line transform=\"translate(513,0)\" x2=\"0\" y2=\"5\" stroke=\"#888\" stroke-width=\"1\" opacity=\"1\"></line><line transform=\"translate(520,0)\" x2=\"0\" y2=\"5\" stroke=\"#888\" stroke-width=\"1\" opacity=\"1\"></line><line transform=\"translate(527,0)\" x2=\"0\" y2=\"5\" stroke=\"#888\" stroke-width=\"1\" opacity=\"1\"></line><line transform=\"translate(535,0)\" x2=\"0\" y2=\"5\" stroke=\"#888\" stroke-width=\"1\" opacity=\"1\"></line><line transform=\"translate(542,0)\" x2=\"0\" y2=\"5\" stroke=\"#888\" stroke-width=\"1\" opacity=\"1\"></line><line transform=\"translate(549,0)\" x2=\"0\" y2=\"5\" stroke=\"#888\" stroke-width=\"1\" opacity=\"1\"></line><line transform=\"translate(556,0)\" x2=\"0\" y2=\"5\" stroke=\"#888\" stroke-width=\"1\" opacity=\"1\"></line><line transform=\"translate(564,0)\" x2=\"0\" y2=\"5\" stroke=\"#888\" stroke-width=\"1\" opacity=\"1\"></line><line transform=\"translate(571,0)\" x2=\"0\" y2=\"5\" stroke=\"#888\" stroke-width=\"1\" opacity=\"1\"></line><line transform=\"translate(578,0)\" x2=\"0\" y2=\"5\" stroke=\"#888\" stroke-width=\"1\" opacity=\"1\"></line><line transform=\"translate(585,0)\" x2=\"0\" y2=\"5\" stroke=\"#888\" stroke-width=\"1\" opacity=\"1\"></line><line transform=\"translate(593,0)\" x2=\"0\" y2=\"5\" stroke=\"#888\" stroke-width=\"1\" opacity=\"1\"></line><line transform=\"translate(600,0)\" x2=\"0\" y2=\"5\" stroke=\"#888\" stroke-width=\"1\" opacity=\"1\"></line><line transform=\"translate(607,0)\" x2=\"0\" y2=\"5\" stroke=\"#888\" stroke-width=\"1\" opacity=\"1\"></line><line transform=\"translate(615,0)\" x2=\"0\" y2=\"5\" stroke=\"#888\" stroke-width=\"1\" opacity=\"1\"></line><line transform=\"translate(622,0)\" x2=\"0\" y2=\"5\" stroke=\"#888\" stroke-width=\"1\" opacity=\"1\"></line><line transform=\"translate(629,0)\" x2=\"0\" y2=\"5\" stroke=\"#888\" stroke-width=\"1\" opacity=\"1\"></line><line transform=\"translate(636,0)\" x2=\"0\" y2=\"5\" stroke=\"#888\" stroke-width=\"1\" opacity=\"1\"></line><line transform=\"translate(644,0)\" x2=\"0\" y2=\"5\" stroke=\"#888\" stroke-width=\"1\" opacity=\"1\"></line><line transform=\"translate(651,0)\" x2=\"0\" y2=\"5\" stroke=\"#888\" stroke-width=\"1\" opacity=\"1\"></line><line transform=\"translate(658,0)\" x2=\"0\" y2=\"5\" stroke=\"#888\" stroke-width=\"1\" opacity=\"1\"></line><line transform=\"translate(665,0)\" x2=\"0\" y2=\"5\" stroke=\"#888\" stroke-width=\"1\" opacity=\"1\"></line><line transform=\"translate(673,0)\" x2=\"0\" y2=\"5\" stroke=\"#888\" stroke-width=\"1\" opacity=\"1\"></line><line transform=\"translate(680,0)\" x2=\"0\" y2=\"5\" stroke=\"#888\" stroke-width=\"1\" opacity=\"1\"></line><line transform=\"translate(687,0)\" x2=\"0\" y2=\"5\" stroke=\"#888\" stroke-width=\"1\" opacity=\"1\"></line><line transform=\"translate(695,0)\" x2=\"0\" y2=\"5\" stroke=\"#888\" stroke-width=\"1\" opacity=\"1\"></line><line transform=\"translate(702,0)\" x2=\"0\" y2=\"5\" stroke=\"#888\" stroke-width=\"1\" opacity=\"1\"></line><line transform=\"translate(709,0)\" x2=\"0\" y2=\"5\" stroke=\"#888\" stroke-width=\"1\" opacity=\"1\"></line><line transform=\"translate(716,0)\" x2=\"0\" y2=\"5\" stroke=\"#888\" stroke-width=\"1\" opacity=\"1\"></line><line transform=\"translate(724,0)\" x2=\"0\" y2=\"5\" stroke=\"#888\" stroke-width=\"1\" opacity=\"1\"></line><line transform=\"translate(731,0)\" x2=\"0\" y2=\"5\" stroke=\"#888\" stroke-width=\"1\" opacity=\"1\"></line><line transform=\"translate(738,0)\" x2=\"0\" y2=\"5\" stroke=\"#888\" stroke-width=\"1\" opacity=\"1\"></line><line transform=\"translate(745,0)\" x2=\"0\" y2=\"5\" stroke=\"#888\" stroke-width=\"1\" opacity=\"1\"></line><line transform=\"translate(753,0)\" x2=\"0\" y2=\"5\" stroke=\"#888\" stroke-width=\"1\" opacity=\"1\"></line><line transform=\"translate(760,0)\" x2=\"0\" y2=\"5\" stroke=\"#888\" stroke-width=\"1\" opacity=\"1\"></line><line transform=\"translate(767,0)\" x2=\"0\" y2=\"5\" stroke=\"#888\" stroke-width=\"1\" opacity=\"1\"></line><line transform=\"translate(775,0)\" x2=\"0\" y2=\"5\" stroke=\"#888\" stroke-width=\"1\" opacity=\"1\"></line><line transform=\"translate(782,0)\" x2=\"0\" y2=\"5\" stroke=\"#888\" stroke-width=\"1\" opacity=\"1\"></line><line transform=\"translate(789,0)\" x2=\"0\" y2=\"5\" stroke=\"#888\" stroke-width=\"1\" opacity=\"1\"></line><line transform=\"translate(796,0)\" x2=\"0\" y2=\"5\" stroke=\"#888\" stroke-width=\"1\" opacity=\"1\"></line></g><g class=\"mark-text role-axis-label\" pointer-events=\"none\"><text text-anchor=\"end\" transform=\"translate(3.636363636363626,7) rotate(270) translate(0,3)\" font-family=\"sans-serif\" font-size=\"10px\" fill=\"#000\" opacity=\"1\">6/1/2020</text><text text-anchor=\"end\" transform=\"translate(10.9090909090909,7) rotate(270) translate(0,3)\" font-family=\"sans-serif\" font-size=\"10px\" fill=\"#000\" opacity=\"1\">6/10/2020</text><text text-anchor=\"end\" transform=\"translate(18.181818181818173,7) rotate(270) translate(0,3)\" font-family=\"sans-serif\" font-size=\"10px\" fill=\"#000\" opacity=\"1\">6/11/2020</text><text text-anchor=\"end\" transform=\"translate(25.454545454545443,7) rotate(270) translate(0,3)\" font-family=\"sans-serif\" font-size=\"10px\" fill=\"#000\" opacity=\"1\">6/12/2020</text><text text-anchor=\"end\" transform=\"translate(32.72727272727272,7) rotate(270) translate(0,3)\" font-family=\"sans-serif\" font-size=\"10px\" fill=\"#000\" opacity=\"1\">6/13/2020</text><text text-anchor=\"end\" transform=\"translate(39.999999999999986,7) rotate(270) translate(0,3)\" font-family=\"sans-serif\" font-size=\"10px\" fill=\"#000\" opacity=\"1\">6/14/2020</text><text text-anchor=\"end\" transform=\"translate(47.27272727272726,7) rotate(270) translate(0,3)\" font-family=\"sans-serif\" font-size=\"10px\" fill=\"#000\" opacity=\"1\">6/15/2020</text><text text-anchor=\"end\" transform=\"translate(54.54545454545453,7) rotate(270) translate(0,3)\" font-family=\"sans-serif\" font-size=\"10px\" fill=\"#000\" opacity=\"1\">6/16/2020</text><text text-anchor=\"end\" transform=\"translate(61.818181818181806,7) rotate(270) translate(0,3)\" font-family=\"sans-serif\" font-size=\"10px\" fill=\"#000\" opacity=\"1\">6/17/2020</text><text text-anchor=\"end\" transform=\"translate(69.09090909090908,7) rotate(270) translate(0,3)\" font-family=\"sans-serif\" font-size=\"10px\" fill=\"#000\" opacity=\"1\">6/18/2020</text><text text-anchor=\"end\" transform=\"translate(76.36363636363635,7) rotate(270) translate(0,3)\" font-family=\"sans-serif\" font-size=\"10px\" fill=\"#000\" opacity=\"1\">6/19/2020</text><text text-anchor=\"end\" transform=\"translate(83.63636363636363,7) rotate(270) translate(0,3)\" font-family=\"sans-serif\" font-size=\"10px\" fill=\"#000\" opacity=\"1\">6/2/2020</text><text text-anchor=\"end\" transform=\"translate(90.90909090909089,7) rotate(270) translate(0,3)\" font-family=\"sans-serif\" font-size=\"10px\" fill=\"#000\" opacity=\"1\">6/20/2020</text><text text-anchor=\"end\" transform=\"translate(98.18181818181817,7) rotate(270) translate(0,3)\" font-family=\"sans-serif\" font-size=\"10px\" fill=\"#000\" opacity=\"1\">6/21/2020</text><text text-anchor=\"end\" transform=\"translate(105.45454545454544,7) rotate(270) translate(0,3)\" font-family=\"sans-serif\" font-size=\"10px\" fill=\"#000\" opacity=\"1\">6/22/2020</text><text text-anchor=\"end\" transform=\"translate(112.72727272727272,7) rotate(270) translate(0,3)\" font-family=\"sans-serif\" font-size=\"10px\" fill=\"#000\" opacity=\"1\">6/23/2020</text><text text-anchor=\"end\" transform=\"translate(119.99999999999999,7) rotate(270) translate(0,3)\" font-family=\"sans-serif\" font-size=\"10px\" fill=\"#000\" opacity=\"1\">6/24/2020</text><text text-anchor=\"end\" transform=\"translate(127.27272727272725,7) rotate(270) translate(0,3)\" font-family=\"sans-serif\" font-size=\"10px\" fill=\"#000\" opacity=\"1\">6/25/2020</text><text text-anchor=\"end\" transform=\"translate(134.54545454545453,7) rotate(270) translate(0,3)\" font-family=\"sans-serif\" font-size=\"10px\" fill=\"#000\" opacity=\"1\">6/26/2020</text><text text-anchor=\"end\" transform=\"translate(141.8181818181818,7) rotate(270) translate(0,3)\" font-family=\"sans-serif\" font-size=\"10px\" fill=\"#000\" opacity=\"1\">6/27/2020</text><text text-anchor=\"end\" transform=\"translate(149.09090909090907,7) rotate(270) translate(0,3)\" font-family=\"sans-serif\" font-size=\"10px\" fill=\"#000\" opacity=\"1\">6/28/2020</text><text text-anchor=\"end\" transform=\"translate(156.36363636363635,7) rotate(270) translate(0,3)\" font-family=\"sans-serif\" font-size=\"10px\" fill=\"#000\" opacity=\"1\">6/29/2020</text><text text-anchor=\"end\" transform=\"translate(163.63636363636363,7) rotate(270) translate(0,3)\" font-family=\"sans-serif\" font-size=\"10px\" fill=\"#000\" opacity=\"1\">6/3/2020</text><text text-anchor=\"end\" transform=\"translate(170.9090909090909,7) rotate(270) translate(0,3)\" font-family=\"sans-serif\" font-size=\"10px\" fill=\"#000\" opacity=\"1\">6/30/2020</text><text text-anchor=\"end\" transform=\"translate(178.18181818181816,7) rotate(270) translate(0,3)\" font-family=\"sans-serif\" font-size=\"10px\" fill=\"#000\" opacity=\"1\">6/4/2020</text><text text-anchor=\"end\" transform=\"translate(185.45454545454544,7) rotate(270) translate(0,3)\" font-family=\"sans-serif\" font-size=\"10px\" fill=\"#000\" opacity=\"1\">6/5/2020</text><text text-anchor=\"end\" transform=\"translate(192.72727272727272,7) rotate(270) translate(0,3)\" font-family=\"sans-serif\" font-size=\"10px\" fill=\"#000\" opacity=\"1\">6/6/2020</text><text text-anchor=\"end\" transform=\"translate(199.99999999999997,7) rotate(270) translate(0,3)\" font-family=\"sans-serif\" font-size=\"10px\" fill=\"#000\" opacity=\"1\">6/7/2020</text><text text-anchor=\"end\" transform=\"translate(207.27272727272725,7) rotate(270) translate(0,3)\" font-family=\"sans-serif\" font-size=\"10px\" fill=\"#000\" opacity=\"1\">6/8/2020</text><text text-anchor=\"end\" transform=\"translate(214.54545454545453,7) rotate(270) translate(0,3)\" font-family=\"sans-serif\" font-size=\"10px\" fill=\"#000\" opacity=\"1\">6/9/2020</text><text text-anchor=\"end\" transform=\"translate(221.8181818181818,7) rotate(270) translate(0,3)\" font-family=\"sans-serif\" font-size=\"10px\" fill=\"#000\" opacity=\"1\">7/1/2020</text><text text-anchor=\"end\" transform=\"translate(229.09090909090907,7) rotate(270) translate(0,3)\" font-family=\"sans-serif\" font-size=\"10px\" fill=\"#000\" opacity=\"1\">7/10/2020</text><text text-anchor=\"end\" transform=\"translate(236.36363636363635,7) rotate(270) translate(0,3)\" font-family=\"sans-serif\" font-size=\"10px\" fill=\"#000\" opacity=\"1\">7/11/2020</text><text text-anchor=\"end\" transform=\"translate(243.63636363636363,7) rotate(270) translate(0,3)\" font-family=\"sans-serif\" font-size=\"10px\" fill=\"#000\" opacity=\"1\">7/12/2020</text><text text-anchor=\"end\" transform=\"translate(250.90909090909088,7) rotate(270) translate(0,3)\" font-family=\"sans-serif\" font-size=\"10px\" fill=\"#000\" opacity=\"1\">7/13/2020</text><text text-anchor=\"end\" transform=\"translate(258.18181818181813,7) rotate(270) translate(0,3)\" font-family=\"sans-serif\" font-size=\"10px\" fill=\"#000\" opacity=\"1\">7/14/2020</text><text text-anchor=\"end\" transform=\"translate(265.45454545454544,7) rotate(270) translate(0,3)\" font-family=\"sans-serif\" font-size=\"10px\" fill=\"#000\" opacity=\"1\">7/15/2020</text><text text-anchor=\"end\" transform=\"translate(272.7272727272727,7) rotate(270) translate(0,3)\" font-family=\"sans-serif\" font-size=\"10px\" fill=\"#000\" opacity=\"1\">7/16/2020</text><text text-anchor=\"end\" transform=\"translate(280,7) rotate(270) translate(0,3)\" font-family=\"sans-serif\" font-size=\"10px\" fill=\"#000\" opacity=\"1\">7/17/2020</text><text text-anchor=\"end\" transform=\"translate(287.27272727272725,7) rotate(270) translate(0,3)\" font-family=\"sans-serif\" font-size=\"10px\" fill=\"#000\" opacity=\"1\">7/18/2020</text><text text-anchor=\"end\" transform=\"translate(294.5454545454545,7) rotate(270) translate(0,3)\" font-family=\"sans-serif\" font-size=\"10px\" fill=\"#000\" opacity=\"1\">7/19/2020</text><text text-anchor=\"end\" transform=\"translate(301.8181818181818,7) rotate(270) translate(0,3)\" font-family=\"sans-serif\" font-size=\"10px\" fill=\"#000\" opacity=\"1\">7/2/2020</text><text text-anchor=\"end\" transform=\"translate(309.09090909090907,7) rotate(270) translate(0,3)\" font-family=\"sans-serif\" font-size=\"10px\" fill=\"#000\" opacity=\"1\">7/20/2020</text><text text-anchor=\"end\" transform=\"translate(316.3636363636363,7) rotate(270) translate(0,3)\" font-family=\"sans-serif\" font-size=\"10px\" fill=\"#000\" opacity=\"1\">7/21/2020</text><text text-anchor=\"end\" transform=\"translate(323.6363636363636,7) rotate(270) translate(0,3)\" font-family=\"sans-serif\" font-size=\"10px\" fill=\"#000\" opacity=\"1\">7/22/2020</text><text text-anchor=\"end\" transform=\"translate(330.9090909090909,7) rotate(270) translate(0,3)\" font-family=\"sans-serif\" font-size=\"10px\" fill=\"#000\" opacity=\"1\">7/23/2020</text><text text-anchor=\"end\" transform=\"translate(338.1818181818182,7) rotate(270) translate(0,3)\" font-family=\"sans-serif\" font-size=\"10px\" fill=\"#000\" opacity=\"1\">7/24/2020</text><text text-anchor=\"end\" transform=\"translate(345.45454545454544,7) rotate(270) translate(0,3)\" font-family=\"sans-serif\" font-size=\"10px\" fill=\"#000\" opacity=\"1\">7/25/2020</text><text text-anchor=\"end\" transform=\"translate(352.7272727272727,7) rotate(270) translate(0,3)\" font-family=\"sans-serif\" font-size=\"10px\" fill=\"#000\" opacity=\"1\">7/26/2020</text><text text-anchor=\"end\" transform=\"translate(360,7) rotate(270) translate(0,3)\" font-family=\"sans-serif\" font-size=\"10px\" fill=\"#000\" opacity=\"1\">7/27/2020</text><text text-anchor=\"end\" transform=\"translate(367.27272727272725,7) rotate(270) translate(0,3)\" font-family=\"sans-serif\" font-size=\"10px\" fill=\"#000\" opacity=\"1\">7/28/2020</text><text text-anchor=\"end\" transform=\"translate(374.5454545454545,7) rotate(270) translate(0,3)\" font-family=\"sans-serif\" font-size=\"10px\" fill=\"#000\" opacity=\"1\">7/29/2020</text><text text-anchor=\"end\" transform=\"translate(381.8181818181818,7) rotate(270) translate(0,3)\" font-family=\"sans-serif\" font-size=\"10px\" fill=\"#000\" opacity=\"1\">7/3/2020</text><text text-anchor=\"end\" transform=\"translate(389.09090909090907,7) rotate(270) translate(0,3)\" font-family=\"sans-serif\" font-size=\"10px\" fill=\"#000\" opacity=\"1\">7/30/2020</text><text text-anchor=\"end\" transform=\"translate(396.3636363636363,7) rotate(270) translate(0,3)\" font-family=\"sans-serif\" font-size=\"10px\" fill=\"#000\" opacity=\"1\">7/31/2020</text><text text-anchor=\"end\" transform=\"translate(403.6363636363636,7) rotate(270) translate(0,3)\" font-family=\"sans-serif\" font-size=\"10px\" fill=\"#000\" opacity=\"1\">7/4/2020</text><text text-anchor=\"end\" transform=\"translate(410.9090909090909,7) rotate(270) translate(0,3)\" font-family=\"sans-serif\" font-size=\"10px\" fill=\"#000\" opacity=\"1\">7/5/2020</text><text text-anchor=\"end\" transform=\"translate(418.18181818181813,7) rotate(270) translate(0,3)\" font-family=\"sans-serif\" font-size=\"10px\" fill=\"#000\" opacity=\"1\">7/6/2020</text><text text-anchor=\"end\" transform=\"translate(425.45454545454544,7) rotate(270) translate(0,3)\" font-family=\"sans-serif\" font-size=\"10px\" fill=\"#000\" opacity=\"1\">7/7/2020</text><text text-anchor=\"end\" transform=\"translate(432.7272727272727,7) rotate(270) translate(0,3)\" font-family=\"sans-serif\" font-size=\"10px\" fill=\"#000\" opacity=\"1\">7/8/2020</text><text text-anchor=\"end\" transform=\"translate(440,7) rotate(270) translate(0,3)\" font-family=\"sans-serif\" font-size=\"10px\" fill=\"#000\" opacity=\"1\">7/9/2020</text><text text-anchor=\"end\" transform=\"translate(447.27272727272725,7) rotate(270) translate(0,3)\" font-family=\"sans-serif\" font-size=\"10px\" fill=\"#000\" opacity=\"1\">8/1/2020</text><text text-anchor=\"end\" transform=\"translate(454.5454545454545,7) rotate(270) translate(0,3)\" font-family=\"sans-serif\" font-size=\"10px\" fill=\"#000\" opacity=\"1\">8/10/2020</text><text text-anchor=\"end\" transform=\"translate(461.8181818181818,7) rotate(270) translate(0,3)\" font-family=\"sans-serif\" font-size=\"10px\" fill=\"#000\" opacity=\"1\">8/11/2020</text><text text-anchor=\"end\" transform=\"translate(469.09090909090907,7) rotate(270) translate(0,3)\" font-family=\"sans-serif\" font-size=\"10px\" fill=\"#000\" opacity=\"1\">8/12/2020</text><text text-anchor=\"end\" transform=\"translate(476.3636363636363,7) rotate(270) translate(0,3)\" font-family=\"sans-serif\" font-size=\"10px\" fill=\"#000\" opacity=\"1\">8/13/2020</text><text text-anchor=\"end\" transform=\"translate(483.6363636363636,7) rotate(270) translate(0,3)\" font-family=\"sans-serif\" font-size=\"10px\" fill=\"#000\" opacity=\"1\">8/14/2020</text><text text-anchor=\"end\" transform=\"translate(490.9090909090909,7) rotate(270) translate(0,3)\" font-family=\"sans-serif\" font-size=\"10px\" fill=\"#000\" opacity=\"1\">8/15/2020</text><text text-anchor=\"end\" transform=\"translate(498.18181818181813,7) rotate(270) translate(0,3)\" font-family=\"sans-serif\" font-size=\"10px\" fill=\"#000\" opacity=\"1\">8/16/2020</text><text text-anchor=\"end\" transform=\"translate(505.45454545454544,7) rotate(270) translate(0,3)\" font-family=\"sans-serif\" font-size=\"10px\" fill=\"#000\" opacity=\"1\">8/17/2020</text><text text-anchor=\"end\" transform=\"translate(512.7272727272727,7) rotate(270) translate(0,3)\" font-family=\"sans-serif\" font-size=\"10px\" fill=\"#000\" opacity=\"1\">8/18/2020</text><text text-anchor=\"end\" transform=\"translate(520,7) rotate(270) translate(0,3)\" font-family=\"sans-serif\" font-size=\"10px\" fill=\"#000\" opacity=\"1\">8/19/2020</text><text text-anchor=\"end\" transform=\"translate(527.2727272727273,7) rotate(270) translate(0,3)\" font-family=\"sans-serif\" font-size=\"10px\" fill=\"#000\" opacity=\"1\">8/2/2020</text><text text-anchor=\"end\" transform=\"translate(534.5454545454545,7) rotate(270) translate(0,3)\" font-family=\"sans-serif\" font-size=\"10px\" fill=\"#000\" opacity=\"1\">8/20/2020</text><text text-anchor=\"end\" transform=\"translate(541.8181818181818,7) rotate(270) translate(0,3)\" font-family=\"sans-serif\" font-size=\"10px\" fill=\"#000\" opacity=\"1\">8/21/2020</text><text text-anchor=\"end\" transform=\"translate(549.090909090909,7) rotate(270) translate(0,3)\" font-family=\"sans-serif\" font-size=\"10px\" fill=\"#000\" opacity=\"1\">8/22/2020</text><text text-anchor=\"end\" transform=\"translate(556.3636363636364,7) rotate(270) translate(0,3)\" font-family=\"sans-serif\" font-size=\"10px\" fill=\"#000\" opacity=\"1\">8/23/2020</text><text text-anchor=\"end\" transform=\"translate(563.6363636363636,7) rotate(270) translate(0,3)\" font-family=\"sans-serif\" font-size=\"10px\" fill=\"#000\" opacity=\"1\">8/24/2020</text><text text-anchor=\"end\" transform=\"translate(570.9090909090909,7) rotate(270) translate(0,3)\" font-family=\"sans-serif\" font-size=\"10px\" fill=\"#000\" opacity=\"1\">8/25/2020</text><text text-anchor=\"end\" transform=\"translate(578.1818181818181,7) rotate(270) translate(0,3)\" font-family=\"sans-serif\" font-size=\"10px\" fill=\"#000\" opacity=\"1\">8/26/2020</text><text text-anchor=\"end\" transform=\"translate(585.4545454545454,7) rotate(270) translate(0,3)\" font-family=\"sans-serif\" font-size=\"10px\" fill=\"#000\" opacity=\"1\">8/27/2020</text><text text-anchor=\"end\" transform=\"translate(592.7272727272727,7) rotate(270) translate(0,3)\" font-family=\"sans-serif\" font-size=\"10px\" fill=\"#000\" opacity=\"1\">8/28/2020</text><text text-anchor=\"end\" transform=\"translate(600,7) rotate(270) translate(0,3)\" font-family=\"sans-serif\" font-size=\"10px\" fill=\"#000\" opacity=\"1\">8/29/2020</text><text text-anchor=\"end\" transform=\"translate(607.2727272727273,7) rotate(270) translate(0,3)\" font-family=\"sans-serif\" font-size=\"10px\" fill=\"#000\" opacity=\"1\">8/3/2020</text><text text-anchor=\"end\" transform=\"translate(614.5454545454545,7) rotate(270) translate(0,3)\" font-family=\"sans-serif\" font-size=\"10px\" fill=\"#000\" opacity=\"1\">8/30/2020</text><text text-anchor=\"end\" transform=\"translate(621.8181818181818,7) rotate(270) translate(0,3)\" font-family=\"sans-serif\" font-size=\"10px\" fill=\"#000\" opacity=\"1\">8/31/2020</text><text text-anchor=\"end\" transform=\"translate(629.090909090909,7) rotate(270) translate(0,3)\" font-family=\"sans-serif\" font-size=\"10px\" fill=\"#000\" opacity=\"1\">8/4/2020</text><text text-anchor=\"end\" transform=\"translate(636.3636363636364,7) rotate(270) translate(0,3)\" font-family=\"sans-serif\" font-size=\"10px\" fill=\"#000\" opacity=\"1\">8/5/2020</text><text text-anchor=\"end\" transform=\"translate(643.6363636363636,7) rotate(270) translate(0,3)\" font-family=\"sans-serif\" font-size=\"10px\" fill=\"#000\" opacity=\"1\">8/6/2020</text><text text-anchor=\"end\" transform=\"translate(650.9090909090909,7) rotate(270) translate(0,3)\" font-family=\"sans-serif\" font-size=\"10px\" fill=\"#000\" opacity=\"1\">8/7/2020</text><text text-anchor=\"end\" transform=\"translate(658.1818181818181,7) rotate(270) translate(0,3)\" font-family=\"sans-serif\" font-size=\"10px\" fill=\"#000\" opacity=\"1\">8/8/2020</text><text text-anchor=\"end\" transform=\"translate(665.4545454545454,7) rotate(270) translate(0,3)\" font-family=\"sans-serif\" font-size=\"10px\" fill=\"#000\" opacity=\"1\">8/9/2020</text><text text-anchor=\"end\" transform=\"translate(672.7272727272727,7) rotate(270) translate(0,3)\" font-family=\"sans-serif\" font-size=\"10px\" fill=\"#000\" opacity=\"1\">9/1/2020</text><text text-anchor=\"end\" transform=\"translate(680,7) rotate(270) translate(0,3)\" font-family=\"sans-serif\" font-size=\"10px\" fill=\"#000\" opacity=\"1\">9/10/2020</text><text text-anchor=\"end\" transform=\"translate(687.2727272727273,7) rotate(270) translate(0,3)\" font-family=\"sans-serif\" font-size=\"10px\" fill=\"#000\" opacity=\"1\">9/11/2020</text><text text-anchor=\"end\" transform=\"translate(694.5454545454545,7) rotate(270) translate(0,3)\" font-family=\"sans-serif\" font-size=\"10px\" fill=\"#000\" opacity=\"1\">9/12/2020</text><text text-anchor=\"end\" transform=\"translate(701.8181818181818,7) rotate(270) translate(0,3)\" font-family=\"sans-serif\" font-size=\"10px\" fill=\"#000\" opacity=\"1\">9/13/2020</text><text text-anchor=\"end\" transform=\"translate(709.090909090909,7) rotate(270) translate(0,3)\" font-family=\"sans-serif\" font-size=\"10px\" fill=\"#000\" opacity=\"1\">9/14/2020</text><text text-anchor=\"end\" transform=\"translate(716.3636363636364,7) rotate(270) translate(0,3)\" font-family=\"sans-serif\" font-size=\"10px\" fill=\"#000\" opacity=\"1\">9/15/2020</text><text text-anchor=\"end\" transform=\"translate(723.6363636363636,7) rotate(270) translate(0,3)\" font-family=\"sans-serif\" font-size=\"10px\" fill=\"#000\" opacity=\"1\">9/16/2020</text><text text-anchor=\"end\" transform=\"translate(730.9090909090909,7) rotate(270) translate(0,3)\" font-family=\"sans-serif\" font-size=\"10px\" fill=\"#000\" opacity=\"1\">9/17/2020</text><text text-anchor=\"end\" transform=\"translate(738.1818181818181,7) rotate(270) translate(0,3)\" font-family=\"sans-serif\" font-size=\"10px\" fill=\"#000\" opacity=\"1\">9/18/2020</text><text text-anchor=\"end\" transform=\"translate(745.4545454545454,7) rotate(270) translate(0,3)\" font-family=\"sans-serif\" font-size=\"10px\" fill=\"#000\" opacity=\"1\">9/2/2020</text><text text-anchor=\"end\" transform=\"translate(752.7272727272727,7) rotate(270) translate(0,3)\" font-family=\"sans-serif\" font-size=\"10px\" fill=\"#000\" opacity=\"1\">9/3/2020</text><text text-anchor=\"end\" transform=\"translate(760,7) rotate(270) translate(0,3)\" font-family=\"sans-serif\" font-size=\"10px\" fill=\"#000\" opacity=\"1\">9/4/2020</text><text text-anchor=\"end\" transform=\"translate(767.2727272727273,7) rotate(270) translate(0,3)\" font-family=\"sans-serif\" font-size=\"10px\" fill=\"#000\" opacity=\"1\">9/5/2020</text><text text-anchor=\"end\" transform=\"translate(774.5454545454545,7) rotate(270) translate(0,3)\" font-family=\"sans-serif\" font-size=\"10px\" fill=\"#000\" opacity=\"1\">9/6/2020</text><text text-anchor=\"end\" transform=\"translate(781.8181818181818,7) rotate(270) translate(0,3)\" font-family=\"sans-serif\" font-size=\"10px\" fill=\"#000\" opacity=\"1\">9/7/2020</text><text text-anchor=\"end\" transform=\"translate(789.090909090909,7) rotate(270) translate(0,3)\" font-family=\"sans-serif\" font-size=\"10px\" fill=\"#000\" opacity=\"1\">9/8/2020</text><text text-anchor=\"end\" transform=\"translate(796.3636363636364,7) rotate(270) translate(0,3)\" font-family=\"sans-serif\" font-size=\"10px\" fill=\"#000\" opacity=\"1\">9/9/2020</text></g><g class=\"mark-rule role-axis-domain\" pointer-events=\"none\"><line transform=\"translate(0,0)\" x2=\"800\" y2=\"0\" stroke=\"#888\" stroke-width=\"1\" opacity=\"1\"></line></g><g class=\"mark-text role-axis-title\" pointer-events=\"none\"><text text-anchor=\"middle\" transform=\"translate(400,68.00000000000006)\" font-family=\"sans-serif\" font-size=\"11px\" font-weight=\"bold\" fill=\"#000\" opacity=\"1\">date</text></g></g><path class=\"foreground\" aria-hidden=\"true\" d=\"\" pointer-events=\"none\" display=\"none\"></path></g></g><g class=\"mark-group role-axis\" role=\"graphics-symbol\" aria-roledescription=\"axis\" aria-label=\"Y-axis titled 'trump' for a linear scale with values from 0.00 to 0.11\"><g transform=\"translate(0.5,0.5)\"><path class=\"background\" aria-hidden=\"true\" d=\"M0,0h0v0h0Z\" pointer-events=\"none\"></path><g><g class=\"mark-rule role-axis-tick\" pointer-events=\"none\"><line transform=\"translate(0,600)\" x2=\"-5\" y2=\"0\" stroke=\"#888\" stroke-width=\"1\" opacity=\"1\"></line><line transform=\"translate(0,545)\" x2=\"-5\" y2=\"0\" stroke=\"#888\" stroke-width=\"1\" opacity=\"1\"></line><line transform=\"translate(0,491)\" x2=\"-5\" y2=\"0\" stroke=\"#888\" stroke-width=\"1\" opacity=\"1\"></line><line transform=\"translate(0,436)\" x2=\"-5\" y2=\"0\" stroke=\"#888\" stroke-width=\"1\" opacity=\"1\"></line><line transform=\"translate(0,382)\" x2=\"-5\" y2=\"0\" stroke=\"#888\" stroke-width=\"1\" opacity=\"1\"></line><line transform=\"translate(0,327)\" x2=\"-5\" y2=\"0\" stroke=\"#888\" stroke-width=\"1\" opacity=\"1\"></line><line transform=\"translate(0,273)\" x2=\"-5\" y2=\"0\" stroke=\"#888\" stroke-width=\"1\" opacity=\"1\"></line><line transform=\"translate(0,218)\" x2=\"-5\" y2=\"0\" stroke=\"#888\" stroke-width=\"1\" opacity=\"1\"></line><line transform=\"translate(0,164)\" x2=\"-5\" y2=\"0\" stroke=\"#888\" stroke-width=\"1\" opacity=\"1\"></line><line transform=\"translate(0,109)\" x2=\"-5\" y2=\"0\" stroke=\"#888\" stroke-width=\"1\" opacity=\"1\"></line><line transform=\"translate(0,55)\" x2=\"-5\" y2=\"0\" stroke=\"#888\" stroke-width=\"1\" opacity=\"1\"></line><line transform=\"translate(0,0)\" x2=\"-5\" y2=\"0\" stroke=\"#888\" stroke-width=\"1\" opacity=\"1\"></line></g><g class=\"mark-text role-axis-label\" pointer-events=\"none\"><text text-anchor=\"end\" transform=\"translate(-7,603)\" font-family=\"sans-serif\" font-size=\"10px\" fill=\"#000\" opacity=\"1\">0.00</text><text text-anchor=\"end\" transform=\"translate(-7,548.4545454545454)\" font-family=\"sans-serif\" font-size=\"10px\" fill=\"#000\" opacity=\"1\">0.01</text><text text-anchor=\"end\" transform=\"translate(-7,493.9090909090909)\" font-family=\"sans-serif\" font-size=\"10px\" fill=\"#000\" opacity=\"1\">0.02</text><text text-anchor=\"end\" transform=\"translate(-7,439.3636363636364)\" font-family=\"sans-serif\" font-size=\"10px\" fill=\"#000\" opacity=\"1\">0.03</text><text text-anchor=\"end\" transform=\"translate(-7,384.8181818181818)\" font-family=\"sans-serif\" font-size=\"10px\" fill=\"#000\" opacity=\"1\">0.04</text><text text-anchor=\"end\" transform=\"translate(-7,330.27272727272725)\" font-family=\"sans-serif\" font-size=\"10px\" fill=\"#000\" opacity=\"1\">0.05</text><text text-anchor=\"end\" transform=\"translate(-7,275.72727272727275)\" font-family=\"sans-serif\" font-size=\"10px\" fill=\"#000\" opacity=\"1\">0.06</text><text text-anchor=\"end\" transform=\"translate(-7,221.18181818181813)\" font-family=\"sans-serif\" font-size=\"10px\" fill=\"#000\" opacity=\"1\">0.07</text><text text-anchor=\"end\" transform=\"translate(-7,166.63636363636363)\" font-family=\"sans-serif\" font-size=\"10px\" fill=\"#000\" opacity=\"1\">0.08</text><text text-anchor=\"end\" transform=\"translate(-7,112.09090909090912)\" font-family=\"sans-serif\" font-size=\"10px\" fill=\"#000\" opacity=\"1\">0.09</text><text text-anchor=\"end\" transform=\"translate(-7,57.5454545454545)\" font-family=\"sans-serif\" font-size=\"10px\" fill=\"#000\" opacity=\"1\">0.10</text><text text-anchor=\"end\" transform=\"translate(-7,3)\" font-family=\"sans-serif\" font-size=\"10px\" fill=\"#000\" opacity=\"1\">0.11</text></g><g class=\"mark-rule role-axis-domain\" pointer-events=\"none\"><line transform=\"translate(0,600)\" x2=\"0\" y2=\"-600\" stroke=\"#888\" stroke-width=\"1\" opacity=\"1\"></line></g><g class=\"mark-text role-axis-title\" pointer-events=\"none\"><text text-anchor=\"middle\" transform=\"translate(-32,300) rotate(-90) translate(0,-2)\" font-family=\"sans-serif\" font-size=\"11px\" font-weight=\"bold\" fill=\"#000\" opacity=\"1\">trump</text></g></g><path class=\"foreground\" aria-hidden=\"true\" d=\"\" pointer-events=\"none\" display=\"none\"></path></g></g><g class=\"mark-line role-mark marks\" role=\"graphics-object\" aria-roledescription=\"line mark container\"><path aria-label=\"date: 6/1/2020; trump: 0.064\" role=\"graphics-symbol\" aria-roledescription=\"line mark\" d=\"M3.636363636363626,250.90909090909093L10.9090909090909,338.1818181818182L18.181818181818173,458.1818181818182L25.454545454545443,452.7272727272727L32.72727272727272,490.9090909090909L39.999999999999986,496.3636363636364L47.27272727272726,430.90909090909093L54.54545454545453,496.3636363636364L61.818181818181806,529.0909090909091L69.09090909090908,512.7272727272727L76.36363636363635,474.54545454545456L83.63636363636363,360.00000000000006L90.90909090909089,474.54545454545456L98.18181818181817,550.9090909090909L105.45454545454544,545.4545454545454L112.72727272727272,501.81818181818187L119.99999999999999,545.4545454545454L127.27272727272725,529.0909090909091L134.54545454545453,550.9090909090909L141.8181818181818,496.3636363636364L149.09090909090907,567.2727272727273L156.36363636363635,545.4545454545454L163.63636363636363,256.3636363636364L170.9090909090909,496.3636363636364L178.18181818181816,294.5454545454545L185.45454545454544,207.27272727272728L192.72727272727272,250.90909090909093L199.99999999999997,294.5454545454545L207.27272727272725,261.8181818181818L214.54545454545453,283.6363636363636L221.8181818181818,496.3636363636364L229.09090909090907,370.9090909090909L236.36363636363635,403.6363636363636L243.63636363636363,398.18181818181813L250.90909090909088,458.1818181818182L258.18181818181813,447.2727272727272L265.45454545454544,463.6363636363636L272.7272727272727,452.7272727272727L280,398.18181818181813L287.27272727272725,387.2727272727273L294.5454545454545,425.45454545454544L301.8181818181818,501.81818181818187L309.09090909090907,430.90909090909093L316.3636363636363,321.8181818181818L323.6363636363636,441.8181818181818L330.9090909090909,387.2727272727273L338.1818181818182,414.54545454545456L345.45454545454544,360.00000000000006L352.7272727272727,436.3636363636364L360,398.18181818181813L367.27272727272725,381.8181818181818L374.5454545454545,398.18181818181813L381.8181818181818,463.6363636363636L389.09090909090907,381.8181818181818L396.3636363636363,332.7272727272727L403.6363636363636,452.7272727272727L410.9090909090909,512.7272727272727L418.18181818181813,360.00000000000006L425.45454545454544,381.8181818181818L432.7272727272727,414.54545454545456L440,409.09090909090907L447.27272727272725,245.45454545454544L454.5454545454545,360.00000000000006L461.8181818181818,305.45454545454544L469.09090909090907,256.3636363636364L476.3636363636363,278.1818181818182L483.6363636363636,360.00000000000006L490.9090909090909,370.9090909090909L498.18181818181813,289.09090909090907L505.45454545454544,316.3636363636364L512.7272727272727,321.8181818181818L520,354.54545454545456L527.2727272727273,370.9090909090909L534.5454545454545,272.72727272727275L541.8181818181818,283.6363636363636L549.090909090909,338.1818181818182L556.3636363636364,398.18181818181813L563.6363636363636,354.54545454545456L570.9090909090909,409.09090909090907L578.1818181818181,109.09090909090912L585.4545454545454,158.1818181818182L592.7272727272727,250.90909090909093L600,141.8181818181818L607.2727272727273,316.3636363636364L614.5454545454545,87.27272727272731L621.8181818181818,5.45454545454549L629.090909090909,332.7272727272727L636.3636363636364,201.81818181818184L643.6363636363636,234.54545454545453L650.9090909090909,272.72727272727275L658.1818181818181,289.09090909090907L665.4545454545454,267.27272727272725L672.7272727272727,125.45454545454547L680,403.6363636363636L687.2727272727273,490.9090909090909L694.5454545454545,381.8181818181818L701.8181818181818,376.3636363636363L709.090909090909,430.90909090909093L716.3636363636364,365.4545454545455L723.6363636363636,474.54545454545456L730.9090909090909,436.3636363636364L738.1818181818181,425.45454545454544L745.4545454545454,223.6363636363636L752.7272727272727,212.72727272727278L760,229.09090909090904L767.2727272727273,223.6363636363636L774.5454545454545,250.90909090909093L781.8181818181818,272.72727272727275L789.090909090909,327.27272727272725L796.3636363636364,381.8181818181818\" stroke=\"#4c78a8\" stroke-width=\"2\"></path></g></g><path class=\"foreground\" aria-hidden=\"true\" d=\"\" display=\"none\"></path></g></g></g></svg>\n"
      ],
      "text/plain": [
       "@vlplot(\n",
       "    width=800,\n",
       "    height=600,\n",
       "    mark=\"line\",\n",
       "    encoding={\n",
       "        x={\n",
       "            field=\"date\"\n",
       "        },\n",
       "        y={\n",
       "            field=\"trump\"\n",
       "        }\n",
       "    },\n",
       "    data={\n",
       "        values=...\n",
       "    }\n",
       ")"
      ]
     },
     "execution_count": 27,
     "metadata": {},
     "output_type": "execute_result"
    }
   ],
   "source": [
    "dates |> \n",
    "@vlplot(\n",
    "    :line,\n",
    "    x=:date,\n",
    "    y=:trump,\n",
    "    width=800,\n",
    "    height=600\n",
    ")"
   ]
  },
  {
   "cell_type": "markdown",
   "metadata": {},
   "source": [
    "## Tipping Point Analysis\n",
    "process: \n",
    "\n",
    "- sort combined by winning percentage\n",
    "- add column of zeros to hold cumulatve votes\n",
    "- add column of falses to hold tipping point value\n",
    "- compute cumulative scores\n"
   ]
  },
  {
   "cell_type": "code",
   "execution_count": 77,
   "metadata": {},
   "outputs": [
    {
     "data": {
      "text/html": [
       "<table class=\"data-frame\"><thead><tr><th></th><th>modeldate</th><th>state</th><th>winstate_inc</th><th>evs</th></tr><tr><th></th><th>String</th><th>String</th><th>Float64</th><th>Int64</th></tr></thead><tbody><p>56 rows × 4 columns</p><tr><th>1</th><td>9/1/2020</td><td>NE-3</td><td>0.99985</td><td>1</td></tr><tr><th>2</th><td>9/1/2020</td><td>Wyoming</td><td>0.99835</td><td>3</td></tr><tr><th>3</th><td>9/1/2020</td><td>Idaho</td><td>0.9944</td><td>4</td></tr><tr><th>4</th><td>9/1/2020</td><td>Oklahoma</td><td>0.9934</td><td>7</td></tr><tr><th>5</th><td>9/1/2020</td><td>West Virginia</td><td>0.993275</td><td>5</td></tr><tr><th>6</th><td>9/1/2020</td><td>North Dakota</td><td>0.9886</td><td>3</td></tr><tr><th>7</th><td>9/1/2020</td><td>Nebraska</td><td>0.985825</td><td>5</td></tr><tr><th>8</th><td>9/1/2020</td><td>Alabama</td><td>0.981025</td><td>9</td></tr><tr><th>9</th><td>9/1/2020</td><td>Kentucky</td><td>0.977075</td><td>8</td></tr><tr><th>10</th><td>9/1/2020</td><td>South Dakota</td><td>0.9664</td><td>3</td></tr><tr><th>11</th><td>9/1/2020</td><td>Tennessee</td><td>0.957525</td><td>11</td></tr><tr><th>12</th><td>9/1/2020</td><td>Indiana</td><td>0.95665</td><td>11</td></tr><tr><th>13</th><td>9/1/2020</td><td>Utah</td><td>0.956425</td><td>6</td></tr><tr><th>14</th><td>9/1/2020</td><td>NE-1</td><td>0.9407</td><td>1</td></tr><tr><th>15</th><td>9/1/2020</td><td>Arkansas</td><td>0.939875</td><td>6</td></tr><tr><th>16</th><td>9/1/2020</td><td>Kansas</td><td>0.934775</td><td>6</td></tr><tr><th>17</th><td>9/1/2020</td><td>Louisiana</td><td>0.927725</td><td>8</td></tr><tr><th>18</th><td>9/1/2020</td><td>Missouri</td><td>0.904175</td><td>10</td></tr><tr><th>19</th><td>9/1/2020</td><td>Montana</td><td>0.889025</td><td>3</td></tr><tr><th>20</th><td>9/1/2020</td><td>South Carolina</td><td>0.88405</td><td>9</td></tr><tr><th>21</th><td>9/1/2020</td><td>Mississippi</td><td>0.88205</td><td>6</td></tr><tr><th>22</th><td>9/1/2020</td><td>Alaska</td><td>0.820775</td><td>3</td></tr><tr><th>23</th><td>9/1/2020</td><td>Texas</td><td>0.7575</td><td>38</td></tr><tr><th>24</th><td>9/1/2020</td><td>Iowa</td><td>0.70595</td><td>6</td></tr><tr><th>25</th><td>9/1/2020</td><td>Georgia</td><td>0.696925</td><td>16</td></tr><tr><th>26</th><td>9/1/2020</td><td>ME-2</td><td>0.660025</td><td>1</td></tr><tr><th>27</th><td>9/1/2020</td><td>Ohio</td><td>0.620825</td><td>18</td></tr><tr><th>28</th><td>9/1/2020</td><td>North Carolina</td><td>0.538375</td><td>15</td></tr><tr><th>29</th><td>9/1/2020</td><td>Arizona</td><td>0.449175</td><td>11</td></tr><tr><th>30</th><td>9/1/2020</td><td>NE-2</td><td>0.443225</td><td>1</td></tr><tr><th>&vellip;</th><td>&vellip;</td><td>&vellip;</td><td>&vellip;</td><td>&vellip;</td></tr></tbody></table>"
      ],
      "text/latex": [
       "\\begin{tabular}{r|cccc}\n",
       "\t& modeldate & state & winstate\\_inc & evs\\\\\n",
       "\t\\hline\n",
       "\t& String & String & Float64 & Int64\\\\\n",
       "\t\\hline\n",
       "\t1 & 9/1/2020 & NE-3 & 0.99985 & 1 \\\\\n",
       "\t2 & 9/1/2020 & Wyoming & 0.99835 & 3 \\\\\n",
       "\t3 & 9/1/2020 & Idaho & 0.9944 & 4 \\\\\n",
       "\t4 & 9/1/2020 & Oklahoma & 0.9934 & 7 \\\\\n",
       "\t5 & 9/1/2020 & West Virginia & 0.993275 & 5 \\\\\n",
       "\t6 & 9/1/2020 & North Dakota & 0.9886 & 3 \\\\\n",
       "\t7 & 9/1/2020 & Nebraska & 0.985825 & 5 \\\\\n",
       "\t8 & 9/1/2020 & Alabama & 0.981025 & 9 \\\\\n",
       "\t9 & 9/1/2020 & Kentucky & 0.977075 & 8 \\\\\n",
       "\t10 & 9/1/2020 & South Dakota & 0.9664 & 3 \\\\\n",
       "\t11 & 9/1/2020 & Tennessee & 0.957525 & 11 \\\\\n",
       "\t12 & 9/1/2020 & Indiana & 0.95665 & 11 \\\\\n",
       "\t13 & 9/1/2020 & Utah & 0.956425 & 6 \\\\\n",
       "\t14 & 9/1/2020 & NE-1 & 0.9407 & 1 \\\\\n",
       "\t15 & 9/1/2020 & Arkansas & 0.939875 & 6 \\\\\n",
       "\t16 & 9/1/2020 & Kansas & 0.934775 & 6 \\\\\n",
       "\t17 & 9/1/2020 & Louisiana & 0.927725 & 8 \\\\\n",
       "\t18 & 9/1/2020 & Missouri & 0.904175 & 10 \\\\\n",
       "\t19 & 9/1/2020 & Montana & 0.889025 & 3 \\\\\n",
       "\t20 & 9/1/2020 & South Carolina & 0.88405 & 9 \\\\\n",
       "\t21 & 9/1/2020 & Mississippi & 0.88205 & 6 \\\\\n",
       "\t22 & 9/1/2020 & Alaska & 0.820775 & 3 \\\\\n",
       "\t23 & 9/1/2020 & Texas & 0.7575 & 38 \\\\\n",
       "\t24 & 9/1/2020 & Iowa & 0.70595 & 6 \\\\\n",
       "\t25 & 9/1/2020 & Georgia & 0.696925 & 16 \\\\\n",
       "\t26 & 9/1/2020 & ME-2 & 0.660025 & 1 \\\\\n",
       "\t27 & 9/1/2020 & Ohio & 0.620825 & 18 \\\\\n",
       "\t28 & 9/1/2020 & North Carolina & 0.538375 & 15 \\\\\n",
       "\t29 & 9/1/2020 & Arizona & 0.449175 & 11 \\\\\n",
       "\t30 & 9/1/2020 & NE-2 & 0.443225 & 1 \\\\\n",
       "\t$\\dots$ & $\\dots$ & $\\dots$ & $\\dots$ & $\\dots$ \\\\\n",
       "\\end{tabular}\n"
      ],
      "text/plain": [
       "56×4 DataFrame\n",
       "│ Row │ modeldate │ state                │ winstate_inc │ evs   │\n",
       "│     │ \u001b[90mString\u001b[39m    │ \u001b[90mString\u001b[39m               │ \u001b[90mFloat64\u001b[39m      │ \u001b[90mInt64\u001b[39m │\n",
       "├─────┼───────────┼──────────────────────┼──────────────┼───────┤\n",
       "│ 1   │ 9/1/2020  │ NE-3                 │ 0.99985      │ 1     │\n",
       "│ 2   │ 9/1/2020  │ Wyoming              │ 0.99835      │ 3     │\n",
       "│ 3   │ 9/1/2020  │ Idaho                │ 0.9944       │ 4     │\n",
       "│ 4   │ 9/1/2020  │ Oklahoma             │ 0.9934       │ 7     │\n",
       "│ 5   │ 9/1/2020  │ West Virginia        │ 0.993275     │ 5     │\n",
       "│ 6   │ 9/1/2020  │ North Dakota         │ 0.9886       │ 3     │\n",
       "│ 7   │ 9/1/2020  │ Nebraska             │ 0.985825     │ 5     │\n",
       "│ 8   │ 9/1/2020  │ Alabama              │ 0.981025     │ 9     │\n",
       "│ 9   │ 9/1/2020  │ Kentucky             │ 0.977075     │ 8     │\n",
       "│ 10  │ 9/1/2020  │ South Dakota         │ 0.9664       │ 3     │\n",
       "⋮\n",
       "│ 46  │ 9/1/2020  │ Rhode Island         │ 0.0165       │ 4     │\n",
       "│ 47  │ 9/1/2020  │ Hawaii               │ 0.014675     │ 4     │\n",
       "│ 48  │ 9/1/2020  │ Washington           │ 0.01325      │ 12    │\n",
       "│ 49  │ 9/1/2020  │ Vermont              │ 0.0097       │ 3     │\n",
       "│ 50  │ 9/1/2020  │ Illinois             │ 0.00735      │ 20    │\n",
       "│ 51  │ 9/1/2020  │ Delaware             │ 0.0037       │ 3     │\n",
       "│ 52  │ 9/1/2020  │ California           │ 0.002875     │ 55    │\n",
       "│ 53  │ 9/1/2020  │ Maryland             │ 0.00255      │ 10    │\n",
       "│ 54  │ 9/1/2020  │ Massachusetts        │ 0.00245      │ 11    │\n",
       "│ 55  │ 9/1/2020  │ New York             │ 0.001975     │ 29    │\n",
       "│ 56  │ 9/1/2020  │ District of Columbia │ 0.0          │ 3     │"
      ]
     },
     "execution_count": 77,
     "metadata": {},
     "output_type": "execute_result"
    }
   ],
   "source": [
    "sort!(toplines, 3, rev=true)\n",
    "date = first(toplines.modeldate)\n",
    "states = toplines |> @filter(_.modeldate == date) |> DataFrame\n"
   ]
  },
  {
   "cell_type": "code",
   "execution_count": 103,
   "metadata": {},
   "outputs": [
    {
     "data": {
      "text/plain": [
       "5-element Array{String,1}:\n",
       " \"NE-2\"\n",
       " \"Florida\"\n",
       " \"Pennsylvania\"\n",
       " \"New Hampshire\"\n",
       " \"Wisconsin\""
      ]
     },
     "execution_count": 103,
     "metadata": {},
     "output_type": "execute_result"
    }
   ],
   "source": [
    "evs = states.evs; \n",
    "total = zeros(Int64, 56); \n",
    "total[1] = 1\n",
    "for index in 2:56\n",
    "   total[index] = total[index - 1] + evs[index]\n",
    "end\n",
    "states.total_evs = total\n",
    "last(states, 10)\n",
    "tipping_points = states[30:34, :].state\n"
   ]
  },
  {
   "cell_type": "code",
   "execution_count": 104,
   "metadata": {},
   "outputs": [
    {
     "data": {
      "application/vnd.vegalite.v4+json": {
       "data": {
        "values": [
         {
          "evs": 1,
          "modeldate": "8/5/2020",
          "state": "NE-2",
          "winstate_inc": 0.4786
         },
         {
          "evs": 1,
          "modeldate": "8/7/2020",
          "state": "NE-2",
          "winstate_inc": 0.476625
         },
         {
          "evs": 1,
          "modeldate": "8/6/2020",
          "state": "NE-2",
          "winstate_inc": 0.475025
         },
         {
          "evs": 1,
          "modeldate": "8/8/2020",
          "state": "NE-2",
          "winstate_inc": 0.4742
         },
         {
          "evs": 1,
          "modeldate": "8/9/2020",
          "state": "NE-2",
          "winstate_inc": 0.469925
         },
         {
          "evs": 1,
          "modeldate": "7/31/2020",
          "state": "NE-2",
          "winstate_inc": 0.46425
         },
         {
          "evs": 1,
          "modeldate": "8/3/2020",
          "state": "NE-2",
          "winstate_inc": 0.462475
         },
         {
          "evs": 1,
          "modeldate": "8/2/2020",
          "state": "NE-2",
          "winstate_inc": 0.461125
         },
         {
          "evs": 1,
          "modeldate": "8/11/2020",
          "state": "NE-2",
          "winstate_inc": 0.460975
         },
         {
          "evs": 1,
          "modeldate": "8/1/2020",
          "state": "NE-2",
          "winstate_inc": 0.46065
         },
         {
          "evs": 1,
          "modeldate": "8/10/2020",
          "state": "NE-2",
          "winstate_inc": 0.45995
         },
         {
          "evs": 1,
          "modeldate": "8/12/2020",
          "state": "NE-2",
          "winstate_inc": 0.458525
         },
         {
          "evs": 1,
          "modeldate": "8/16/2020",
          "state": "NE-2",
          "winstate_inc": 0.457475
         },
         {
          "evs": 1,
          "modeldate": "8/4/2020",
          "state": "NE-2",
          "winstate_inc": 0.4574
         },
         {
          "evs": 1,
          "modeldate": "8/13/2020",
          "state": "NE-2",
          "winstate_inc": 0.4554
         },
         {
          "evs": 1,
          "modeldate": "8/19/2020",
          "state": "NE-2",
          "winstate_inc": 0.453225
         },
         {
          "evs": 29,
          "modeldate": "9/8/2020",
          "state": "Florida",
          "winstate_inc": 0.4502
         },
         {
          "evs": 1,
          "modeldate": "8/17/2020",
          "state": "NE-2",
          "winstate_inc": 0.4498
         },
         {
          "evs": 1,
          "modeldate": "8/15/2020",
          "state": "NE-2",
          "winstate_inc": 0.44975
         },
         {
          "evs": 1,
          "modeldate": "6/5/2020",
          "state": "NE-2",
          "winstate_inc": 0.448825
         },
         {
          "evs": 1,
          "modeldate": "8/31/2020",
          "state": "NE-2",
          "winstate_inc": 0.447625
         },
         {
          "evs": 1,
          "modeldate": "8/18/2020",
          "state": "NE-2",
          "winstate_inc": 0.446125
         },
         {
          "evs": 1,
          "modeldate": "9/1/2020",
          "state": "NE-2",
          "winstate_inc": 0.443225
         },
         {
          "evs": 1,
          "modeldate": "8/20/2020",
          "state": "NE-2",
          "winstate_inc": 0.442325
         },
         {
          "evs": 1,
          "modeldate": "7/21/2020",
          "state": "NE-2",
          "winstate_inc": 0.442125
         },
         {
          "evs": 1,
          "modeldate": "7/27/2020",
          "state": "NE-2",
          "winstate_inc": 0.44205
         },
         {
          "evs": 1,
          "modeldate": "6/7/2020",
          "state": "NE-2",
          "winstate_inc": 0.441575
         },
         {
          "evs": 1,
          "modeldate": "7/29/2020",
          "state": "NE-2",
          "winstate_inc": 0.441425
         },
         {
          "evs": 1,
          "modeldate": "6/6/2020",
          "state": "NE-2",
          "winstate_inc": 0.441375
         },
         {
          "evs": 1,
          "modeldate": "8/14/2020",
          "state": "NE-2",
          "winstate_inc": 0.441175
         },
         {
          "evs": 1,
          "modeldate": "7/25/2020",
          "state": "NE-2",
          "winstate_inc": 0.440225
         },
         {
          "evs": 1,
          "modeldate": "7/24/2020",
          "state": "NE-2",
          "winstate_inc": 0.440225
         },
         {
          "evs": 1,
          "modeldate": "7/6/2020",
          "state": "NE-2",
          "winstate_inc": 0.440225
         },
         {
          "evs": 1,
          "modeldate": "6/8/2020",
          "state": "NE-2",
          "winstate_inc": 0.44
         },
         {
          "evs": 1,
          "modeldate": "7/26/2020",
          "state": "NE-2",
          "winstate_inc": 0.4394
         },
         {
          "evs": 1,
          "modeldate": "8/26/2020",
          "state": "NE-2",
          "winstate_inc": 0.439375
         },
         {
          "evs": 1,
          "modeldate": "7/23/2020",
          "state": "NE-2",
          "winstate_inc": 0.438625
         },
         {
          "evs": 1,
          "modeldate": "7/30/2020",
          "state": "NE-2",
          "winstate_inc": 0.4383
         },
         {
          "evs": 1,
          "modeldate": "6/3/2020",
          "state": "NE-2",
          "winstate_inc": 0.437875
         },
         {
          "evs": 1,
          "modeldate": "7/28/2020",
          "state": "NE-2",
          "winstate_inc": 0.436025
         },
         {
          "evs": 1,
          "modeldate": "7/11/2020",
          "state": "NE-2",
          "winstate_inc": 0.43545
         },
         {
          "evs": 1,
          "modeldate": "8/27/2020",
          "state": "NE-2",
          "winstate_inc": 0.435425
         },
         {
          "evs": 1,
          "modeldate": "7/9/2020",
          "state": "NE-2",
          "winstate_inc": 0.43505
         },
         {
          "evs": 1,
          "modeldate": "8/30/2020",
          "state": "NE-2",
          "winstate_inc": 0.434825
         },
         {
          "evs": 1,
          "modeldate": "6/4/2020",
          "state": "NE-2",
          "winstate_inc": 0.4341
         },
         {
          "evs": 1,
          "modeldate": "8/29/2020",
          "state": "NE-2",
          "winstate_inc": 0.432975
         },
         {
          "evs": 1,
          "modeldate": "7/18/2020",
          "state": "NE-2",
          "winstate_inc": 0.4329
         },
         {
          "evs": 1,
          "modeldate": "7/17/2020",
          "state": "NE-2",
          "winstate_inc": 0.43265
         },
         {
          "evs": 1,
          "modeldate": "7/10/2020",
          "state": "NE-2",
          "winstate_inc": 0.432025
         },
         {
          "evs": 1,
          "modeldate": "6/1/2020",
          "state": "NE-2",
          "winstate_inc": 0.431325
         },
         {
          "evs": 1,
          "modeldate": "6/2/2020",
          "state": "NE-2",
          "winstate_inc": 0.43105
         },
         {
          "evs": 1,
          "modeldate": "7/19/2020",
          "state": "NE-2",
          "winstate_inc": 0.4309
         },
         {
          "evs": 1,
          "modeldate": "7/16/2020",
          "state": "NE-2",
          "winstate_inc": 0.430775
         },
         {
          "evs": 1,
          "modeldate": "7/22/2020",
          "state": "NE-2",
          "winstate_inc": 0.43055
         },
         {
          "evs": 1,
          "modeldate": "8/28/2020",
          "state": "NE-2",
          "winstate_inc": 0.430175
         },
         {
          "evs": 1,
          "modeldate": "7/8/2020",
          "state": "NE-2",
          "winstate_inc": 0.4296
         },
         {
          "evs": 1,
          "modeldate": "6/9/2020",
          "state": "NE-2",
          "winstate_inc": 0.42945
         },
         {
          "evs": 1,
          "modeldate": "7/7/2020",
          "state": "NE-2",
          "winstate_inc": 0.42825
         },
         {
          "evs": 1,
          "modeldate": "7/14/2020",
          "state": "NE-2",
          "winstate_inc": 0.42765
         },
         {
          "evs": 1,
          "modeldate": "7/12/2020",
          "state": "NE-2",
          "winstate_inc": 0.4275
         },
         {
          "evs": 29,
          "modeldate": "9/5/2020",
          "state": "Florida",
          "winstate_inc": 0.427125
         },
         {
          "evs": 29,
          "modeldate": "9/6/2020",
          "state": "Florida",
          "winstate_inc": 0.426375
         },
         {
          "evs": 29,
          "modeldate": "9/7/2020",
          "state": "Florida",
          "winstate_inc": 0.42595
         },
         {
          "evs": 1,
          "modeldate": "7/20/2020",
          "state": "NE-2",
          "winstate_inc": 0.425175
         },
         {
          "evs": 1,
          "modeldate": "7/13/2020",
          "state": "NE-2",
          "winstate_inc": 0.4236
         },
         {
          "evs": 1,
          "modeldate": "9/2/2020",
          "state": "NE-2",
          "winstate_inc": 0.4233
         },
         {
          "evs": 1,
          "modeldate": "9/3/2020",
          "state": "NE-2",
          "winstate_inc": 0.421825
         },
         {
          "evs": 29,
          "modeldate": "9/4/2020",
          "state": "Florida",
          "winstate_inc": 0.421375
         },
         {
          "evs": 1,
          "modeldate": "8/21/2020",
          "state": "NE-2",
          "winstate_inc": 0.417825
         },
         {
          "evs": 1,
          "modeldate": "6/10/2020",
          "state": "NE-2",
          "winstate_inc": 0.4178
         },
         {
          "evs": 1,
          "modeldate": "9/7/2020",
          "state": "NE-2",
          "winstate_inc": 0.4163
         },
         {
          "evs": 1,
          "modeldate": "8/24/2020",
          "state": "NE-2",
          "winstate_inc": 0.415225
         },
         {
          "evs": 29,
          "modeldate": "6/5/2020",
          "state": "Florida",
          "winstate_inc": 0.4141
         },
         {
          "evs": 1,
          "modeldate": "8/22/2020",
          "state": "NE-2",
          "winstate_inc": 0.413425
         },
         {
          "evs": 1,
          "modeldate": "7/15/2020",
          "state": "NE-2",
          "winstate_inc": 0.4132
         },
         {
          "evs": 1,
          "modeldate": "9/4/2020",
          "state": "NE-2",
          "winstate_inc": 0.41315
         },
         {
          "evs": 29,
          "modeldate": "9/3/2020",
          "state": "Florida",
          "winstate_inc": 0.41305
         },
         {
          "evs": 1,
          "modeldate": "9/5/2020",
          "state": "NE-2",
          "winstate_inc": 0.412525
         },
         {
          "evs": 1,
          "modeldate": "8/23/2020",
          "state": "NE-2",
          "winstate_inc": 0.4125
         },
         {
          "evs": 29,
          "modeldate": "9/17/2020",
          "state": "Florida",
          "winstate_inc": 0.41195
         },
         {
          "evs": 1,
          "modeldate": "9/6/2020",
          "state": "NE-2",
          "winstate_inc": 0.41115
         },
         {
          "evs": 1,
          "modeldate": "8/25/2020",
          "state": "NE-2",
          "winstate_inc": 0.40955
         },
         {
          "evs": 29,
          "modeldate": "6/7/2020",
          "state": "Florida",
          "winstate_inc": 0.40895
         },
         {
          "evs": 1,
          "modeldate": "9/8/2020",
          "state": "NE-2",
          "winstate_inc": 0.408375
         },
         {
          "evs": 29,
          "modeldate": "6/8/2020",
          "state": "Florida",
          "winstate_inc": 0.40805
         },
         {
          "evs": 29,
          "modeldate": "6/6/2020",
          "state": "Florida",
          "winstate_inc": 0.40795
         },
         {
          "evs": 1,
          "modeldate": "7/5/2020",
          "state": "NE-2",
          "winstate_inc": 0.405775
         },
         {
          "evs": 1,
          "modeldate": "6/15/2020",
          "state": "NE-2",
          "winstate_inc": 0.403675
         },
         {
          "evs": 29,
          "modeldate": "8/31/2020",
          "state": "Florida",
          "winstate_inc": 0.40215
         },
         {
          "evs": 1,
          "modeldate": "6/11/2020",
          "state": "NE-2",
          "winstate_inc": 0.400525
         },
         {
          "evs": 29,
          "modeldate": "9/18/2020",
          "state": "Florida",
          "winstate_inc": 0.400425
         },
         {
          "evs": 1,
          "modeldate": "9/17/2020",
          "state": "NE-2",
          "winstate_inc": 0.398975
         },
         {
          "evs": 29,
          "modeldate": "9/1/2020",
          "state": "Florida",
          "winstate_inc": 0.398475
         },
         {
          "evs": 29,
          "modeldate": "9/2/2020",
          "state": "Florida",
          "winstate_inc": 0.3983
         },
         {
          "evs": 29,
          "modeldate": "9/10/2020",
          "state": "Florida",
          "winstate_inc": 0.3975
         },
         {
          "evs": 29,
          "modeldate": "9/9/2020",
          "state": "Florida",
          "winstate_inc": 0.396825
         },
         {
          "evs": 1,
          "modeldate": "6/12/2020",
          "state": "NE-2",
          "winstate_inc": 0.39665
         },
         {
          "evs": 29,
          "modeldate": "9/16/2020",
          "state": "Florida",
          "winstate_inc": 0.3964
         },
         {
          "evs": 29,
          "modeldate": "6/9/2020",
          "state": "Florida",
          "winstate_inc": 0.396325
         },
         {
          "evs": 29,
          "modeldate": "9/12/2020",
          "state": "Florida",
          "winstate_inc": 0.396025
         },
         {
          "evs": 1,
          "modeldate": "6/13/2020",
          "state": "NE-2",
          "winstate_inc": 0.395525
         },
         {
          "evs": 1,
          "modeldate": "9/9/2020",
          "state": "NE-2",
          "winstate_inc": 0.394175
         },
         {
          "evs": 29,
          "modeldate": "9/15/2020",
          "state": "Florida",
          "winstate_inc": 0.394025
         },
         {
          "evs": 1,
          "modeldate": "9/16/2020",
          "state": "NE-2",
          "winstate_inc": 0.39325
         },
         {
          "evs": 1,
          "modeldate": "6/16/2020",
          "state": "NE-2",
          "winstate_inc": 0.392925
         },
         {
          "evs": 29,
          "modeldate": "6/4/2020",
          "state": "Florida",
          "winstate_inc": 0.39155
         },
         {
          "evs": 29,
          "modeldate": "6/10/2020",
          "state": "Florida",
          "winstate_inc": 0.391
         },
         {
          "evs": 29,
          "modeldate": "6/3/2020",
          "state": "Florida",
          "winstate_inc": 0.39025
         },
         {
          "evs": 1,
          "modeldate": "6/18/2020",
          "state": "NE-2",
          "winstate_inc": 0.39
         },
         {
          "evs": 29,
          "modeldate": "8/30/2020",
          "state": "Florida",
          "winstate_inc": 0.38945
         },
         {
          "evs": 1,
          "modeldate": "9/10/2020",
          "state": "NE-2",
          "winstate_inc": 0.389125
         },
         {
          "evs": 29,
          "modeldate": "9/13/2020",
          "state": "Florida",
          "winstate_inc": 0.3891
         },
         {
          "evs": 29,
          "modeldate": "6/2/2020",
          "state": "Florida",
          "winstate_inc": 0.388175
         },
         {
          "evs": 29,
          "modeldate": "9/14/2020",
          "state": "Florida",
          "winstate_inc": 0.38785
         },
         {
          "evs": 29,
          "modeldate": "6/1/2020",
          "state": "Florida",
          "winstate_inc": 0.3873
         },
         {
          "evs": 1,
          "modeldate": "9/15/2020",
          "state": "NE-2",
          "winstate_inc": 0.3869
         },
         {
          "evs": 1,
          "modeldate": "9/14/2020",
          "state": "NE-2",
          "winstate_inc": 0.386875
         },
         {
          "evs": 29,
          "modeldate": "8/29/2020",
          "state": "Florida",
          "winstate_inc": 0.3864
         },
         {
          "evs": 1,
          "modeldate": "9/13/2020",
          "state": "NE-2",
          "winstate_inc": 0.3863
         },
         {
          "evs": 1,
          "modeldate": "7/4/2020",
          "state": "NE-2",
          "winstate_inc": 0.385975
         },
         {
          "evs": 1,
          "modeldate": "9/12/2020",
          "state": "NE-2",
          "winstate_inc": 0.3858
         },
         {
          "evs": 29,
          "modeldate": "9/11/2020",
          "state": "Florida",
          "winstate_inc": 0.38565
         },
         {
          "evs": 1,
          "modeldate": "7/1/2020",
          "state": "NE-2",
          "winstate_inc": 0.385425
         },
         {
          "evs": 1,
          "modeldate": "6/17/2020",
          "state": "NE-2",
          "winstate_inc": 0.3853
         },
         {
          "evs": 1,
          "modeldate": "6/14/2020",
          "state": "NE-2",
          "winstate_inc": 0.3848
         },
         {
          "evs": 1,
          "modeldate": "9/18/2020",
          "state": "NE-2",
          "winstate_inc": 0.384375
         },
         {
          "evs": 1,
          "modeldate": "9/11/2020",
          "state": "NE-2",
          "winstate_inc": 0.38425
         },
         {
          "evs": 1,
          "modeldate": "6/30/2020",
          "state": "NE-2",
          "winstate_inc": 0.38385
         },
         {
          "evs": 29,
          "modeldate": "8/28/2020",
          "state": "Florida",
          "winstate_inc": 0.3818
         },
         {
          "evs": 29,
          "modeldate": "8/26/2020",
          "state": "Florida",
          "winstate_inc": 0.381775
         },
         {
          "evs": 1,
          "modeldate": "7/3/2020",
          "state": "NE-2",
          "winstate_inc": 0.3807
         },
         {
          "evs": 1,
          "modeldate": "7/2/2020",
          "state": "NE-2",
          "winstate_inc": 0.3802
         },
         {
          "evs": 29,
          "modeldate": "8/27/2020",
          "state": "Florida",
          "winstate_inc": 0.379725
         },
         {
          "evs": 1,
          "modeldate": "6/19/2020",
          "state": "NE-2",
          "winstate_inc": 0.37695
         },
         {
          "evs": 1,
          "modeldate": "6/20/2020",
          "state": "NE-2",
          "winstate_inc": 0.37445
         },
         {
          "evs": 1,
          "modeldate": "6/21/2020",
          "state": "NE-2",
          "winstate_inc": 0.37135
         },
         {
          "evs": 1,
          "modeldate": "6/23/2020",
          "state": "NE-2",
          "winstate_inc": 0.369825
         },
         {
          "evs": 1,
          "modeldate": "6/25/2020",
          "state": "NE-2",
          "winstate_inc": 0.368325
         },
         {
          "evs": 29,
          "modeldate": "8/6/2020",
          "state": "Florida",
          "winstate_inc": 0.36755
         },
         {
          "evs": 29,
          "modeldate": "8/5/2020",
          "state": "Florida",
          "winstate_inc": 0.367225
         },
         {
          "evs": 29,
          "modeldate": "8/7/2020",
          "state": "Florida",
          "winstate_inc": 0.36695
         },
         {
          "evs": 1,
          "modeldate": "6/22/2020",
          "state": "NE-2",
          "winstate_inc": 0.363725
         },
         {
          "evs": 29,
          "modeldate": "8/16/2020",
          "state": "Florida",
          "winstate_inc": 0.36315
         },
         {
          "evs": 29,
          "modeldate": "8/8/2020",
          "state": "Florida",
          "winstate_inc": 0.3623
         },
         {
          "evs": 1,
          "modeldate": "6/24/2020",
          "state": "NE-2",
          "winstate_inc": 0.362225
         },
         {
          "evs": 1,
          "modeldate": "6/28/2020",
          "state": "NE-2",
          "winstate_inc": 0.3618
         },
         {
          "evs": 1,
          "modeldate": "6/27/2020",
          "state": "NE-2",
          "winstate_inc": 0.361
         },
         {
          "evs": 29,
          "modeldate": "8/12/2020",
          "state": "Florida",
          "winstate_inc": 0.359
         },
         {
          "evs": 1,
          "modeldate": "6/26/2020",
          "state": "NE-2",
          "winstate_inc": 0.3589
         },
         {
          "evs": 1,
          "modeldate": "6/29/2020",
          "state": "NE-2",
          "winstate_inc": 0.358625
         },
         {
          "evs": 29,
          "modeldate": "8/19/2020",
          "state": "Florida",
          "winstate_inc": 0.35755
         },
         {
          "evs": 29,
          "modeldate": "8/9/2020",
          "state": "Florida",
          "winstate_inc": 0.356975
         },
         {
          "evs": 29,
          "modeldate": "8/3/2020",
          "state": "Florida",
          "winstate_inc": 0.354825
         },
         {
          "evs": 29,
          "modeldate": "8/10/2020",
          "state": "Florida",
          "winstate_inc": 0.354625
         },
         {
          "evs": 29,
          "modeldate": "7/31/2020",
          "state": "Florida",
          "winstate_inc": 0.354275
         },
         {
          "evs": 29,
          "modeldate": "7/6/2020",
          "state": "Florida",
          "winstate_inc": 0.353975
         },
         {
          "evs": 29,
          "modeldate": "7/11/2020",
          "state": "Florida",
          "winstate_inc": 0.35365
         },
         {
          "evs": 29,
          "modeldate": "8/15/2020",
          "state": "Florida",
          "winstate_inc": 0.35195
         },
         {
          "evs": 29,
          "modeldate": "8/1/2020",
          "state": "Florida",
          "winstate_inc": 0.351925
         },
         {
          "evs": 29,
          "modeldate": "8/13/2020",
          "state": "Florida",
          "winstate_inc": 0.351625
         },
         {
          "evs": 29,
          "modeldate": "8/2/2020",
          "state": "Florida",
          "winstate_inc": 0.3512
         },
         {
          "evs": 29,
          "modeldate": "7/10/2020",
          "state": "Florida",
          "winstate_inc": 0.34915
         },
         {
          "evs": 29,
          "modeldate": "8/20/2020",
          "state": "Florida",
          "winstate_inc": 0.349025
         },
         {
          "evs": 29,
          "modeldate": "8/17/2020",
          "state": "Florida",
          "winstate_inc": 0.3485
         },
         {
          "evs": 29,
          "modeldate": "8/4/2020",
          "state": "Florida",
          "winstate_inc": 0.348
         },
         {
          "evs": 29,
          "modeldate": "8/18/2020",
          "state": "Florida",
          "winstate_inc": 0.34775
         },
         {
          "evs": 29,
          "modeldate": "8/11/2020",
          "state": "Florida",
          "winstate_inc": 0.34765
         },
         {
          "evs": 29,
          "modeldate": "7/9/2020",
          "state": "Florida",
          "winstate_inc": 0.347575
         },
         {
          "evs": 29,
          "modeldate": "8/25/2020",
          "state": "Florida",
          "winstate_inc": 0.3457
         },
         {
          "evs": 29,
          "modeldate": "8/14/2020",
          "state": "Florida",
          "winstate_inc": 0.3415
         },
         {
          "evs": 29,
          "modeldate": "7/8/2020",
          "state": "Florida",
          "winstate_inc": 0.3408
         },
         {
          "evs": 29,
          "modeldate": "7/7/2020",
          "state": "Florida",
          "winstate_inc": 0.34065
         },
         {
          "evs": 29,
          "modeldate": "8/22/2020",
          "state": "Florida",
          "winstate_inc": 0.338425
         },
         {
          "evs": 10,
          "modeldate": "8/31/2020",
          "state": "Wisconsin",
          "winstate_inc": 0.33545
         },
         {
          "evs": 29,
          "modeldate": "8/24/2020",
          "state": "Florida",
          "winstate_inc": 0.3346
         },
         {
          "evs": 10,
          "modeldate": "8/26/2020",
          "state": "Wisconsin",
          "winstate_inc": 0.33425
         },
         {
          "evs": 29,
          "modeldate": "7/27/2020",
          "state": "Florida",
          "winstate_inc": 0.3341
         },
         {
          "evs": 29,
          "modeldate": "7/12/2020",
          "state": "Florida",
          "winstate_inc": 0.33395
         },
         {
          "evs": 29,
          "modeldate": "7/29/2020",
          "state": "Florida",
          "winstate_inc": 0.3335
         },
         {
          "evs": 4,
          "modeldate": "6/5/2020",
          "state": "New Hampshire",
          "winstate_inc": 0.333275
         },
         {
          "evs": 29,
          "modeldate": "8/21/2020",
          "state": "Florida",
          "winstate_inc": 0.333225
         },
         {
          "evs": 29,
          "modeldate": "8/23/2020",
          "state": "Florida",
          "winstate_inc": 0.332475
         },
         {
          "evs": 10,
          "modeldate": "8/30/2020",
          "state": "Wisconsin",
          "winstate_inc": 0.33145
         },
         {
          "evs": 4,
          "modeldate": "6/6/2020",
          "state": "New Hampshire",
          "winstate_inc": 0.330275
         },
         {
          "evs": 29,
          "modeldate": "7/30/2020",
          "state": "Florida",
          "winstate_inc": 0.33005
         },
         {
          "evs": 4,
          "modeldate": "6/7/2020",
          "state": "New Hampshire",
          "winstate_inc": 0.32895
         },
         {
          "evs": 29,
          "modeldate": "7/26/2020",
          "state": "Florida",
          "winstate_inc": 0.3282
         },
         {
          "evs": 29,
          "modeldate": "7/28/2020",
          "state": "Florida",
          "winstate_inc": 0.326425
         },
         {
          "evs": 4,
          "modeldate": "6/8/2020",
          "state": "New Hampshire",
          "winstate_inc": 0.326125
         },
         {
          "evs": 10,
          "modeldate": "8/29/2020",
          "state": "Wisconsin",
          "winstate_inc": 0.32445
         },
         {
          "evs": 10,
          "modeldate": "8/28/2020",
          "state": "Wisconsin",
          "winstate_inc": 0.3227
         },
         {
          "evs": 20,
          "modeldate": "8/31/2020",
          "state": "Pennsylvania",
          "winstate_inc": 0.321
         },
         {
          "evs": 29,
          "modeldate": "7/24/2020",
          "state": "Florida",
          "winstate_inc": 0.320625
         },
         {
          "evs": 4,
          "modeldate": "6/1/2020",
          "state": "New Hampshire",
          "winstate_inc": 0.319275
         },
         {
          "evs": 29,
          "modeldate": "6/16/2020",
          "state": "Florida",
          "winstate_inc": 0.31885
         },
         {
          "evs": 4,
          "modeldate": "6/2/2020",
          "state": "New Hampshire",
          "winstate_inc": 0.318675
         },
         {
          "evs": 4,
          "modeldate": "6/9/2020",
          "state": "New Hampshire",
          "winstate_inc": 0.31865
         },
         {
          "evs": 4,
          "modeldate": "6/3/2020",
          "state": "New Hampshire",
          "winstate_inc": 0.318
         },
         {
          "evs": 29,
          "modeldate": "7/13/2020",
          "state": "Florida",
          "winstate_inc": 0.3163
         },
         {
          "evs": 29,
          "modeldate": "7/2/2020",
          "state": "Florida",
          "winstate_inc": 0.316175
         },
         {
          "evs": 20,
          "modeldate": "9/3/2020",
          "state": "Pennsylvania",
          "winstate_inc": 0.316125
         },
         {
          "evs": 29,
          "modeldate": "7/4/2020",
          "state": "Florida",
          "winstate_inc": 0.3156
         },
         {
          "evs": 29,
          "modeldate": "6/15/2020",
          "state": "Florida",
          "winstate_inc": 0.3154
         },
         {
          "evs": 10,
          "modeldate": "8/27/2020",
          "state": "Wisconsin",
          "winstate_inc": 0.315275
         },
         {
          "evs": 4,
          "modeldate": "6/4/2020",
          "state": "New Hampshire",
          "winstate_inc": 0.314725
         },
         {
          "evs": 29,
          "modeldate": "7/25/2020",
          "state": "Florida",
          "winstate_inc": 0.31465
         },
         {
          "evs": 20,
          "modeldate": "9/1/2020",
          "state": "Pennsylvania",
          "winstate_inc": 0.314075
         },
         {
          "evs": 29,
          "modeldate": "6/11/2020",
          "state": "Florida",
          "winstate_inc": 0.314075
         },
         {
          "evs": 4,
          "modeldate": "8/31/2020",
          "state": "New Hampshire",
          "winstate_inc": 0.31295
         },
         {
          "evs": 29,
          "modeldate": "7/17/2020",
          "state": "Florida",
          "winstate_inc": 0.312625
         },
         {
          "evs": 29,
          "modeldate": "6/17/2020",
          "state": "Florida",
          "winstate_inc": 0.3122
         },
         {
          "evs": 29,
          "modeldate": "7/23/2020",
          "state": "Florida",
          "winstate_inc": 0.31145
         },
         {
          "evs": 29,
          "modeldate": "7/3/2020",
          "state": "Florida",
          "winstate_inc": 0.3114
         },
         {
          "evs": 29,
          "modeldate": "6/12/2020",
          "state": "Florida",
          "winstate_inc": 0.3113
         },
         {
          "evs": 4,
          "modeldate": "6/10/2020",
          "state": "New Hampshire",
          "winstate_inc": 0.310475
         },
         {
          "evs": 29,
          "modeldate": "7/5/2020",
          "state": "Florida",
          "winstate_inc": 0.3104
         },
         {
          "evs": 29,
          "modeldate": "7/16/2020",
          "state": "Florida",
          "winstate_inc": 0.31015
         },
         {
          "evs": 29,
          "modeldate": "6/18/2020",
          "state": "Florida",
          "winstate_inc": 0.3101
         },
         {
          "evs": 29,
          "modeldate": "7/18/2020",
          "state": "Florida",
          "winstate_inc": 0.310025
         },
         {
          "evs": 4,
          "modeldate": "8/30/2020",
          "state": "New Hampshire",
          "winstate_inc": 0.309625
         },
         {
          "evs": 20,
          "modeldate": "8/30/2020",
          "state": "Pennsylvania",
          "winstate_inc": 0.30905
         },
         {
          "evs": 29,
          "modeldate": "7/14/2020",
          "state": "Florida",
          "winstate_inc": 0.30905
         },
         {
          "evs": 20,
          "modeldate": "9/8/2020",
          "state": "Pennsylvania",
          "winstate_inc": 0.308725
         },
         {
          "evs": 20,
          "modeldate": "9/2/2020",
          "state": "Pennsylvania",
          "winstate_inc": 0.308525
         },
         {
          "evs": 20,
          "modeldate": "9/5/2020",
          "state": "Pennsylvania",
          "winstate_inc": 0.308125
         },
         {
          "evs": 29,
          "modeldate": "6/13/2020",
          "state": "Florida",
          "winstate_inc": 0.3081
         },
         {
          "evs": 4,
          "modeldate": "9/1/2020",
          "state": "New Hampshire",
          "winstate_inc": 0.307625
         },
         {
          "evs": 29,
          "modeldate": "7/19/2020",
          "state": "Florida",
          "winstate_inc": 0.3066
         },
         {
          "evs": 10,
          "modeldate": "9/1/2020",
          "state": "Wisconsin",
          "winstate_inc": 0.306375
         },
         {
          "evs": 20,
          "modeldate": "9/6/2020",
          "state": "Pennsylvania",
          "winstate_inc": 0.3051
         },
         {
          "evs": 4,
          "modeldate": "8/29/2020",
          "state": "New Hampshire",
          "winstate_inc": 0.305075
         },
         {
          "evs": 29,
          "modeldate": "6/19/2020",
          "state": "Florida",
          "winstate_inc": 0.304775
         },
         {
          "evs": 20,
          "modeldate": "8/29/2020",
          "state": "Pennsylvania",
          "winstate_inc": 0.304525
         },
         {
          "evs": 4,
          "modeldate": "7/6/2020",
          "state": "New Hampshire",
          "winstate_inc": 0.304225
         },
         {
          "evs": 4,
          "modeldate": "7/21/2020",
          "state": "New Hampshire",
          "winstate_inc": 0.304
         },
         {
          "evs": 4,
          "modeldate": "8/28/2020",
          "state": "New Hampshire",
          "winstate_inc": 0.3035
         },
         {
          "evs": 4,
          "modeldate": "8/26/2020",
          "state": "New Hampshire",
          "winstate_inc": 0.3032
         },
         {
          "evs": 4,
          "modeldate": "7/23/2020",
          "state": "New Hampshire",
          "winstate_inc": 0.30245
         },
         {
          "evs": 20,
          "modeldate": "8/28/2020",
          "state": "Pennsylvania",
          "winstate_inc": 0.3024
         },
         {
          "evs": 10,
          "modeldate": "8/11/2020",
          "state": "Wisconsin",
          "winstate_inc": 0.302275
         },
         {
          "evs": 20,
          "modeldate": "9/4/2020",
          "state": "Pennsylvania",
          "winstate_inc": 0.30185
         },
         {
          "evs": 29,
          "modeldate": "6/20/2020",
          "state": "Florida",
          "winstate_inc": 0.3017
         },
         {
          "evs": 10,
          "modeldate": "8/12/2020",
          "state": "Wisconsin",
          "winstate_inc": 0.301625
         },
         {
          "evs": 20,
          "modeldate": "9/7/2020",
          "state": "Pennsylvania",
          "winstate_inc": 0.301325
         },
         {
          "evs": 4,
          "modeldate": "7/10/2020",
          "state": "New Hampshire",
          "winstate_inc": 0.301125
         },
         {
          "evs": 4,
          "modeldate": "7/11/2020",
          "state": "New Hampshire",
          "winstate_inc": 0.301025
         },
         {
          "evs": 4,
          "modeldate": "8/27/2020",
          "state": "New Hampshire",
          "winstate_inc": 0.30085
         },
         {
          "evs": 20,
          "modeldate": "6/5/2020",
          "state": "Pennsylvania",
          "winstate_inc": 0.300425
         },
         {
          "evs": 4,
          "modeldate": "7/27/2020",
          "state": "New Hampshire",
          "winstate_inc": 0.3001
         },
         {
          "evs": 4,
          "modeldate": "7/24/2020",
          "state": "New Hampshire",
          "winstate_inc": 0.29965
         },
         {
          "evs": 4,
          "modeldate": "8/7/2020",
          "state": "New Hampshire",
          "winstate_inc": 0.29925
         },
         {
          "evs": 4,
          "modeldate": "7/25/2020",
          "state": "New Hampshire",
          "winstate_inc": 0.2991
         },
         {
          "evs": 4,
          "modeldate": "8/5/2020",
          "state": "New Hampshire",
          "winstate_inc": 0.29865
         },
         {
          "evs": 29,
          "modeldate": "6/21/2020",
          "state": "Florida",
          "winstate_inc": 0.298275
         },
         {
          "evs": 4,
          "modeldate": "6/15/2020",
          "state": "New Hampshire",
          "winstate_inc": 0.29815
         },
         {
          "evs": 29,
          "modeldate": "6/14/2020",
          "state": "Florida",
          "winstate_inc": 0.2981
         },
         {
          "evs": 4,
          "modeldate": "8/6/2020",
          "state": "New Hampshire",
          "winstate_inc": 0.298
         },
         {
          "evs": 20,
          "modeldate": "6/6/2020",
          "state": "Pennsylvania",
          "winstate_inc": 0.2979
         },
         {
          "evs": 4,
          "modeldate": "7/12/2020",
          "state": "New Hampshire",
          "winstate_inc": 0.297475
         },
         {
          "evs": 4,
          "modeldate": "7/26/2020",
          "state": "New Hampshire",
          "winstate_inc": 0.2968
         },
         {
          "evs": 20,
          "modeldate": "6/7/2020",
          "state": "Pennsylvania",
          "winstate_inc": 0.296575
         },
         {
          "evs": 4,
          "modeldate": "7/17/2020",
          "state": "New Hampshire",
          "winstate_inc": 0.2964
         },
         {
          "evs": 4,
          "modeldate": "7/18/2020",
          "state": "New Hampshire",
          "winstate_inc": 0.296375
         },
         {
          "evs": 4,
          "modeldate": "7/9/2020",
          "state": "New Hampshire",
          "winstate_inc": 0.29565
         },
         {
          "evs": 4,
          "modeldate": "7/8/2020",
          "state": "New Hampshire",
          "winstate_inc": 0.295475
         },
         {
          "evs": 29,
          "modeldate": "7/1/2020",
          "state": "Florida",
          "winstate_inc": 0.295475
         },
         {
          "evs": 4,
          "modeldate": "7/16/2020",
          "state": "New Hampshire",
          "winstate_inc": 0.295425
         },
         {
          "evs": 20,
          "modeldate": "8/27/2020",
          "state": "Pennsylvania",
          "winstate_inc": 0.2953
         },
         {
          "evs": 4,
          "modeldate": "7/14/2020",
          "state": "New Hampshire",
          "winstate_inc": 0.29525
         },
         {
          "evs": 4,
          "modeldate": "7/7/2020",
          "state": "New Hampshire",
          "winstate_inc": 0.295125
         },
         {
          "evs": 4,
          "modeldate": "7/20/2020",
          "state": "New Hampshire",
          "winstate_inc": 0.294925
         },
         {
          "evs": 29,
          "modeldate": "6/30/2020",
          "state": "Florida",
          "winstate_inc": 0.294675
         },
         {
          "evs": 20,
          "modeldate": "6/8/2020",
          "state": "Pennsylvania",
          "winstate_inc": 0.29445
         },
         {
          "evs": 4,
          "modeldate": "6/16/2020",
          "state": "New Hampshire",
          "winstate_inc": 0.294425
         },
         {
          "evs": 4,
          "modeldate": "6/11/2020",
          "state": "New Hampshire",
          "winstate_inc": 0.2942
         },
         {
          "evs": 4,
          "modeldate": "7/22/2020",
          "state": "New Hampshire",
          "winstate_inc": 0.294075
         },
         {
          "evs": 10,
          "modeldate": "7/21/2020",
          "state": "Wisconsin",
          "winstate_inc": 0.2936
         },
         {
          "evs": 20,
          "modeldate": "8/5/2020",
          "state": "Pennsylvania",
          "winstate_inc": 0.29335
         },
         {
          "evs": 4,
          "modeldate": "7/19/2020",
          "state": "New Hampshire",
          "winstate_inc": 0.293175
         },
         {
          "evs": 4,
          "modeldate": "7/13/2020",
          "state": "New Hampshire",
          "winstate_inc": 0.293075
         },
         {
          "evs": 4,
          "modeldate": "7/31/2020",
          "state": "New Hampshire",
          "winstate_inc": 0.29295
         },
         {
          "evs": 4,
          "modeldate": "8/8/2020",
          "state": "New Hampshire",
          "winstate_inc": 0.2927
         },
         {
          "evs": 29,
          "modeldate": "7/15/2020",
          "state": "Florida",
          "winstate_inc": 0.29265
         },
         {
          "evs": 4,
          "modeldate": "6/13/2020",
          "state": "New Hampshire",
          "winstate_inc": 0.2926
         },
         {
          "evs": 4,
          "modeldate": "6/12/2020",
          "state": "New Hampshire",
          "winstate_inc": 0.29255
         },
         {
          "evs": 10,
          "modeldate": "8/25/2020",
          "state": "Wisconsin",
          "winstate_inc": 0.292375
         },
         {
          "evs": 4,
          "modeldate": "8/9/2020",
          "state": "New Hampshire",
          "winstate_inc": 0.2923
         },
         {
          "evs": 29,
          "modeldate": "6/22/2020",
          "state": "Florida",
          "winstate_inc": 0.2923
         },
         {
          "evs": 20,
          "modeldate": "8/26/2020",
          "state": "Pennsylvania",
          "winstate_inc": 0.2919
         },
         {
          "evs": 4,
          "modeldate": "6/18/2020",
          "state": "New Hampshire",
          "winstate_inc": 0.2914
         },
         {
          "evs": 4,
          "modeldate": "6/17/2020",
          "state": "New Hampshire",
          "winstate_inc": 0.2907
         },
         {
          "evs": 4,
          "modeldate": "9/2/2020",
          "state": "New Hampshire",
          "winstate_inc": 0.29015
         },
         {
          "evs": 10,
          "modeldate": "8/7/2020",
          "state": "Wisconsin",
          "winstate_inc": 0.289475
         },
         {
          "evs": 20,
          "modeldate": "6/3/2020",
          "state": "Pennsylvania",
          "winstate_inc": 0.28915
         },
         {
          "evs": 20,
          "modeldate": "6/2/2020",
          "state": "Pennsylvania",
          "winstate_inc": 0.288025
         },
         {
          "evs": 10,
          "modeldate": "7/17/2020",
          "state": "Wisconsin",
          "winstate_inc": 0.287825
         },
         {
          "evs": 4,
          "modeldate": "9/3/2020",
          "state": "New Hampshire",
          "winstate_inc": 0.287775
         },
         {
          "evs": 4,
          "modeldate": "8/2/2020",
          "state": "New Hampshire",
          "winstate_inc": 0.287675
         },
         {
          "evs": 10,
          "modeldate": "6/1/2020",
          "state": "Wisconsin",
          "winstate_inc": 0.287375
         },
         {
          "evs": 29,
          "modeldate": "7/21/2020",
          "state": "Florida",
          "winstate_inc": 0.2873
         },
         {
          "evs": 20,
          "modeldate": "6/1/2020",
          "state": "Pennsylvania",
          "winstate_inc": 0.28725
         },
         {
          "evs": 4,
          "modeldate": "8/1/2020",
          "state": "New Hampshire",
          "winstate_inc": 0.287175
         },
         {
          "evs": 10,
          "modeldate": "6/5/2020",
          "state": "Wisconsin",
          "winstate_inc": 0.287
         },
         {
          "evs": 4,
          "modeldate": "6/14/2020",
          "state": "New Hampshire",
          "winstate_inc": 0.286975
         },
         {
          "evs": 10,
          "modeldate": "7/18/2020",
          "state": "Wisconsin",
          "winstate_inc": 0.286525
         },
         {
          "evs": 20,
          "modeldate": "8/7/2020",
          "state": "Pennsylvania",
          "winstate_inc": 0.28645
         },
         {
          "evs": 4,
          "modeldate": "9/5/2020",
          "state": "New Hampshire",
          "winstate_inc": 0.286075
         },
         {
          "evs": 10,
          "modeldate": "6/6/2020",
          "state": "Wisconsin",
          "winstate_inc": 0.285625
         },
         {
          "evs": 10,
          "modeldate": "7/6/2020",
          "state": "Wisconsin",
          "winstate_inc": 0.28555
         },
         {
          "evs": 10,
          "modeldate": "8/8/2020",
          "state": "Wisconsin",
          "winstate_inc": 0.2853
         },
         {
          "evs": 20,
          "modeldate": "6/4/2020",
          "state": "Pennsylvania",
          "winstate_inc": 0.2851
         },
         {
          "evs": 10,
          "modeldate": "7/11/2020",
          "state": "Wisconsin",
          "winstate_inc": 0.28485
         },
         {
          "evs": 10,
          "modeldate": "8/9/2020",
          "state": "Wisconsin",
          "winstate_inc": 0.284775
         },
         {
          "evs": 10,
          "modeldate": "7/24/2020",
          "state": "Wisconsin",
          "winstate_inc": 0.284625
         },
         {
          "evs": 4,
          "modeldate": "8/11/2020",
          "state": "New Hampshire",
          "winstate_inc": 0.2845
         },
         {
          "evs": 20,
          "modeldate": "6/9/2020",
          "state": "Pennsylvania",
          "winstate_inc": 0.284425
         },
         {
          "evs": 10,
          "modeldate": "7/12/2020",
          "state": "Wisconsin",
          "winstate_inc": 0.2844
         },
         {
          "evs": 10,
          "modeldate": "6/7/2020",
          "state": "Wisconsin",
          "winstate_inc": 0.2843
         },
         {
          "evs": 20,
          "modeldate": "7/31/2020",
          "state": "Pennsylvania",
          "winstate_inc": 0.284175
         },
         {
          "evs": 4,
          "modeldate": "8/10/2020",
          "state": "New Hampshire",
          "winstate_inc": 0.28395
         },
         {
          "evs": 29,
          "modeldate": "7/22/2020",
          "state": "Florida",
          "winstate_inc": 0.28395
         },
         {
          "evs": 4,
          "modeldate": "8/12/2020",
          "state": "New Hampshire",
          "winstate_inc": 0.2839
         },
         {
          "evs": 29,
          "modeldate": "7/20/2020",
          "state": "Florida",
          "winstate_inc": 0.28365
         },
         {
          "evs": 29,
          "modeldate": "6/23/2020",
          "state": "Florida",
          "winstate_inc": 0.283525
         },
         {
          "evs": 10,
          "modeldate": "7/23/2020",
          "state": "Wisconsin",
          "winstate_inc": 0.283025
         },
         {
          "evs": 10,
          "modeldate": "7/10/2020",
          "state": "Wisconsin",
          "winstate_inc": 0.283
         },
         {
          "evs": 4,
          "modeldate": "8/24/2020",
          "state": "New Hampshire",
          "winstate_inc": 0.282975
         },
         {
          "evs": 10,
          "modeldate": "8/5/2020",
          "state": "Wisconsin",
          "winstate_inc": 0.282825
         },
         {
          "evs": 10,
          "modeldate": "8/16/2020",
          "state": "Wisconsin",
          "winstate_inc": 0.282725
         },
         {
          "evs": 10,
          "modeldate": "7/20/2020",
          "state": "Wisconsin",
          "winstate_inc": 0.28255
         },
         {
          "evs": 4,
          "modeldate": "9/4/2020",
          "state": "New Hampshire",
          "winstate_inc": 0.282525
         },
         {
          "evs": 4,
          "modeldate": "8/25/2020",
          "state": "New Hampshire",
          "winstate_inc": 0.282525
         },
         {
          "evs": 10,
          "modeldate": "7/9/2020",
          "state": "Wisconsin",
          "winstate_inc": 0.282125
         },
         {
          "evs": 4,
          "modeldate": "9/6/2020",
          "state": "New Hampshire",
          "winstate_inc": 0.282025
         },
         {
          "evs": 10,
          "modeldate": "8/6/2020",
          "state": "Wisconsin",
          "winstate_inc": 0.281925
         },
         {
          "evs": 10,
          "modeldate": "7/22/2020",
          "state": "Wisconsin",
          "winstate_inc": 0.2818
         },
         {
          "evs": 10,
          "modeldate": "7/19/2020",
          "state": "Wisconsin",
          "winstate_inc": 0.28165
         },
         {
          "evs": 4,
          "modeldate": "8/4/2020",
          "state": "New Hampshire",
          "winstate_inc": 0.281625
         },
         {
          "evs": 4,
          "modeldate": "8/3/2020",
          "state": "New Hampshire",
          "winstate_inc": 0.2816
         },
         {
          "evs": 10,
          "modeldate": "6/8/2020",
          "state": "Wisconsin",
          "winstate_inc": 0.28155
         },
         {
          "evs": 10,
          "modeldate": "8/19/2020",
          "state": "Wisconsin",
          "winstate_inc": 0.281525
         },
         {
          "evs": 4,
          "modeldate": "6/21/2020",
          "state": "New Hampshire",
          "winstate_inc": 0.2813
         },
         {
          "evs": 20,
          "modeldate": "8/2/2020",
          "state": "Pennsylvania",
          "winstate_inc": 0.28125
         },
         {
          "evs": 20,
          "modeldate": "8/1/2020",
          "state": "Pennsylvania",
          "winstate_inc": 0.280925
         },
         {
          "evs": 4,
          "modeldate": "6/19/2020",
          "state": "New Hampshire",
          "winstate_inc": 0.280825
         },
         {
          "evs": 29,
          "modeldate": "6/25/2020",
          "state": "Florida",
          "winstate_inc": 0.280525
         },
         {
          "evs": 20,
          "modeldate": "8/8/2020",
          "state": "Pennsylvania",
          "winstate_inc": 0.28025
         },
         {
          "evs": 10,
          "modeldate": "8/24/2020",
          "state": "Wisconsin",
          "winstate_inc": 0.27995
         },
         {
          "evs": 4,
          "modeldate": "8/20/2020",
          "state": "New Hampshire",
          "winstate_inc": 0.27985
         },
         {
          "evs": 10,
          "modeldate": "7/16/2020",
          "state": "Wisconsin",
          "winstate_inc": 0.2797
         },
         {
          "evs": 10,
          "modeldate": "8/17/2020",
          "state": "Wisconsin",
          "winstate_inc": 0.2793
         },
         {
          "evs": 10,
          "modeldate": "8/23/2020",
          "state": "Wisconsin",
          "winstate_inc": 0.279125
         },
         {
          "evs": 20,
          "modeldate": "8/3/2020",
          "state": "Pennsylvania",
          "winstate_inc": 0.279
         },
         {
          "evs": 10,
          "modeldate": "7/25/2020",
          "state": "Wisconsin",
          "winstate_inc": 0.278925
         },
         {
          "evs": 10,
          "modeldate": "7/8/2020",
          "state": "Wisconsin",
          "winstate_inc": 0.2789
         },
         {
          "evs": 4,
          "modeldate": "9/14/2020",
          "state": "New Hampshire",
          "winstate_inc": 0.27885
         },
         {
          "evs": 4,
          "modeldate": "9/7/2020",
          "state": "New Hampshire",
          "winstate_inc": 0.278725
         },
         {
          "evs": 4,
          "modeldate": "8/16/2020",
          "state": "New Hampshire",
          "winstate_inc": 0.2786
         },
         {
          "evs": 4,
          "modeldate": "8/22/2020",
          "state": "New Hampshire",
          "winstate_inc": 0.27845
         },
         {
          "evs": 4,
          "modeldate": "9/12/2020",
          "state": "New Hampshire",
          "winstate_inc": 0.278225
         },
         {
          "evs": 4,
          "modeldate": "8/23/2020",
          "state": "New Hampshire",
          "winstate_inc": 0.2781
         },
         {
          "evs": 4,
          "modeldate": "9/17/2020",
          "state": "New Hampshire",
          "winstate_inc": 0.277925
         },
         {
          "evs": 4,
          "modeldate": "6/20/2020",
          "state": "New Hampshire",
          "winstate_inc": 0.277775
         },
         {
          "evs": 10,
          "modeldate": "8/15/2020",
          "state": "Wisconsin",
          "winstate_inc": 0.27775
         },
         {
          "evs": 10,
          "modeldate": "8/22/2020",
          "state": "Wisconsin",
          "winstate_inc": 0.277725
         },
         {
          "evs": 20,
          "modeldate": "6/10/2020",
          "state": "Pennsylvania",
          "winstate_inc": 0.2776
         },
         {
          "evs": 10,
          "modeldate": "7/7/2020",
          "state": "Wisconsin",
          "winstate_inc": 0.277225
         },
         {
          "evs": 20,
          "modeldate": "8/9/2020",
          "state": "Pennsylvania",
          "winstate_inc": 0.27715
         },
         {
          "evs": 4,
          "modeldate": "8/21/2020",
          "state": "New Hampshire",
          "winstate_inc": 0.277025
         },
         {
          "evs": 10,
          "modeldate": "7/31/2020",
          "state": "Wisconsin",
          "winstate_inc": 0.276525
         },
         {
          "evs": 29,
          "modeldate": "6/24/2020",
          "state": "Florida",
          "winstate_inc": 0.276525
         },
         {
          "evs": 10,
          "modeldate": "7/14/2020",
          "state": "Wisconsin",
          "winstate_inc": 0.276425
         },
         {
          "evs": 4,
          "modeldate": "7/15/2020",
          "state": "New Hampshire",
          "winstate_inc": 0.276375
         },
         {
          "evs": 10,
          "modeldate": "7/26/2020",
          "state": "Wisconsin",
          "winstate_inc": 0.27635
         },
         {
          "evs": 10,
          "modeldate": "8/10/2020",
          "state": "Wisconsin",
          "winstate_inc": 0.2763
         },
         {
          "evs": 10,
          "modeldate": "8/21/2020",
          "state": "Wisconsin",
          "winstate_inc": 0.2761
         },
         {
          "evs": 10,
          "modeldate": "8/20/2020",
          "state": "Wisconsin",
          "winstate_inc": 0.276
         },
         {
          "evs": 10,
          "modeldate": "8/13/2020",
          "state": "Wisconsin",
          "winstate_inc": 0.2758
         },
         {
          "evs": 4,
          "modeldate": "8/19/2020",
          "state": "New Hampshire",
          "winstate_inc": 0.27575
         },
         {
          "evs": 20,
          "modeldate": "8/6/2020",
          "state": "Pennsylvania",
          "winstate_inc": 0.2757
         },
         {
          "evs": 10,
          "modeldate": "7/13/2020",
          "state": "Wisconsin",
          "winstate_inc": 0.27565
         },
         {
          "evs": 4,
          "modeldate": "8/15/2020",
          "state": "New Hampshire",
          "winstate_inc": 0.275275
         },
         {
          "evs": 4,
          "modeldate": "8/17/2020",
          "state": "New Hampshire",
          "winstate_inc": 0.274875
         },
         {
          "evs": 20,
          "modeldate": "8/4/2020",
          "state": "Pennsylvania",
          "winstate_inc": 0.2747
         },
         {
          "evs": 10,
          "modeldate": "6/9/2020",
          "state": "Wisconsin",
          "winstate_inc": 0.274425
         },
         {
          "evs": 10,
          "modeldate": "8/18/2020",
          "state": "Wisconsin",
          "winstate_inc": 0.274275
         },
         {
          "evs": 10,
          "modeldate": "8/1/2020",
          "state": "Wisconsin",
          "winstate_inc": 0.27415
         },
         {
          "evs": 4,
          "modeldate": "9/13/2020",
          "state": "New Hampshire",
          "winstate_inc": 0.27375
         },
         {
          "evs": 4,
          "modeldate": "9/15/2020",
          "state": "New Hampshire",
          "winstate_inc": 0.273575
         },
         {
          "evs": 4,
          "modeldate": "8/13/2020",
          "state": "New Hampshire",
          "winstate_inc": 0.273225
         },
         {
          "evs": 10,
          "modeldate": "8/2/2020",
          "state": "Wisconsin",
          "winstate_inc": 0.27295
         },
         {
          "evs": 4,
          "modeldate": "9/16/2020",
          "state": "New Hampshire",
          "winstate_inc": 0.271625
         },
         {
          "evs": 10,
          "modeldate": "8/14/2020",
          "state": "Wisconsin",
          "winstate_inc": 0.2715
         },
         {
          "evs": 29,
          "modeldate": "6/28/2020",
          "state": "Florida",
          "winstate_inc": 0.270875
         },
         {
          "evs": 4,
          "modeldate": "9/8/2020",
          "state": "New Hampshire",
          "winstate_inc": 0.270475
         },
         {
          "evs": 20,
          "modeldate": "8/10/2020",
          "state": "Pennsylvania",
          "winstate_inc": 0.2703
         },
         {
          "evs": 4,
          "modeldate": "6/30/2020",
          "state": "New Hampshire",
          "winstate_inc": 0.27025
         },
         {
          "evs": 10,
          "modeldate": "6/3/2020",
          "state": "Wisconsin",
          "winstate_inc": 0.270125
         },
         {
          "evs": 4,
          "modeldate": "8/14/2020",
          "state": "New Hampshire",
          "winstate_inc": 0.2698
         },
         {
          "evs": 10,
          "modeldate": "6/2/2020",
          "state": "Wisconsin",
          "winstate_inc": 0.2698
         },
         {
          "evs": 10,
          "modeldate": "8/3/2020",
          "state": "Wisconsin",
          "winstate_inc": 0.269725
         },
         {
          "evs": 4,
          "modeldate": "8/18/2020",
          "state": "New Hampshire",
          "winstate_inc": 0.269525
         },
         {
          "evs": 10,
          "modeldate": "8/4/2020",
          "state": "Wisconsin",
          "winstate_inc": 0.2695
         },
         {
          "evs": 29,
          "modeldate": "6/29/2020",
          "state": "Florida",
          "winstate_inc": 0.26935
         },
         {
          "evs": 4,
          "modeldate": "9/18/2020",
          "state": "New Hampshire",
          "winstate_inc": 0.269175
         },
         {
          "evs": 20,
          "modeldate": "7/24/2020",
          "state": "Pennsylvania",
          "winstate_inc": 0.269125
         },
         {
          "evs": 4,
          "modeldate": "7/29/2020",
          "state": "New Hampshire",
          "winstate_inc": 0.2682
         },
         {
          "evs": 29,
          "modeldate": "6/27/2020",
          "state": "Florida",
          "winstate_inc": 0.266975
         },
         {
          "evs": 4,
          "modeldate": "7/2/2020",
          "state": "New Hampshire",
          "winstate_inc": 0.26695
         },
         {
          "evs": 10,
          "modeldate": "6/4/2020",
          "state": "Wisconsin",
          "winstate_inc": 0.26695
         },
         {
          "evs": 29,
          "modeldate": "6/26/2020",
          "state": "Florida",
          "winstate_inc": 0.26665
         },
         {
          "evs": 4,
          "modeldate": "7/4/2020",
          "state": "New Hampshire",
          "winstate_inc": 0.26655
         },
         {
          "evs": 20,
          "modeldate": "8/12/2020",
          "state": "Pennsylvania",
          "winstate_inc": 0.26605
         },
         {
          "evs": 4,
          "modeldate": "7/30/2020",
          "state": "New Hampshire",
          "winstate_inc": 0.265025
         },
         {
          "evs": 4,
          "modeldate": "7/5/2020",
          "state": "New Hampshire",
          "winstate_inc": 0.26495
         },
         {
          "evs": 20,
          "modeldate": "8/11/2020",
          "state": "Pennsylvania",
          "winstate_inc": 0.264875
         },
         {
          "evs": 10,
          "modeldate": "6/10/2020",
          "state": "Wisconsin",
          "winstate_inc": 0.264675
         },
         {
          "evs": 10,
          "modeldate": "9/2/2020",
          "state": "Wisconsin",
          "winstate_inc": 0.26445
         },
         {
          "evs": 4,
          "modeldate": "7/3/2020",
          "state": "New Hampshire",
          "winstate_inc": 0.264375
         },
         {
          "evs": 20,
          "modeldate": "8/24/2020",
          "state": "Pennsylvania",
          "winstate_inc": 0.26435
         },
         {
          "evs": 4,
          "modeldate": "7/1/2020",
          "state": "New Hampshire",
          "winstate_inc": 0.264325
         },
         {
          "evs": 20,
          "modeldate": "8/22/2020",
          "state": "Pennsylvania",
          "winstate_inc": 0.2642
         },
         {
          "evs": 20,
          "modeldate": "9/9/2020",
          "state": "Pennsylvania",
          "winstate_inc": 0.26415
         },
         {
          "evs": 20,
          "modeldate": "8/25/2020",
          "state": "Pennsylvania",
          "winstate_inc": 0.26385
         },
         {
          "evs": 4,
          "modeldate": "7/28/2020",
          "state": "New Hampshire",
          "winstate_inc": 0.263825
         },
         {
          "evs": 20,
          "modeldate": "7/29/2020",
          "state": "Pennsylvania",
          "winstate_inc": 0.26355
         },
         {
          "evs": 20,
          "modeldate": "8/16/2020",
          "state": "Pennsylvania",
          "winstate_inc": 0.2635
         },
         {
          "evs": 20,
          "modeldate": "8/23/2020",
          "state": "Pennsylvania",
          "winstate_inc": 0.263425
         },
         {
          "evs": 20,
          "modeldate": "8/21/2020",
          "state": "Pennsylvania",
          "winstate_inc": 0.2627
         },
         {
          "evs": 20,
          "modeldate": "7/25/2020",
          "state": "Pennsylvania",
          "winstate_inc": 0.26235
         },
         {
          "evs": 4,
          "modeldate": "9/9/2020",
          "state": "New Hampshire",
          "winstate_inc": 0.262
         },
         {
          "evs": 20,
          "modeldate": "7/6/2020",
          "state": "Pennsylvania",
          "winstate_inc": 0.261825
         },
         {
          "evs": 20,
          "modeldate": "8/15/2020",
          "state": "Pennsylvania",
          "winstate_inc": 0.2605
         },
         {
          "evs": 10,
          "modeldate": "9/3/2020",
          "state": "Wisconsin",
          "winstate_inc": 0.26045
         },
         {
          "evs": 20,
          "modeldate": "7/11/2020",
          "state": "Pennsylvania",
          "winstate_inc": 0.26035
         },
         {
          "evs": 20,
          "modeldate": "7/27/2020",
          "state": "Pennsylvania",
          "winstate_inc": 0.260275
         },
         {
          "evs": 20,
          "modeldate": "7/30/2020",
          "state": "Pennsylvania",
          "winstate_inc": 0.2598
         },
         {
          "evs": 10,
          "modeldate": "9/5/2020",
          "state": "Wisconsin",
          "winstate_inc": 0.259425
         },
         {
          "evs": 20,
          "modeldate": "9/10/2020",
          "state": "Pennsylvania",
          "winstate_inc": 0.259275
         },
         {
          "evs": 20,
          "modeldate": "7/26/2020",
          "state": "Pennsylvania",
          "winstate_inc": 0.25895
         },
         {
          "evs": 20,
          "modeldate": "8/13/2020",
          "state": "Pennsylvania",
          "winstate_inc": 0.2589
         },
         {
          "evs": 20,
          "modeldate": "7/10/2020",
          "state": "Pennsylvania",
          "winstate_inc": 0.25885
         },
         {
          "evs": 10,
          "modeldate": "7/15/2020",
          "state": "Wisconsin",
          "winstate_inc": 0.25865
         },
         {
          "evs": 20,
          "modeldate": "8/19/2020",
          "state": "Pennsylvania",
          "winstate_inc": 0.2578
         },
         {
          "evs": 20,
          "modeldate": "8/20/2020",
          "state": "Pennsylvania",
          "winstate_inc": 0.257775
         },
         {
          "evs": 20,
          "modeldate": "7/23/2020",
          "state": "Pennsylvania",
          "winstate_inc": 0.2576
         },
         {
          "evs": 20,
          "modeldate": "9/12/2020",
          "state": "Pennsylvania",
          "winstate_inc": 0.256775
         },
         {
          "evs": 4,
          "modeldate": "9/10/2020",
          "state": "New Hampshire",
          "winstate_inc": 0.256175
         },
         {
          "evs": 20,
          "modeldate": "7/28/2020",
          "state": "Pennsylvania",
          "winstate_inc": 0.255875
         },
         {
          "evs": 10,
          "modeldate": "7/27/2020",
          "state": "Wisconsin",
          "winstate_inc": 0.25565
         },
         {
          "evs": 20,
          "modeldate": "7/9/2020",
          "state": "Pennsylvania",
          "winstate_inc": 0.25565
         },
         {
          "evs": 20,
          "modeldate": "8/17/2020",
          "state": "Pennsylvania",
          "winstate_inc": 0.255625
         },
         {
          "evs": 10,
          "modeldate": "7/29/2020",
          "state": "Wisconsin",
          "winstate_inc": 0.2555
         },
         {
          "evs": 10,
          "modeldate": "9/6/2020",
          "state": "Wisconsin",
          "winstate_inc": 0.254375
         },
         {
          "evs": 20,
          "modeldate": "7/8/2020",
          "state": "Pennsylvania",
          "winstate_inc": 0.254125
         },
         {
          "evs": 4,
          "modeldate": "6/23/2020",
          "state": "New Hampshire",
          "winstate_inc": 0.253375
         },
         {
          "evs": 10,
          "modeldate": "6/11/2020",
          "state": "Wisconsin",
          "winstate_inc": 0.25315
         },
         {
          "evs": 20,
          "modeldate": "7/7/2020",
          "state": "Pennsylvania",
          "winstate_inc": 0.25285
         },
         {
          "evs": 4,
          "modeldate": "6/22/2020",
          "state": "New Hampshire",
          "winstate_inc": 0.252825
         },
         {
          "evs": 10,
          "modeldate": "6/14/2020",
          "state": "Wisconsin",
          "winstate_inc": 0.252825
         },
         {
          "evs": 20,
          "modeldate": "8/14/2020",
          "state": "Pennsylvania",
          "winstate_inc": 0.252075
         },
         {
          "evs": 10,
          "modeldate": "6/30/2020",
          "state": "Wisconsin",
          "winstate_inc": 0.25195
         },
         {
          "evs": 20,
          "modeldate": "7/12/2020",
          "state": "Pennsylvania",
          "winstate_inc": 0.251575
         },
         {
          "evs": 10,
          "modeldate": "9/4/2020",
          "state": "Wisconsin",
          "winstate_inc": 0.2511
         },
         {
          "evs": 10,
          "modeldate": "7/28/2020",
          "state": "Wisconsin",
          "winstate_inc": 0.250925
         },
         {
          "evs": 10,
          "modeldate": "6/12/2020",
          "state": "Wisconsin",
          "winstate_inc": 0.25085
         },
         {
          "evs": 20,
          "modeldate": "9/11/2020",
          "state": "Pennsylvania",
          "winstate_inc": 0.250475
         },
         {
          "evs": 10,
          "modeldate": "7/1/2020",
          "state": "Wisconsin",
          "winstate_inc": 0.250075
         },
         {
          "evs": 4,
          "modeldate": "9/11/2020",
          "state": "New Hampshire",
          "winstate_inc": 0.2498
         },
         {
          "evs": 10,
          "modeldate": "7/30/2020",
          "state": "Wisconsin",
          "winstate_inc": 0.2497
         },
         {
          "evs": 20,
          "modeldate": "9/17/2020",
          "state": "Pennsylvania",
          "winstate_inc": 0.2495
         },
         {
          "evs": 4,
          "modeldate": "6/25/2020",
          "state": "New Hampshire",
          "winstate_inc": 0.24945
         },
         {
          "evs": 20,
          "modeldate": "9/14/2020",
          "state": "Pennsylvania",
          "winstate_inc": 0.2492
         },
         {
          "evs": 10,
          "modeldate": "7/4/2020",
          "state": "Wisconsin",
          "winstate_inc": 0.2488
         },
         {
          "evs": 20,
          "modeldate": "9/16/2020",
          "state": "Pennsylvania",
          "winstate_inc": 0.24865
         },
         {
          "evs": 20,
          "modeldate": "9/15/2020",
          "state": "Pennsylvania",
          "winstate_inc": 0.248475
         },
         {
          "evs": 20,
          "modeldate": "8/18/2020",
          "state": "Pennsylvania",
          "winstate_inc": 0.248225
         },
         {
          "evs": 20,
          "modeldate": "9/13/2020",
          "state": "Pennsylvania",
          "winstate_inc": 0.24785
         },
         {
          "evs": 20,
          "modeldate": "7/21/2020",
          "state": "Pennsylvania",
          "winstate_inc": 0.246925
         },
         {
          "evs": 10,
          "modeldate": "7/2/2020",
          "state": "Wisconsin",
          "winstate_inc": 0.24665
         },
         {
          "evs": 10,
          "modeldate": "7/5/2020",
          "state": "Wisconsin",
          "winstate_inc": 0.2465
         },
         {
          "evs": 10,
          "modeldate": "7/3/2020",
          "state": "Wisconsin",
          "winstate_inc": 0.246325
         },
         {
          "evs": 4,
          "modeldate": "6/24/2020",
          "state": "New Hampshire",
          "winstate_inc": 0.245875
         },
         {
          "evs": 10,
          "modeldate": "6/13/2020",
          "state": "Wisconsin",
          "winstate_inc": 0.24565
         },
         {
          "evs": 20,
          "modeldate": "7/18/2020",
          "state": "Pennsylvania",
          "winstate_inc": 0.245625
         },
         {
          "evs": 20,
          "modeldate": "7/17/2020",
          "state": "Pennsylvania",
          "winstate_inc": 0.24515
         },
         {
          "evs": 4,
          "modeldate": "6/28/2020",
          "state": "New Hampshire",
          "winstate_inc": 0.244325
         },
         {
          "evs": 4,
          "modeldate": "6/29/2020",
          "state": "New Hampshire",
          "winstate_inc": 0.24365
         },
         {
          "evs": 20,
          "modeldate": "7/16/2020",
          "state": "Pennsylvania",
          "winstate_inc": 0.243425
         },
         {
          "evs": 10,
          "modeldate": "6/15/2020",
          "state": "Wisconsin",
          "winstate_inc": 0.243025
         },
         {
          "evs": 20,
          "modeldate": "7/14/2020",
          "state": "Pennsylvania",
          "winstate_inc": 0.241275
         },
         {
          "evs": 4,
          "modeldate": "6/26/2020",
          "state": "New Hampshire",
          "winstate_inc": 0.240775
         },
         {
          "evs": 20,
          "modeldate": "7/19/2020",
          "state": "Pennsylvania",
          "winstate_inc": 0.2404
         },
         {
          "evs": 20,
          "modeldate": "7/13/2020",
          "state": "Pennsylvania",
          "winstate_inc": 0.239575
         },
         {
          "evs": 20,
          "modeldate": "9/18/2020",
          "state": "Pennsylvania",
          "winstate_inc": 0.239275
         },
         {
          "evs": 4,
          "modeldate": "6/27/2020",
          "state": "New Hampshire",
          "winstate_inc": 0.2388
         },
         {
          "evs": 20,
          "modeldate": "7/22/2020",
          "state": "Pennsylvania",
          "winstate_inc": 0.237375
         },
         {
          "evs": 20,
          "modeldate": "7/20/2020",
          "state": "Pennsylvania",
          "winstate_inc": 0.23585
         },
         {
          "evs": 10,
          "modeldate": "9/7/2020",
          "state": "Wisconsin",
          "winstate_inc": 0.2351
         },
         {
          "evs": 10,
          "modeldate": "6/25/2020",
          "state": "Wisconsin",
          "winstate_inc": 0.234575
         },
         {
          "evs": 10,
          "modeldate": "9/12/2020",
          "state": "Wisconsin",
          "winstate_inc": 0.230525
         },
         {
          "evs": 10,
          "modeldate": "6/28/2020",
          "state": "Wisconsin",
          "winstate_inc": 0.229225
         },
         {
          "evs": 10,
          "modeldate": "9/9/2020",
          "state": "Wisconsin",
          "winstate_inc": 0.2274
         },
         {
          "evs": 10,
          "modeldate": "6/26/2020",
          "state": "Wisconsin",
          "winstate_inc": 0.2259
         },
         {
          "evs": 10,
          "modeldate": "6/27/2020",
          "state": "Wisconsin",
          "winstate_inc": 0.2258
         },
         {
          "evs": 10,
          "modeldate": "9/8/2020",
          "state": "Wisconsin",
          "winstate_inc": 0.22565
         },
         {
          "evs": 20,
          "modeldate": "7/4/2020",
          "state": "Pennsylvania",
          "winstate_inc": 0.22525
         },
         {
          "evs": 20,
          "modeldate": "7/2/2020",
          "state": "Pennsylvania",
          "winstate_inc": 0.224225
         },
         {
          "evs": 10,
          "modeldate": "6/29/2020",
          "state": "Wisconsin",
          "winstate_inc": 0.22335
         },
         {
          "evs": 10,
          "modeldate": "9/14/2020",
          "state": "Wisconsin",
          "winstate_inc": 0.223275
         },
         {
          "evs": 20,
          "modeldate": "7/15/2020",
          "state": "Pennsylvania",
          "winstate_inc": 0.2227
         },
         {
          "evs": 10,
          "modeldate": "9/10/2020",
          "state": "Wisconsin",
          "winstate_inc": 0.222525
         },
         {
          "evs": 20,
          "modeldate": "6/15/2020",
          "state": "Pennsylvania",
          "winstate_inc": 0.2218
         },
         {
          "evs": 10,
          "modeldate": "9/13/2020",
          "state": "Wisconsin",
          "winstate_inc": 0.220775
         },
         {
          "evs": 20,
          "modeldate": "7/5/2020",
          "state": "Pennsylvania",
          "winstate_inc": 0.220525
         },
         {
          "evs": 20,
          "modeldate": "7/3/2020",
          "state": "Pennsylvania",
          "winstate_inc": 0.219725
         },
         {
          "evs": 20,
          "modeldate": "6/30/2020",
          "state": "Pennsylvania",
          "winstate_inc": 0.218925
         },
         {
          "evs": 10,
          "modeldate": "6/18/2020",
          "state": "Wisconsin",
          "winstate_inc": 0.217975
         },
         {
          "evs": 10,
          "modeldate": "9/11/2020",
          "state": "Wisconsin",
          "winstate_inc": 0.21615
         },
         {
          "evs": 20,
          "modeldate": "7/1/2020",
          "state": "Pennsylvania",
          "winstate_inc": 0.2153
         },
         {
          "evs": 20,
          "modeldate": "6/16/2020",
          "state": "Pennsylvania",
          "winstate_inc": 0.2135
         },
         {
          "evs": 10,
          "modeldate": "6/19/2020",
          "state": "Wisconsin",
          "winstate_inc": 0.2131
         },
         {
          "evs": 20,
          "modeldate": "6/18/2020",
          "state": "Pennsylvania",
          "winstate_inc": 0.21235
         },
         {
          "evs": 10,
          "modeldate": "6/16/2020",
          "state": "Wisconsin",
          "winstate_inc": 0.2112
         },
         {
          "evs": 20,
          "modeldate": "6/11/2020",
          "state": "Pennsylvania",
          "winstate_inc": 0.2112
         },
         {
          "evs": 20,
          "modeldate": "6/12/2020",
          "state": "Pennsylvania",
          "winstate_inc": 0.210625
         },
         {
          "evs": 20,
          "modeldate": "6/17/2020",
          "state": "Pennsylvania",
          "winstate_inc": 0.210175
         },
         {
          "evs": 10,
          "modeldate": "6/20/2020",
          "state": "Wisconsin",
          "winstate_inc": 0.20955
         },
         {
          "evs": 20,
          "modeldate": "6/14/2020",
          "state": "Pennsylvania",
          "winstate_inc": 0.208625
         },
         {
          "evs": 10,
          "modeldate": "6/21/2020",
          "state": "Wisconsin",
          "winstate_inc": 0.20825
         },
         {
          "evs": 20,
          "modeldate": "6/13/2020",
          "state": "Pennsylvania",
          "winstate_inc": 0.20645
         },
         {
          "evs": 10,
          "modeldate": "6/23/2020",
          "state": "Wisconsin",
          "winstate_inc": 0.20615
         },
         {
          "evs": 10,
          "modeldate": "6/17/2020",
          "state": "Wisconsin",
          "winstate_inc": 0.20595
         },
         {
          "evs": 10,
          "modeldate": "6/22/2020",
          "state": "Wisconsin",
          "winstate_inc": 0.205475
         },
         {
          "evs": 20,
          "modeldate": "6/19/2020",
          "state": "Pennsylvania",
          "winstate_inc": 0.205425
         },
         {
          "evs": 10,
          "modeldate": "9/15/2020",
          "state": "Wisconsin",
          "winstate_inc": 0.204925
         },
         {
          "evs": 20,
          "modeldate": "6/23/2020",
          "state": "Pennsylvania",
          "winstate_inc": 0.204525
         },
         {
          "evs": 10,
          "modeldate": "9/17/2020",
          "state": "Wisconsin",
          "winstate_inc": 0.204475
         },
         {
          "evs": 10,
          "modeldate": "9/16/2020",
          "state": "Wisconsin",
          "winstate_inc": 0.204025
         },
         {
          "evs": 20,
          "modeldate": "6/25/2020",
          "state": "Pennsylvania",
          "winstate_inc": 0.201875
         },
         {
          "evs": 20,
          "modeldate": "6/20/2020",
          "state": "Pennsylvania",
          "winstate_inc": 0.200375
         },
         {
          "evs": 20,
          "modeldate": "6/24/2020",
          "state": "Pennsylvania",
          "winstate_inc": 0.1995
         },
         {
          "evs": 10,
          "modeldate": "6/24/2020",
          "state": "Wisconsin",
          "winstate_inc": 0.1984
         },
         {
          "evs": 10,
          "modeldate": "9/18/2020",
          "state": "Wisconsin",
          "winstate_inc": 0.1974
         },
         {
          "evs": 20,
          "modeldate": "6/21/2020",
          "state": "Pennsylvania",
          "winstate_inc": 0.196925
         },
         {
          "evs": 20,
          "modeldate": "6/22/2020",
          "state": "Pennsylvania",
          "winstate_inc": 0.19395
         },
         {
          "evs": 20,
          "modeldate": "6/28/2020",
          "state": "Pennsylvania",
          "winstate_inc": 0.193725
         },
         {
          "evs": 20,
          "modeldate": "6/29/2020",
          "state": "Pennsylvania",
          "winstate_inc": 0.191
         },
         {
          "evs": 20,
          "modeldate": "6/27/2020",
          "state": "Pennsylvania",
          "winstate_inc": 0.190325
         },
         {
          "evs": 20,
          "modeldate": "6/26/2020",
          "state": "Pennsylvania",
          "winstate_inc": 0.189525
         }
        ]
       },
       "encoding": {
        "color": {
         "field": "state",
         "type": "nominal"
        },
        "x": {
         "field": "modeldate",
         "type": "nominal"
        },
        "y": {
         "field": "winstate_inc",
         "type": "quantitative"
        }
       },
       "height": 600,
       "mark": "line",
       "width": 800
      },
      "image/png": "[encoded data removed]",
      "image/svg+xml": [
       "<?xml version=\"1.0\" encoding=\"utf-8\"?>\n",
       "<!DOCTYPE svg PUBLIC \"-//W3C//DTD SVG 1.1//EN\" \"http://www.w3.org/Graphics/SVG/1.1/DTD/svg11.dtd\">\n",
       "<svg class=\"marks\" width=\"959\" height=\"685\" viewBox=\"0 0 959 685\" version=\"1.1\" xmlns=\"http://www.w3.org/2000/svg\" xmlns:xlink=\"http://www.w3.org/1999/xlink\"><rect width=\"959\" height=\"685\" fill=\"white\"></rect><g fill=\"none\" stroke-miterlimit=\"10\" transform=\"translate(48,10)\"><g class=\"mark-group role-frame root\" role=\"graphics-object\" aria-roledescription=\"group mark container\"><g transform=\"translate(0,0)\"><path class=\"background\" aria-hidden=\"true\" d=\"M0.5,0.5h800v600h-800Z\" stroke=\"#ddd\"></path><g><g class=\"mark-group role-axis\" aria-hidden=\"true\"><g transform=\"translate(0.5,0.5)\"><path class=\"background\" aria-hidden=\"true\" d=\"M0,0h0v0h0Z\" pointer-events=\"none\"></path><g><g class=\"mark-rule role-axis-grid\" pointer-events=\"none\"><line transform=\"translate(0,600)\" x2=\"800\" y2=\"0\" stroke=\"#ddd\" stroke-width=\"1\" opacity=\"1\"></line><line transform=\"translate(0,540)\" x2=\"800\" y2=\"0\" stroke=\"#ddd\" stroke-width=\"1\" opacity=\"1\"></line><line transform=\"translate(0,480)\" x2=\"800\" y2=\"0\" stroke=\"#ddd\" stroke-width=\"1\" opacity=\"1\"></line><line transform=\"translate(0,420)\" x2=\"800\" y2=\"0\" stroke=\"#ddd\" stroke-width=\"1\" opacity=\"1\"></line><line transform=\"translate(0,360)\" x2=\"800\" y2=\"0\" stroke=\"#ddd\" stroke-width=\"1\" opacity=\"1\"></line><line transform=\"translate(0,300)\" x2=\"800\" y2=\"0\" stroke=\"#ddd\" stroke-width=\"1\" opacity=\"1\"></line><line transform=\"translate(0,240)\" x2=\"800\" y2=\"0\" stroke=\"#ddd\" stroke-width=\"1\" opacity=\"1\"></line><line transform=\"translate(0,180)\" x2=\"800\" y2=\"0\" stroke=\"#ddd\" stroke-width=\"1\" opacity=\"1\"></line><line transform=\"translate(0,120)\" x2=\"800\" y2=\"0\" stroke=\"#ddd\" stroke-width=\"1\" opacity=\"1\"></line><line transform=\"translate(0,60)\" x2=\"800\" y2=\"0\" stroke=\"#ddd\" stroke-width=\"1\" opacity=\"1\"></line><line transform=\"translate(0,0)\" x2=\"800\" y2=\"0\" stroke=\"#ddd\" stroke-width=\"1\" opacity=\"1\"></line></g></g><path class=\"foreground\" aria-hidden=\"true\" d=\"\" pointer-events=\"none\" display=\"none\"></path></g></g><g class=\"mark-group role-axis\" role=\"graphics-symbol\" aria-roledescription=\"axis\" aria-label=\"X-axis titled 'modeldate' for a discrete scale with 110 values: 6/1/2020, 6/10/2020, 6/11/2020, 6/12/2020, 6/13/2020, ending with 9/9/2020\"><g transform=\"translate(0.5,600.5)\"><path class=\"background\" aria-hidden=\"true\" d=\"M0,0h0v0h0Z\" pointer-events=\"none\"></path><g><g class=\"mark-rule role-axis-tick\" pointer-events=\"none\"><line transform=\"translate(4,0)\" x2=\"0\" y2=\"5\" stroke=\"#888\" stroke-width=\"1\" opacity=\"1\"></line><line transform=\"translate(11,0)\" x2=\"0\" y2=\"5\" stroke=\"#888\" stroke-width=\"1\" opacity=\"1\"></line><line transform=\"translate(18,0)\" x2=\"0\" y2=\"5\" stroke=\"#888\" stroke-width=\"1\" opacity=\"1\"></line><line transform=\"translate(25,0)\" x2=\"0\" y2=\"5\" stroke=\"#888\" stroke-width=\"1\" opacity=\"1\"></line><line transform=\"translate(33,0)\" x2=\"0\" y2=\"5\" stroke=\"#888\" stroke-width=\"1\" opacity=\"1\"></line><line transform=\"translate(40,0)\" x2=\"0\" y2=\"5\" stroke=\"#888\" stroke-width=\"1\" opacity=\"1\"></line><line transform=\"translate(47,0)\" x2=\"0\" y2=\"5\" stroke=\"#888\" stroke-width=\"1\" opacity=\"1\"></line><line transform=\"translate(55,0)\" x2=\"0\" y2=\"5\" stroke=\"#888\" stroke-width=\"1\" opacity=\"1\"></line><line transform=\"translate(62,0)\" x2=\"0\" y2=\"5\" stroke=\"#888\" stroke-width=\"1\" opacity=\"1\"></line><line transform=\"translate(69,0)\" x2=\"0\" y2=\"5\" stroke=\"#888\" stroke-width=\"1\" opacity=\"1\"></line><line transform=\"translate(76,0)\" x2=\"0\" y2=\"5\" stroke=\"#888\" stroke-width=\"1\" opacity=\"1\"></line><line transform=\"translate(84,0)\" x2=\"0\" y2=\"5\" stroke=\"#888\" stroke-width=\"1\" opacity=\"1\"></line><line transform=\"translate(91,0)\" x2=\"0\" y2=\"5\" stroke=\"#888\" stroke-width=\"1\" opacity=\"1\"></line><line transform=\"translate(98,0)\" x2=\"0\" y2=\"5\" stroke=\"#888\" stroke-width=\"1\" opacity=\"1\"></line><line transform=\"translate(105,0)\" x2=\"0\" y2=\"5\" stroke=\"#888\" stroke-width=\"1\" opacity=\"1\"></line><line transform=\"translate(113,0)\" x2=\"0\" y2=\"5\" stroke=\"#888\" stroke-width=\"1\" opacity=\"1\"></line><line transform=\"translate(120,0)\" x2=\"0\" y2=\"5\" stroke=\"#888\" stroke-width=\"1\" opacity=\"1\"></line><line transform=\"translate(127,0)\" x2=\"0\" y2=\"5\" stroke=\"#888\" stroke-width=\"1\" opacity=\"1\"></line><line transform=\"translate(135,0)\" x2=\"0\" y2=\"5\" stroke=\"#888\" stroke-width=\"1\" opacity=\"1\"></line><line transform=\"translate(142,0)\" x2=\"0\" y2=\"5\" stroke=\"#888\" stroke-width=\"1\" opacity=\"1\"></line><line transform=\"translate(149,0)\" x2=\"0\" y2=\"5\" stroke=\"#888\" stroke-width=\"1\" opacity=\"1\"></line><line transform=\"translate(156,0)\" x2=\"0\" y2=\"5\" stroke=\"#888\" stroke-width=\"1\" opacity=\"1\"></line><line transform=\"translate(164,0)\" x2=\"0\" y2=\"5\" stroke=\"#888\" stroke-width=\"1\" opacity=\"1\"></line><line transform=\"translate(171,0)\" x2=\"0\" y2=\"5\" stroke=\"#888\" stroke-width=\"1\" opacity=\"1\"></line><line transform=\"translate(178,0)\" x2=\"0\" y2=\"5\" stroke=\"#888\" stroke-width=\"1\" opacity=\"1\"></line><line transform=\"translate(185,0)\" x2=\"0\" y2=\"5\" stroke=\"#888\" stroke-width=\"1\" opacity=\"1\"></line><line transform=\"translate(193,0)\" x2=\"0\" y2=\"5\" stroke=\"#888\" stroke-width=\"1\" opacity=\"1\"></line><line transform=\"translate(200,0)\" x2=\"0\" y2=\"5\" stroke=\"#888\" stroke-width=\"1\" opacity=\"1\"></line><line transform=\"translate(207,0)\" x2=\"0\" y2=\"5\" stroke=\"#888\" stroke-width=\"1\" opacity=\"1\"></line><line transform=\"translate(215,0)\" x2=\"0\" y2=\"5\" stroke=\"#888\" stroke-width=\"1\" opacity=\"1\"></line><line transform=\"translate(222,0)\" x2=\"0\" y2=\"5\" stroke=\"#888\" stroke-width=\"1\" opacity=\"1\"></line><line transform=\"translate(229,0)\" x2=\"0\" y2=\"5\" stroke=\"#888\" stroke-width=\"1\" opacity=\"1\"></line><line transform=\"translate(236,0)\" x2=\"0\" y2=\"5\" stroke=\"#888\" stroke-width=\"1\" opacity=\"1\"></line><line transform=\"translate(244,0)\" x2=\"0\" y2=\"5\" stroke=\"#888\" stroke-width=\"1\" opacity=\"1\"></line><line transform=\"translate(251,0)\" x2=\"0\" y2=\"5\" stroke=\"#888\" stroke-width=\"1\" opacity=\"1\"></line><line transform=\"translate(258,0)\" x2=\"0\" y2=\"5\" stroke=\"#888\" stroke-width=\"1\" opacity=\"1\"></line><line transform=\"translate(265,0)\" x2=\"0\" y2=\"5\" stroke=\"#888\" stroke-width=\"1\" opacity=\"1\"></line><line transform=\"translate(273,0)\" x2=\"0\" y2=\"5\" stroke=\"#888\" stroke-width=\"1\" opacity=\"1\"></line><line transform=\"translate(280,0)\" x2=\"0\" y2=\"5\" stroke=\"#888\" stroke-width=\"1\" opacity=\"1\"></line><line transform=\"translate(287,0)\" x2=\"0\" y2=\"5\" stroke=\"#888\" stroke-width=\"1\" opacity=\"1\"></line><line transform=\"translate(295,0)\" x2=\"0\" y2=\"5\" stroke=\"#888\" stroke-width=\"1\" opacity=\"1\"></line><line transform=\"translate(302,0)\" x2=\"0\" y2=\"5\" stroke=\"#888\" stroke-width=\"1\" opacity=\"1\"></line><line transform=\"translate(309,0)\" x2=\"0\" y2=\"5\" stroke=\"#888\" stroke-width=\"1\" opacity=\"1\"></line><line transform=\"translate(316,0)\" x2=\"0\" y2=\"5\" stroke=\"#888\" stroke-width=\"1\" opacity=\"1\"></line><line transform=\"translate(324,0)\" x2=\"0\" y2=\"5\" stroke=\"#888\" stroke-width=\"1\" opacity=\"1\"></line><line transform=\"translate(331,0)\" x2=\"0\" y2=\"5\" stroke=\"#888\" stroke-width=\"1\" opacity=\"1\"></line><line transform=\"translate(338,0)\" x2=\"0\" y2=\"5\" stroke=\"#888\" stroke-width=\"1\" opacity=\"1\"></line><line transform=\"translate(345,0)\" x2=\"0\" y2=\"5\" stroke=\"#888\" stroke-width=\"1\" opacity=\"1\"></line><line transform=\"translate(353,0)\" x2=\"0\" y2=\"5\" stroke=\"#888\" stroke-width=\"1\" opacity=\"1\"></line><line transform=\"translate(360,0)\" x2=\"0\" y2=\"5\" stroke=\"#888\" stroke-width=\"1\" opacity=\"1\"></line><line transform=\"translate(367,0)\" x2=\"0\" y2=\"5\" stroke=\"#888\" stroke-width=\"1\" opacity=\"1\"></line><line transform=\"translate(375,0)\" x2=\"0\" y2=\"5\" stroke=\"#888\" stroke-width=\"1\" opacity=\"1\"></line><line transform=\"translate(382,0)\" x2=\"0\" y2=\"5\" stroke=\"#888\" stroke-width=\"1\" opacity=\"1\"></line><line transform=\"translate(389,0)\" x2=\"0\" y2=\"5\" stroke=\"#888\" stroke-width=\"1\" opacity=\"1\"></line><line transform=\"translate(396,0)\" x2=\"0\" y2=\"5\" stroke=\"#888\" stroke-width=\"1\" opacity=\"1\"></line><line transform=\"translate(404,0)\" x2=\"0\" y2=\"5\" stroke=\"#888\" stroke-width=\"1\" opacity=\"1\"></line><line transform=\"translate(411,0)\" x2=\"0\" y2=\"5\" stroke=\"#888\" stroke-width=\"1\" opacity=\"1\"></line><line transform=\"translate(418,0)\" x2=\"0\" y2=\"5\" stroke=\"#888\" stroke-width=\"1\" opacity=\"1\"></line><line transform=\"translate(425,0)\" x2=\"0\" y2=\"5\" stroke=\"#888\" stroke-width=\"1\" opacity=\"1\"></line><line transform=\"translate(433,0)\" x2=\"0\" y2=\"5\" stroke=\"#888\" stroke-width=\"1\" opacity=\"1\"></line><line transform=\"translate(440,0)\" x2=\"0\" y2=\"5\" stroke=\"#888\" stroke-width=\"1\" opacity=\"1\"></line><line transform=\"translate(447,0)\" x2=\"0\" y2=\"5\" stroke=\"#888\" stroke-width=\"1\" opacity=\"1\"></line><line transform=\"translate(455,0)\" x2=\"0\" y2=\"5\" stroke=\"#888\" stroke-width=\"1\" opacity=\"1\"></line><line transform=\"translate(462,0)\" x2=\"0\" y2=\"5\" stroke=\"#888\" stroke-width=\"1\" opacity=\"1\"></line><line transform=\"translate(469,0)\" x2=\"0\" y2=\"5\" stroke=\"#888\" stroke-width=\"1\" opacity=\"1\"></line><line transform=\"translate(476,0)\" x2=\"0\" y2=\"5\" stroke=\"#888\" stroke-width=\"1\" opacity=\"1\"></line><line transform=\"translate(484,0)\" x2=\"0\" y2=\"5\" stroke=\"#888\" stroke-width=\"1\" opacity=\"1\"></line><line transform=\"translate(491,0)\" x2=\"0\" y2=\"5\" stroke=\"#888\" stroke-width=\"1\" opacity=\"1\"></line><line transform=\"translate(498,0)\" x2=\"0\" y2=\"5\" stroke=\"#888\" stroke-width=\"1\" opacity=\"1\"></line><line transform=\"translate(505,0)\" x2=\"0\" y2=\"5\" stroke=\"#888\" stroke-width=\"1\" opacity=\"1\"></line><line transform=\"translate(513,0)\" x2=\"0\" y2=\"5\" stroke=\"#888\" stroke-width=\"1\" opacity=\"1\"></line><line transform=\"translate(520,0)\" x2=\"0\" y2=\"5\" stroke=\"#888\" stroke-width=\"1\" opacity=\"1\"></line><line transform=\"translate(527,0)\" x2=\"0\" y2=\"5\" stroke=\"#888\" stroke-width=\"1\" opacity=\"1\"></line><line transform=\"translate(535,0)\" x2=\"0\" y2=\"5\" stroke=\"#888\" stroke-width=\"1\" opacity=\"1\"></line><line transform=\"translate(542,0)\" x2=\"0\" y2=\"5\" stroke=\"#888\" stroke-width=\"1\" opacity=\"1\"></line><line transform=\"translate(549,0)\" x2=\"0\" y2=\"5\" stroke=\"#888\" stroke-width=\"1\" opacity=\"1\"></line><line transform=\"translate(556,0)\" x2=\"0\" y2=\"5\" stroke=\"#888\" stroke-width=\"1\" opacity=\"1\"></line><line transform=\"translate(564,0)\" x2=\"0\" y2=\"5\" stroke=\"#888\" stroke-width=\"1\" opacity=\"1\"></line><line transform=\"translate(571,0)\" x2=\"0\" y2=\"5\" stroke=\"#888\" stroke-width=\"1\" opacity=\"1\"></line><line transform=\"translate(578,0)\" x2=\"0\" y2=\"5\" stroke=\"#888\" stroke-width=\"1\" opacity=\"1\"></line><line transform=\"translate(585,0)\" x2=\"0\" y2=\"5\" stroke=\"#888\" stroke-width=\"1\" opacity=\"1\"></line><line transform=\"translate(593,0)\" x2=\"0\" y2=\"5\" stroke=\"#888\" stroke-width=\"1\" opacity=\"1\"></line><line transform=\"translate(600,0)\" x2=\"0\" y2=\"5\" stroke=\"#888\" stroke-width=\"1\" opacity=\"1\"></line><line transform=\"translate(607,0)\" x2=\"0\" y2=\"5\" stroke=\"#888\" stroke-width=\"1\" opacity=\"1\"></line><line transform=\"translate(615,0)\" x2=\"0\" y2=\"5\" stroke=\"#888\" stroke-width=\"1\" opacity=\"1\"></line><line transform=\"translate(622,0)\" x2=\"0\" y2=\"5\" stroke=\"#888\" stroke-width=\"1\" opacity=\"1\"></line><line transform=\"translate(629,0)\" x2=\"0\" y2=\"5\" stroke=\"#888\" stroke-width=\"1\" opacity=\"1\"></line><line transform=\"translate(636,0)\" x2=\"0\" y2=\"5\" stroke=\"#888\" stroke-width=\"1\" opacity=\"1\"></line><line transform=\"translate(644,0)\" x2=\"0\" y2=\"5\" stroke=\"#888\" stroke-width=\"1\" opacity=\"1\"></line><line transform=\"translate(651,0)\" x2=\"0\" y2=\"5\" stroke=\"#888\" stroke-width=\"1\" opacity=\"1\"></line><line transform=\"translate(658,0)\" x2=\"0\" y2=\"5\" stroke=\"#888\" stroke-width=\"1\" opacity=\"1\"></line><line transform=\"translate(665,0)\" x2=\"0\" y2=\"5\" stroke=\"#888\" stroke-width=\"1\" opacity=\"1\"></line><line transform=\"translate(673,0)\" x2=\"0\" y2=\"5\" stroke=\"#888\" stroke-width=\"1\" opacity=\"1\"></line><line transform=\"translate(680,0)\" x2=\"0\" y2=\"5\" stroke=\"#888\" stroke-width=\"1\" opacity=\"1\"></line><line transform=\"translate(687,0)\" x2=\"0\" y2=\"5\" stroke=\"#888\" stroke-width=\"1\" opacity=\"1\"></line><line transform=\"translate(695,0)\" x2=\"0\" y2=\"5\" stroke=\"#888\" stroke-width=\"1\" opacity=\"1\"></line><line transform=\"translate(702,0)\" x2=\"0\" y2=\"5\" stroke=\"#888\" stroke-width=\"1\" opacity=\"1\"></line><line transform=\"translate(709,0)\" x2=\"0\" y2=\"5\" stroke=\"#888\" stroke-width=\"1\" opacity=\"1\"></line><line transform=\"translate(716,0)\" x2=\"0\" y2=\"5\" stroke=\"#888\" stroke-width=\"1\" opacity=\"1\"></line><line transform=\"translate(724,0)\" x2=\"0\" y2=\"5\" stroke=\"#888\" stroke-width=\"1\" opacity=\"1\"></line><line transform=\"translate(731,0)\" x2=\"0\" y2=\"5\" stroke=\"#888\" stroke-width=\"1\" opacity=\"1\"></line><line transform=\"translate(738,0)\" x2=\"0\" y2=\"5\" stroke=\"#888\" stroke-width=\"1\" opacity=\"1\"></line><line transform=\"translate(745,0)\" x2=\"0\" y2=\"5\" stroke=\"#888\" stroke-width=\"1\" opacity=\"1\"></line><line transform=\"translate(753,0)\" x2=\"0\" y2=\"5\" stroke=\"#888\" stroke-width=\"1\" opacity=\"1\"></line><line transform=\"translate(760,0)\" x2=\"0\" y2=\"5\" stroke=\"#888\" stroke-width=\"1\" opacity=\"1\"></line><line transform=\"translate(767,0)\" x2=\"0\" y2=\"5\" stroke=\"#888\" stroke-width=\"1\" opacity=\"1\"></line><line transform=\"translate(775,0)\" x2=\"0\" y2=\"5\" stroke=\"#888\" stroke-width=\"1\" opacity=\"1\"></line><line transform=\"translate(782,0)\" x2=\"0\" y2=\"5\" stroke=\"#888\" stroke-width=\"1\" opacity=\"1\"></line><line transform=\"translate(789,0)\" x2=\"0\" y2=\"5\" stroke=\"#888\" stroke-width=\"1\" opacity=\"1\"></line><line transform=\"translate(796,0)\" x2=\"0\" y2=\"5\" stroke=\"#888\" stroke-width=\"1\" opacity=\"1\"></line></g><g class=\"mark-text role-axis-label\" pointer-events=\"none\"><text text-anchor=\"end\" transform=\"translate(3.636363636363626,7) rotate(270) translate(0,3)\" font-family=\"sans-serif\" font-size=\"10px\" fill=\"#000\" opacity=\"1\">6/1/2020</text><text text-anchor=\"end\" transform=\"translate(10.9090909090909,7) rotate(270) translate(0,3)\" font-family=\"sans-serif\" font-size=\"10px\" fill=\"#000\" opacity=\"1\">6/10/2020</text><text text-anchor=\"end\" transform=\"translate(18.181818181818173,7) rotate(270) translate(0,3)\" font-family=\"sans-serif\" font-size=\"10px\" fill=\"#000\" opacity=\"1\">6/11/2020</text><text text-anchor=\"end\" transform=\"translate(25.454545454545443,7) rotate(270) translate(0,3)\" font-family=\"sans-serif\" font-size=\"10px\" fill=\"#000\" opacity=\"1\">6/12/2020</text><text text-anchor=\"end\" transform=\"translate(32.72727272727272,7) rotate(270) translate(0,3)\" font-family=\"sans-serif\" font-size=\"10px\" fill=\"#000\" opacity=\"1\">6/13/2020</text><text text-anchor=\"end\" transform=\"translate(39.999999999999986,7) rotate(270) translate(0,3)\" font-family=\"sans-serif\" font-size=\"10px\" fill=\"#000\" opacity=\"1\">6/14/2020</text><text text-anchor=\"end\" transform=\"translate(47.27272727272726,7) rotate(270) translate(0,3)\" font-family=\"sans-serif\" font-size=\"10px\" fill=\"#000\" opacity=\"1\">6/15/2020</text><text text-anchor=\"end\" transform=\"translate(54.54545454545453,7) rotate(270) translate(0,3)\" font-family=\"sans-serif\" font-size=\"10px\" fill=\"#000\" opacity=\"1\">6/16/2020</text><text text-anchor=\"end\" transform=\"translate(61.818181818181806,7) rotate(270) translate(0,3)\" font-family=\"sans-serif\" font-size=\"10px\" fill=\"#000\" opacity=\"1\">6/17/2020</text><text text-anchor=\"end\" transform=\"translate(69.09090909090908,7) rotate(270) translate(0,3)\" font-family=\"sans-serif\" font-size=\"10px\" fill=\"#000\" opacity=\"1\">6/18/2020</text><text text-anchor=\"end\" transform=\"translate(76.36363636363635,7) rotate(270) translate(0,3)\" font-family=\"sans-serif\" font-size=\"10px\" fill=\"#000\" opacity=\"1\">6/19/2020</text><text text-anchor=\"end\" transform=\"translate(83.63636363636363,7) rotate(270) translate(0,3)\" font-family=\"sans-serif\" font-size=\"10px\" fill=\"#000\" opacity=\"1\">6/2/2020</text><text text-anchor=\"end\" transform=\"translate(90.90909090909089,7) rotate(270) translate(0,3)\" font-family=\"sans-serif\" font-size=\"10px\" fill=\"#000\" opacity=\"1\">6/20/2020</text><text text-anchor=\"end\" transform=\"translate(98.18181818181817,7) rotate(270) translate(0,3)\" font-family=\"sans-serif\" font-size=\"10px\" fill=\"#000\" opacity=\"1\">6/21/2020</text><text text-anchor=\"end\" transform=\"translate(105.45454545454544,7) rotate(270) translate(0,3)\" font-family=\"sans-serif\" font-size=\"10px\" fill=\"#000\" opacity=\"1\">6/22/2020</text><text text-anchor=\"end\" transform=\"translate(112.72727272727272,7) rotate(270) translate(0,3)\" font-family=\"sans-serif\" font-size=\"10px\" fill=\"#000\" opacity=\"1\">6/23/2020</text><text text-anchor=\"end\" transform=\"translate(119.99999999999999,7) rotate(270) translate(0,3)\" font-family=\"sans-serif\" font-size=\"10px\" fill=\"#000\" opacity=\"1\">6/24/2020</text><text text-anchor=\"end\" transform=\"translate(127.27272727272725,7) rotate(270) translate(0,3)\" font-family=\"sans-serif\" font-size=\"10px\" fill=\"#000\" opacity=\"1\">6/25/2020</text><text text-anchor=\"end\" transform=\"translate(134.54545454545453,7) rotate(270) translate(0,3)\" font-family=\"sans-serif\" font-size=\"10px\" fill=\"#000\" opacity=\"1\">6/26/2020</text><text text-anchor=\"end\" transform=\"translate(141.8181818181818,7) rotate(270) translate(0,3)\" font-family=\"sans-serif\" font-size=\"10px\" fill=\"#000\" opacity=\"1\">6/27/2020</text><text text-anchor=\"end\" transform=\"translate(149.09090909090907,7) rotate(270) translate(0,3)\" font-family=\"sans-serif\" font-size=\"10px\" fill=\"#000\" opacity=\"1\">6/28/2020</text><text text-anchor=\"end\" transform=\"translate(156.36363636363635,7) rotate(270) translate(0,3)\" font-family=\"sans-serif\" font-size=\"10px\" fill=\"#000\" opacity=\"1\">6/29/2020</text><text text-anchor=\"end\" transform=\"translate(163.63636363636363,7) rotate(270) translate(0,3)\" font-family=\"sans-serif\" font-size=\"10px\" fill=\"#000\" opacity=\"1\">6/3/2020</text><text text-anchor=\"end\" transform=\"translate(170.9090909090909,7) rotate(270) translate(0,3)\" font-family=\"sans-serif\" font-size=\"10px\" fill=\"#000\" opacity=\"1\">6/30/2020</text><text text-anchor=\"end\" transform=\"translate(178.18181818181816,7) rotate(270) translate(0,3)\" font-family=\"sans-serif\" font-size=\"10px\" fill=\"#000\" opacity=\"1\">6/4/2020</text><text text-anchor=\"end\" transform=\"translate(185.45454545454544,7) rotate(270) translate(0,3)\" font-family=\"sans-serif\" font-size=\"10px\" fill=\"#000\" opacity=\"1\">6/5/2020</text><text text-anchor=\"end\" transform=\"translate(192.72727272727272,7) rotate(270) translate(0,3)\" font-family=\"sans-serif\" font-size=\"10px\" fill=\"#000\" opacity=\"1\">6/6/2020</text><text text-anchor=\"end\" transform=\"translate(199.99999999999997,7) rotate(270) translate(0,3)\" font-family=\"sans-serif\" font-size=\"10px\" fill=\"#000\" opacity=\"1\">6/7/2020</text><text text-anchor=\"end\" transform=\"translate(207.27272727272725,7) rotate(270) translate(0,3)\" font-family=\"sans-serif\" font-size=\"10px\" fill=\"#000\" opacity=\"1\">6/8/2020</text><text text-anchor=\"end\" transform=\"translate(214.54545454545453,7) rotate(270) translate(0,3)\" font-family=\"sans-serif\" font-size=\"10px\" fill=\"#000\" opacity=\"1\">6/9/2020</text><text text-anchor=\"end\" transform=\"translate(221.8181818181818,7) rotate(270) translate(0,3)\" font-family=\"sans-serif\" font-size=\"10px\" fill=\"#000\" opacity=\"1\">7/1/2020</text><text text-anchor=\"end\" transform=\"translate(229.09090909090907,7) rotate(270) translate(0,3)\" font-family=\"sans-serif\" font-size=\"10px\" fill=\"#000\" opacity=\"1\">7/10/2020</text><text text-anchor=\"end\" transform=\"translate(236.36363636363635,7) rotate(270) translate(0,3)\" font-family=\"sans-serif\" font-size=\"10px\" fill=\"#000\" opacity=\"1\">7/11/2020</text><text text-anchor=\"end\" transform=\"translate(243.63636363636363,7) rotate(270) translate(0,3)\" font-family=\"sans-serif\" font-size=\"10px\" fill=\"#000\" opacity=\"1\">7/12/2020</text><text text-anchor=\"end\" transform=\"translate(250.90909090909088,7) rotate(270) translate(0,3)\" font-family=\"sans-serif\" font-size=\"10px\" fill=\"#000\" opacity=\"1\">7/13/2020</text><text text-anchor=\"end\" transform=\"translate(258.18181818181813,7) rotate(270) translate(0,3)\" font-family=\"sans-serif\" font-size=\"10px\" fill=\"#000\" opacity=\"1\">7/14/2020</text><text text-anchor=\"end\" transform=\"translate(265.45454545454544,7) rotate(270) translate(0,3)\" font-family=\"sans-serif\" font-size=\"10px\" fill=\"#000\" opacity=\"1\">7/15/2020</text><text text-anchor=\"end\" transform=\"translate(272.7272727272727,7) rotate(270) translate(0,3)\" font-family=\"sans-serif\" font-size=\"10px\" fill=\"#000\" opacity=\"1\">7/16/2020</text><text text-anchor=\"end\" transform=\"translate(280,7) rotate(270) translate(0,3)\" font-family=\"sans-serif\" font-size=\"10px\" fill=\"#000\" opacity=\"1\">7/17/2020</text><text text-anchor=\"end\" transform=\"translate(287.27272727272725,7) rotate(270) translate(0,3)\" font-family=\"sans-serif\" font-size=\"10px\" fill=\"#000\" opacity=\"1\">7/18/2020</text><text text-anchor=\"end\" transform=\"translate(294.5454545454545,7) rotate(270) translate(0,3)\" font-family=\"sans-serif\" font-size=\"10px\" fill=\"#000\" opacity=\"1\">7/19/2020</text><text text-anchor=\"end\" transform=\"translate(301.8181818181818,7) rotate(270) translate(0,3)\" font-family=\"sans-serif\" font-size=\"10px\" fill=\"#000\" opacity=\"1\">7/2/2020</text><text text-anchor=\"end\" transform=\"translate(309.09090909090907,7) rotate(270) translate(0,3)\" font-family=\"sans-serif\" font-size=\"10px\" fill=\"#000\" opacity=\"1\">7/20/2020</text><text text-anchor=\"end\" transform=\"translate(316.3636363636363,7) rotate(270) translate(0,3)\" font-family=\"sans-serif\" font-size=\"10px\" fill=\"#000\" opacity=\"1\">7/21/2020</text><text text-anchor=\"end\" transform=\"translate(323.6363636363636,7) rotate(270) translate(0,3)\" font-family=\"sans-serif\" font-size=\"10px\" fill=\"#000\" opacity=\"1\">7/22/2020</text><text text-anchor=\"end\" transform=\"translate(330.9090909090909,7) rotate(270) translate(0,3)\" font-family=\"sans-serif\" font-size=\"10px\" fill=\"#000\" opacity=\"1\">7/23/2020</text><text text-anchor=\"end\" transform=\"translate(338.1818181818182,7) rotate(270) translate(0,3)\" font-family=\"sans-serif\" font-size=\"10px\" fill=\"#000\" opacity=\"1\">7/24/2020</text><text text-anchor=\"end\" transform=\"translate(345.45454545454544,7) rotate(270) translate(0,3)\" font-family=\"sans-serif\" font-size=\"10px\" fill=\"#000\" opacity=\"1\">7/25/2020</text><text text-anchor=\"end\" transform=\"translate(352.7272727272727,7) rotate(270) translate(0,3)\" font-family=\"sans-serif\" font-size=\"10px\" fill=\"#000\" opacity=\"1\">7/26/2020</text><text text-anchor=\"end\" transform=\"translate(360,7) rotate(270) translate(0,3)\" font-family=\"sans-serif\" font-size=\"10px\" fill=\"#000\" opacity=\"1\">7/27/2020</text><text text-anchor=\"end\" transform=\"translate(367.27272727272725,7) rotate(270) translate(0,3)\" font-family=\"sans-serif\" font-size=\"10px\" fill=\"#000\" opacity=\"1\">7/28/2020</text><text text-anchor=\"end\" transform=\"translate(374.5454545454545,7) rotate(270) translate(0,3)\" font-family=\"sans-serif\" font-size=\"10px\" fill=\"#000\" opacity=\"1\">7/29/2020</text><text text-anchor=\"end\" transform=\"translate(381.8181818181818,7) rotate(270) translate(0,3)\" font-family=\"sans-serif\" font-size=\"10px\" fill=\"#000\" opacity=\"1\">7/3/2020</text><text text-anchor=\"end\" transform=\"translate(389.09090909090907,7) rotate(270) translate(0,3)\" font-family=\"sans-serif\" font-size=\"10px\" fill=\"#000\" opacity=\"1\">7/30/2020</text><text text-anchor=\"end\" transform=\"translate(396.3636363636363,7) rotate(270) translate(0,3)\" font-family=\"sans-serif\" font-size=\"10px\" fill=\"#000\" opacity=\"1\">7/31/2020</text><text text-anchor=\"end\" transform=\"translate(403.6363636363636,7) rotate(270) translate(0,3)\" font-family=\"sans-serif\" font-size=\"10px\" fill=\"#000\" opacity=\"1\">7/4/2020</text><text text-anchor=\"end\" transform=\"translate(410.9090909090909,7) rotate(270) translate(0,3)\" font-family=\"sans-serif\" font-size=\"10px\" fill=\"#000\" opacity=\"1\">7/5/2020</text><text text-anchor=\"end\" transform=\"translate(418.18181818181813,7) rotate(270) translate(0,3)\" font-family=\"sans-serif\" font-size=\"10px\" fill=\"#000\" opacity=\"1\">7/6/2020</text><text text-anchor=\"end\" transform=\"translate(425.45454545454544,7) rotate(270) translate(0,3)\" font-family=\"sans-serif\" font-size=\"10px\" fill=\"#000\" opacity=\"1\">7/7/2020</text><text text-anchor=\"end\" transform=\"translate(432.7272727272727,7) rotate(270) translate(0,3)\" font-family=\"sans-serif\" font-size=\"10px\" fill=\"#000\" opacity=\"1\">7/8/2020</text><text text-anchor=\"end\" transform=\"translate(440,7) rotate(270) translate(0,3)\" font-family=\"sans-serif\" font-size=\"10px\" fill=\"#000\" opacity=\"1\">7/9/2020</text><text text-anchor=\"end\" transform=\"translate(447.27272727272725,7) rotate(270) translate(0,3)\" font-family=\"sans-serif\" font-size=\"10px\" fill=\"#000\" opacity=\"1\">8/1/2020</text><text text-anchor=\"end\" transform=\"translate(454.5454545454545,7) rotate(270) translate(0,3)\" font-family=\"sans-serif\" font-size=\"10px\" fill=\"#000\" opacity=\"1\">8/10/2020</text><text text-anchor=\"end\" transform=\"translate(461.8181818181818,7) rotate(270) translate(0,3)\" font-family=\"sans-serif\" font-size=\"10px\" fill=\"#000\" opacity=\"1\">8/11/2020</text><text text-anchor=\"end\" transform=\"translate(469.09090909090907,7) rotate(270) translate(0,3)\" font-family=\"sans-serif\" font-size=\"10px\" fill=\"#000\" opacity=\"1\">8/12/2020</text><text text-anchor=\"end\" transform=\"translate(476.3636363636363,7) rotate(270) translate(0,3)\" font-family=\"sans-serif\" font-size=\"10px\" fill=\"#000\" opacity=\"1\">8/13/2020</text><text text-anchor=\"end\" transform=\"translate(483.6363636363636,7) rotate(270) translate(0,3)\" font-family=\"sans-serif\" font-size=\"10px\" fill=\"#000\" opacity=\"1\">8/14/2020</text><text text-anchor=\"end\" transform=\"translate(490.9090909090909,7) rotate(270) translate(0,3)\" font-family=\"sans-serif\" font-size=\"10px\" fill=\"#000\" opacity=\"1\">8/15/2020</text><text text-anchor=\"end\" transform=\"translate(498.18181818181813,7) rotate(270) translate(0,3)\" font-family=\"sans-serif\" font-size=\"10px\" fill=\"#000\" opacity=\"1\">8/16/2020</text><text text-anchor=\"end\" transform=\"translate(505.45454545454544,7) rotate(270) translate(0,3)\" font-family=\"sans-serif\" font-size=\"10px\" fill=\"#000\" opacity=\"1\">8/17/2020</text><text text-anchor=\"end\" transform=\"translate(512.7272727272727,7) rotate(270) translate(0,3)\" font-family=\"sans-serif\" font-size=\"10px\" fill=\"#000\" opacity=\"1\">8/18/2020</text><text text-anchor=\"end\" transform=\"translate(520,7) rotate(270) translate(0,3)\" font-family=\"sans-serif\" font-size=\"10px\" fill=\"#000\" opacity=\"1\">8/19/2020</text><text text-anchor=\"end\" transform=\"translate(527.2727272727273,7) rotate(270) translate(0,3)\" font-family=\"sans-serif\" font-size=\"10px\" fill=\"#000\" opacity=\"1\">8/2/2020</text><text text-anchor=\"end\" transform=\"translate(534.5454545454545,7) rotate(270) translate(0,3)\" font-family=\"sans-serif\" font-size=\"10px\" fill=\"#000\" opacity=\"1\">8/20/2020</text><text text-anchor=\"end\" transform=\"translate(541.8181818181818,7) rotate(270) translate(0,3)\" font-family=\"sans-serif\" font-size=\"10px\" fill=\"#000\" opacity=\"1\">8/21/2020</text><text text-anchor=\"end\" transform=\"translate(549.090909090909,7) rotate(270) translate(0,3)\" font-family=\"sans-serif\" font-size=\"10px\" fill=\"#000\" opacity=\"1\">8/22/2020</text><text text-anchor=\"end\" transform=\"translate(556.3636363636364,7) rotate(270) translate(0,3)\" font-family=\"sans-serif\" font-size=\"10px\" fill=\"#000\" opacity=\"1\">8/23/2020</text><text text-anchor=\"end\" transform=\"translate(563.6363636363636,7) rotate(270) translate(0,3)\" font-family=\"sans-serif\" font-size=\"10px\" fill=\"#000\" opacity=\"1\">8/24/2020</text><text text-anchor=\"end\" transform=\"translate(570.9090909090909,7) rotate(270) translate(0,3)\" font-family=\"sans-serif\" font-size=\"10px\" fill=\"#000\" opacity=\"1\">8/25/2020</text><text text-anchor=\"end\" transform=\"translate(578.1818181818181,7) rotate(270) translate(0,3)\" font-family=\"sans-serif\" font-size=\"10px\" fill=\"#000\" opacity=\"1\">8/26/2020</text><text text-anchor=\"end\" transform=\"translate(585.4545454545454,7) rotate(270) translate(0,3)\" font-family=\"sans-serif\" font-size=\"10px\" fill=\"#000\" opacity=\"1\">8/27/2020</text><text text-anchor=\"end\" transform=\"translate(592.7272727272727,7) rotate(270) translate(0,3)\" font-family=\"sans-serif\" font-size=\"10px\" fill=\"#000\" opacity=\"1\">8/28/2020</text><text text-anchor=\"end\" transform=\"translate(600,7) rotate(270) translate(0,3)\" font-family=\"sans-serif\" font-size=\"10px\" fill=\"#000\" opacity=\"1\">8/29/2020</text><text text-anchor=\"end\" transform=\"translate(607.2727272727273,7) rotate(270) translate(0,3)\" font-family=\"sans-serif\" font-size=\"10px\" fill=\"#000\" opacity=\"1\">8/3/2020</text><text text-anchor=\"end\" transform=\"translate(614.5454545454545,7) rotate(270) translate(0,3)\" font-family=\"sans-serif\" font-size=\"10px\" fill=\"#000\" opacity=\"1\">8/30/2020</text><text text-anchor=\"end\" transform=\"translate(621.8181818181818,7) rotate(270) translate(0,3)\" font-family=\"sans-serif\" font-size=\"10px\" fill=\"#000\" opacity=\"1\">8/31/2020</text><text text-anchor=\"end\" transform=\"translate(629.090909090909,7) rotate(270) translate(0,3)\" font-family=\"sans-serif\" font-size=\"10px\" fill=\"#000\" opacity=\"1\">8/4/2020</text><text text-anchor=\"end\" transform=\"translate(636.3636363636364,7) rotate(270) translate(0,3)\" font-family=\"sans-serif\" font-size=\"10px\" fill=\"#000\" opacity=\"1\">8/5/2020</text><text text-anchor=\"end\" transform=\"translate(643.6363636363636,7) rotate(270) translate(0,3)\" font-family=\"sans-serif\" font-size=\"10px\" fill=\"#000\" opacity=\"1\">8/6/2020</text><text text-anchor=\"end\" transform=\"translate(650.9090909090909,7) rotate(270) translate(0,3)\" font-family=\"sans-serif\" font-size=\"10px\" fill=\"#000\" opacity=\"1\">8/7/2020</text><text text-anchor=\"end\" transform=\"translate(658.1818181818181,7) rotate(270) translate(0,3)\" font-family=\"sans-serif\" font-size=\"10px\" fill=\"#000\" opacity=\"1\">8/8/2020</text><text text-anchor=\"end\" transform=\"translate(665.4545454545454,7) rotate(270) translate(0,3)\" font-family=\"sans-serif\" font-size=\"10px\" fill=\"#000\" opacity=\"1\">8/9/2020</text><text text-anchor=\"end\" transform=\"translate(672.7272727272727,7) rotate(270) translate(0,3)\" font-family=\"sans-serif\" font-size=\"10px\" fill=\"#000\" opacity=\"1\">9/1/2020</text><text text-anchor=\"end\" transform=\"translate(680,7) rotate(270) translate(0,3)\" font-family=\"sans-serif\" font-size=\"10px\" fill=\"#000\" opacity=\"1\">9/10/2020</text><text text-anchor=\"end\" transform=\"translate(687.2727272727273,7) rotate(270) translate(0,3)\" font-family=\"sans-serif\" font-size=\"10px\" fill=\"#000\" opacity=\"1\">9/11/2020</text><text text-anchor=\"end\" transform=\"translate(694.5454545454545,7) rotate(270) translate(0,3)\" font-family=\"sans-serif\" font-size=\"10px\" fill=\"#000\" opacity=\"1\">9/12/2020</text><text text-anchor=\"end\" transform=\"translate(701.8181818181818,7) rotate(270) translate(0,3)\" font-family=\"sans-serif\" font-size=\"10px\" fill=\"#000\" opacity=\"1\">9/13/2020</text><text text-anchor=\"end\" transform=\"translate(709.090909090909,7) rotate(270) translate(0,3)\" font-family=\"sans-serif\" font-size=\"10px\" fill=\"#000\" opacity=\"1\">9/14/2020</text><text text-anchor=\"end\" transform=\"translate(716.3636363636364,7) rotate(270) translate(0,3)\" font-family=\"sans-serif\" font-size=\"10px\" fill=\"#000\" opacity=\"1\">9/15/2020</text><text text-anchor=\"end\" transform=\"translate(723.6363636363636,7) rotate(270) translate(0,3)\" font-family=\"sans-serif\" font-size=\"10px\" fill=\"#000\" opacity=\"1\">9/16/2020</text><text text-anchor=\"end\" transform=\"translate(730.9090909090909,7) rotate(270) translate(0,3)\" font-family=\"sans-serif\" font-size=\"10px\" fill=\"#000\" opacity=\"1\">9/17/2020</text><text text-anchor=\"end\" transform=\"translate(738.1818181818181,7) rotate(270) translate(0,3)\" font-family=\"sans-serif\" font-size=\"10px\" fill=\"#000\" opacity=\"1\">9/18/2020</text><text text-anchor=\"end\" transform=\"translate(745.4545454545454,7) rotate(270) translate(0,3)\" font-family=\"sans-serif\" font-size=\"10px\" fill=\"#000\" opacity=\"1\">9/2/2020</text><text text-anchor=\"end\" transform=\"translate(752.7272727272727,7) rotate(270) translate(0,3)\" font-family=\"sans-serif\" font-size=\"10px\" fill=\"#000\" opacity=\"1\">9/3/2020</text><text text-anchor=\"end\" transform=\"translate(760,7) rotate(270) translate(0,3)\" font-family=\"sans-serif\" font-size=\"10px\" fill=\"#000\" opacity=\"1\">9/4/2020</text><text text-anchor=\"end\" transform=\"translate(767.2727272727273,7) rotate(270) translate(0,3)\" font-family=\"sans-serif\" font-size=\"10px\" fill=\"#000\" opacity=\"1\">9/5/2020</text><text text-anchor=\"end\" transform=\"translate(774.5454545454545,7) rotate(270) translate(0,3)\" font-family=\"sans-serif\" font-size=\"10px\" fill=\"#000\" opacity=\"1\">9/6/2020</text><text text-anchor=\"end\" transform=\"translate(781.8181818181818,7) rotate(270) translate(0,3)\" font-family=\"sans-serif\" font-size=\"10px\" fill=\"#000\" opacity=\"1\">9/7/2020</text><text text-anchor=\"end\" transform=\"translate(789.090909090909,7) rotate(270) translate(0,3)\" font-family=\"sans-serif\" font-size=\"10px\" fill=\"#000\" opacity=\"1\">9/8/2020</text><text text-anchor=\"end\" transform=\"translate(796.3636363636364,7) rotate(270) translate(0,3)\" font-family=\"sans-serif\" font-size=\"10px\" fill=\"#000\" opacity=\"1\">9/9/2020</text></g><g class=\"mark-rule role-axis-domain\" pointer-events=\"none\"><line transform=\"translate(0,0)\" x2=\"800\" y2=\"0\" stroke=\"#888\" stroke-width=\"1\" opacity=\"1\"></line></g><g class=\"mark-text role-axis-title\" pointer-events=\"none\"><text text-anchor=\"middle\" transform=\"translate(400,68.00000000000006)\" font-family=\"sans-serif\" font-size=\"11px\" font-weight=\"bold\" fill=\"#000\" opacity=\"1\">modeldate</text></g></g><path class=\"foreground\" aria-hidden=\"true\" d=\"\" pointer-events=\"none\" display=\"none\"></path></g></g><g class=\"mark-group role-axis\" role=\"graphics-symbol\" aria-roledescription=\"axis\" aria-label=\"Y-axis titled 'winstate_inc' for a linear scale with values from 0.0 to 0.5\"><g transform=\"translate(0.5,0.5)\"><path class=\"background\" aria-hidden=\"true\" d=\"M0,0h0v0h0Z\" pointer-events=\"none\"></path><g><g class=\"mark-rule role-axis-tick\" pointer-events=\"none\"><line transform=\"translate(0,600)\" x2=\"-5\" y2=\"0\" stroke=\"#888\" stroke-width=\"1\" opacity=\"1\"></line><line transform=\"translate(0,540)\" x2=\"-5\" y2=\"0\" stroke=\"#888\" stroke-width=\"1\" opacity=\"1\"></line><line transform=\"translate(0,480)\" x2=\"-5\" y2=\"0\" stroke=\"#888\" stroke-width=\"1\" opacity=\"1\"></line><line transform=\"translate(0,420)\" x2=\"-5\" y2=\"0\" stroke=\"#888\" stroke-width=\"1\" opacity=\"1\"></line><line transform=\"translate(0,360)\" x2=\"-5\" y2=\"0\" stroke=\"#888\" stroke-width=\"1\" opacity=\"1\"></line><line transform=\"translate(0,300)\" x2=\"-5\" y2=\"0\" stroke=\"#888\" stroke-width=\"1\" opacity=\"1\"></line><line transform=\"translate(0,240)\" x2=\"-5\" y2=\"0\" stroke=\"#888\" stroke-width=\"1\" opacity=\"1\"></line><line transform=\"translate(0,180)\" x2=\"-5\" y2=\"0\" stroke=\"#888\" stroke-width=\"1\" opacity=\"1\"></line><line transform=\"translate(0,120)\" x2=\"-5\" y2=\"0\" stroke=\"#888\" stroke-width=\"1\" opacity=\"1\"></line><line transform=\"translate(0,60)\" x2=\"-5\" y2=\"0\" stroke=\"#888\" stroke-width=\"1\" opacity=\"1\"></line><line transform=\"translate(0,0)\" x2=\"-5\" y2=\"0\" stroke=\"#888\" stroke-width=\"1\" opacity=\"1\"></line></g><g class=\"mark-text role-axis-label\" pointer-events=\"none\"><text text-anchor=\"end\" transform=\"translate(-7,603)\" font-family=\"sans-serif\" font-size=\"10px\" fill=\"#000\" opacity=\"1\">0.00</text><text text-anchor=\"end\" transform=\"translate(-7,543)\" font-family=\"sans-serif\" font-size=\"10px\" fill=\"#000\" opacity=\"1\">0.05</text><text text-anchor=\"end\" transform=\"translate(-7,483)\" font-family=\"sans-serif\" font-size=\"10px\" fill=\"#000\" opacity=\"1\">0.10</text><text text-anchor=\"end\" transform=\"translate(-7,423)\" font-family=\"sans-serif\" font-size=\"10px\" fill=\"#000\" opacity=\"1\">0.15</text><text text-anchor=\"end\" transform=\"translate(-7,363)\" font-family=\"sans-serif\" font-size=\"10px\" fill=\"#000\" opacity=\"1\">0.20</text><text text-anchor=\"end\" transform=\"translate(-7,303)\" font-family=\"sans-serif\" font-size=\"10px\" fill=\"#000\" opacity=\"1\">0.25</text><text text-anchor=\"end\" transform=\"translate(-7,243)\" font-family=\"sans-serif\" font-size=\"10px\" fill=\"#000\" opacity=\"1\">0.30</text><text text-anchor=\"end\" transform=\"translate(-7,183.00000000000003)\" font-family=\"sans-serif\" font-size=\"10px\" fill=\"#000\" opacity=\"1\">0.35</text><text text-anchor=\"end\" transform=\"translate(-7,122.99999999999997)\" font-family=\"sans-serif\" font-size=\"10px\" fill=\"#000\" opacity=\"1\">0.40</text><text text-anchor=\"end\" transform=\"translate(-7,62.999999999999986)\" font-family=\"sans-serif\" font-size=\"10px\" fill=\"#000\" opacity=\"1\">0.45</text><text text-anchor=\"end\" transform=\"translate(-7,3)\" font-family=\"sans-serif\" font-size=\"10px\" fill=\"#000\" opacity=\"1\">0.50</text></g><g class=\"mark-rule role-axis-domain\" pointer-events=\"none\"><line transform=\"translate(0,600)\" x2=\"0\" y2=\"-600\" stroke=\"#888\" stroke-width=\"1\" opacity=\"1\"></line></g><g class=\"mark-text role-axis-title\" pointer-events=\"none\"><text text-anchor=\"middle\" transform=\"translate(-32,300) rotate(-90) translate(0,-2)\" font-family=\"sans-serif\" font-size=\"11px\" font-weight=\"bold\" fill=\"#000\" opacity=\"1\">winstate_inc</text></g></g><path class=\"foreground\" aria-hidden=\"true\" d=\"\" pointer-events=\"none\" display=\"none\"></path></g></g><g class=\"mark-group role-scope pathgroup\" role=\"graphics-object\" aria-roledescription=\"group mark container\"><g transform=\"translate(0,0)\"><path class=\"background\" aria-hidden=\"true\" d=\"M0,0h800v600h-800Z\"></path><g><g class=\"mark-line role-mark marks\" role=\"graphics-object\" aria-roledescription=\"line mark container\"><path aria-label=\"modeldate: 6/1/2020; winstate_inc: 0.431325; state: NE-2\" role=\"graphics-symbol\" aria-roledescription=\"line mark\" d=\"M3.636363636363626,82.40999999999998L10.9090909090909,98.64L18.181818181818173,119.36999999999998L25.454545454545443,124.02L32.72727272727272,125.36999999999998L39.999999999999986,138.24000000000004L47.27272727272726,115.58999999999999L54.54545454545453,128.48999999999998L61.818181818181806,137.64000000000004L69.09090909090908,131.99999999999997L76.36363636363635,147.66L83.63636363636363,82.74000000000001L90.90909090909089,150.66L98.18181818181817,154.38L105.45454545454544,163.52999999999997L112.72727272727272,156.20999999999998L119.99999999999999,165.32999999999998L127.27272727272725,158.01L134.54545454545453,169.32L141.8181818181818,166.8L149.09090909090907,165.83999999999997L156.36363636363635,169.64999999999998L163.63636363636363,74.54999999999998L170.9090909090909,139.37999999999997L178.18181818181816,79.08000000000001L185.45454545454544,61.41000000000003L192.72727272727272,70.34999999999998L199.99999999999997,70.11L207.27272727272725,72L214.54545454545453,84.66L221.8181818181818,137.48999999999998L229.09090909090907,81.57000000000001L236.36363636363635,77.46L243.63636363636363,87.00000000000001L250.90909090909088,91.68000000000004L258.18181818181813,86.82000000000004L265.45454545454544,104.15999999999998L272.7272727272727,83.06999999999998L280,80.82000000000002L287.27272727272725,80.52L294.5454545454545,82.91999999999999L301.8181818181818,143.76000000000002L309.09090909090907,89.78999999999996L316.3636363636363,69.45000000000002L323.6363636363636,83.34000000000002L330.9090909090909,73.65000000000002L338.1818181818182,71.73000000000003L345.45454545454544,71.73000000000003L352.7272727272727,72.71999999999998L360,69.54L367.27272727272725,76.77000000000001L374.5454545454545,70.28999999999999L381.8181818181818,143.16000000000003L389.09090909090907,74.03999999999998L396.3636363636363,42.900000000000006L403.6363636363636,136.82999999999998L410.9090909090909,113.07000000000001L418.18181818181813,71.73000000000003L425.45454545454544,86.09999999999998L432.7272727272727,84.48000000000002L440,77.94000000000001L447.27272727272725,47.22L454.5454545454545,48.05999999999997L461.8181818181818,46.82999999999997L469.09090909090907,49.76999999999998L476.3636363636363,53.51999999999997L483.6363636363636,70.59000000000002L490.9090909090909,60.30000000000002L498.18181818181813,51.02999999999997L505.45454545454544,60.24000000000002L512.7272727272727,64.65L520,56.13000000000001L527.2727272727273,46.64999999999999L534.5454545454545,69.20999999999997L541.8181818181818,98.61L549.090909090909,103.89000000000001L556.3636363636364,105.00000000000003L563.6363636363636,101.72999999999999L570.9090909090909,108.53999999999996L578.1818181818181,72.74999999999999L585.4545454545454,77.49L592.7272727272727,83.79000000000003L600,80.43L607.2727272727273,45.02999999999997L614.5454545454545,78.20999999999998L621.8181818181818,62.85000000000001L629.090909090909,51.12000000000003L636.3636363636364,25.67999999999997L643.6363636363636,29.97000000000003L650.9090909090909,28.049999999999976L658.1818181818181,30.959999999999987L665.4545454545454,36.090000000000025L672.7272727272727,68.13000000000002L680,133.05L687.2727272727273,138.90000000000003L694.5454545454545,137.04000000000002L701.8181818181818,136.44000000000003L709.090909090909,135.74999999999997L716.3636363636364,135.71999999999997L723.6363636363636,128.10000000000002L730.9090909090909,121.22999999999998L738.1818181818181,138.74999999999997L745.4545454545454,92.03999999999999L752.7272727272727,93.80999999999999L760,104.21999999999998L767.2727272727273,104.97000000000003L774.5454545454545,106.61999999999998L781.8181818181818,100.44L789.090909090909,109.95000000000002L796.3636363636364,126.99000000000001\" stroke=\"#f58518\" stroke-width=\"2\"></path></g></g><path class=\"foreground\" aria-hidden=\"true\" d=\"\" display=\"none\"></path></g><g transform=\"translate(0,0)\"><path class=\"background\" aria-hidden=\"true\" d=\"M0,0h800v600h-800Z\"></path><g><g class=\"mark-line role-mark marks\" role=\"graphics-object\" aria-roledescription=\"line mark container\"><path aria-label=\"modeldate: 6/1/2020; winstate_inc: 0.3873; state: Florida\" role=\"graphics-symbol\" aria-roledescription=\"line mark\" d=\"M3.636363636363626,135.24000000000004L10.9090909090909,130.79999999999998L18.181818181818173,223.11L25.454545454545443,226.43999999999997L32.72727272727272,230.28000000000003L39.999999999999986,242.28000000000003L47.27272727272726,221.51999999999998L54.54545454545453,217.37999999999997L61.818181818181806,225.36L69.09090909090908,227.88000000000002L76.36363636363635,234.26999999999998L83.63636363636363,134.19L90.90909090909089,237.95999999999998L98.18181818181817,242.07L105.45454545454544,249.24L112.72727272727272,259.77L119.99999999999999,268.16999999999996L127.27272727272725,263.36999999999995L134.54545454545453,280.02L141.8181818181818,279.63L149.09090909090907,274.95000000000005L156.36363636363635,276.78000000000003L163.63636363636363,131.70000000000002L170.9090909090909,246.39L178.18181818181816,130.14L185.45454545454544,103.07999999999997L192.72727272727272,110.46000000000002L199.99999999999997,109.26000000000002L207.27272727272725,110.33999999999997L214.54545454545453,124.41000000000003L221.8181818181818,245.43L229.09090909090907,181.01999999999998L236.36363636363635,175.61999999999998L243.63636363636363,199.25999999999996L250.90909090909088,220.43999999999997L258.18181818181813,229.14000000000001L265.45454545454544,248.81999999999996L272.7272727272727,227.82000000000002L280,224.85000000000002L287.27272727272725,227.97L294.5454545454545,232.08L301.8181818181818,220.59000000000003L309.09090909090907,259.62L316.3636363636363,255.24L323.6363636363636,259.26000000000005L330.9090909090909,226.26L338.1818181818182,215.25L345.45454545454544,222.42000000000002L352.7272727272727,206.16L360,199.07999999999998L367.27272727272725,208.28999999999996L374.5454545454545,199.79999999999998L381.8181818181818,226.32L389.09090909090907,203.94L396.3636363636363,174.87L403.6363636363636,221.28L410.9090909090909,227.51999999999998L418.18181818181813,175.23000000000002L425.45454545454544,191.22L432.7272727272727,191.04000000000002L440,182.90999999999997L447.27272727272725,177.69000000000003L454.5454545454545,174.44999999999996L461.8181818181818,182.82L469.09090909090907,169.20000000000002L476.3636363636363,178.04999999999998L483.6363636363636,190.19999999999996L490.9090909090909,177.66000000000003L498.18181818181813,164.22000000000003L505.45454545454544,181.80000000000004L512.7272727272727,182.7L520,170.94000000000003L527.2727272727273,178.55999999999997L534.5454545454545,181.17000000000004L541.8181818181818,200.13L549.090909090909,193.89000000000004L556.3636363636364,201.02999999999997L563.6363636363636,198.48L570.9090909090909,185.16L578.1818181818181,141.87000000000003L585.4545454545454,144.33L592.7272727272727,141.84000000000003L600,136.31999999999996L607.2727272727273,174.21L614.5454545454545,132.65999999999997L621.8181818181818,117.41999999999999L629.090909090909,182.40000000000003L636.3636363636364,159.32999999999998L643.6363636363636,158.94000000000003L650.9090909090909,159.66L658.1818181818181,165.23999999999998L665.4545454545454,171.63000000000002L672.7272727272727,121.82999999999997L680,122.99999999999997L687.2727272727273,137.22L694.5454545454545,124.76999999999998L701.8181818181818,133.07999999999998L709.090909090909,134.58000000000004L716.3636363636364,127.16999999999999L723.6363636363636,124.32000000000004L730.9090909090909,105.66000000000003L738.1818181818181,119.49000000000002L745.4545454545454,122.04000000000002L752.7272727272727,104.34000000000003L760,94.35L767.2727272727273,87.45000000000003L774.5454545454545,88.35L781.8181818181818,88.86L789.090909090909,59.76000000000001L796.3636363636364,123.81000000000002\" stroke=\"#4c78a8\" stroke-width=\"2\"></path></g></g><path class=\"foreground\" aria-hidden=\"true\" d=\"\" display=\"none\"></path></g><g transform=\"translate(0,0)\"><path class=\"background\" aria-hidden=\"true\" d=\"M0,0h800v600h-800Z\"></path><g><g class=\"mark-line role-mark marks\" role=\"graphics-object\" aria-roledescription=\"line mark container\"><path aria-label=\"modeldate: 6/1/2020; winstate_inc: 0.287375; state: Wisconsin\" role=\"graphics-symbol\" aria-roledescription=\"line mark\" d=\"M3.636363636363626,255.15L10.9090909090909,282.39L18.181818181818173,296.22L25.454545454545443,298.97999999999996L32.72727272727272,305.21999999999997L39.999999999999986,296.60999999999996L47.27272727272726,308.37L54.54545454545453,346.56L61.818181818181806,352.86L69.09090909090908,338.42999999999995L76.36363636363635,344.28L83.63636363636363,276.24L90.90909090909089,348.53999999999996L98.18181818181817,350.1L105.45454545454544,353.43000000000006L112.72727272727272,352.62L119.99999999999999,361.91999999999996L127.27272727272725,318.51000000000005L134.54545454545453,328.92L141.8181818181818,329.04L149.09090909090907,324.93L156.36363636363635,331.98L163.63636363636363,275.85L170.9090909090909,297.65999999999997L178.18181818181816,279.65999999999997L185.45454545454544,255.60000000000002L192.72727272727272,257.25L199.99999999999997,258.84000000000003L207.27272727272725,262.14L214.54545454545453,270.69000000000005L221.8181818181818,299.91L229.09090909090907,260.40000000000003L236.36363636363635,258.18L243.63636363636363,258.72L250.90909090909088,269.21999999999997L258.18181818181813,268.29L265.45454545454544,289.62L272.7272727272727,264.36L280,254.61L287.27272727272725,256.17L294.5454545454545,262.02L301.8181818181818,304.02L309.09090909090907,260.94L316.3636363636363,247.67999999999998L323.6363636363636,261.84000000000003L330.9090909090909,260.36999999999995L338.1818181818182,258.45L345.45454545454544,265.29L352.7272727272727,268.38L360,293.22L367.27272727272725,298.89L374.5454545454545,293.4L381.8181818181818,304.40999999999997L389.09090909090907,300.35999999999996L396.3636363636363,268.16999999999996L403.6363636363636,301.44L410.9090909090909,304.2L418.18181818181813,257.34L425.45454545454544,267.33L432.7272727272727,265.32000000000005L440,261.45L447.27272727272725,271.02L454.5454545454545,268.44L461.8181818181818,237.26999999999998L469.09090909090907,238.05000000000004L476.3636363636363,269.04L483.6363636363636,274.2L490.9090909090909,266.7L498.18181818181813,260.73L505.45454545454544,264.84000000000003L512.7272727272727,270.87L520,262.16999999999996L527.2727272727273,272.46L534.5454545454545,268.79999999999995L541.8181818181818,268.68L549.090909090909,266.73L556.3636363636364,265.05L563.6363636363636,264.06L570.9090909090909,249.15L578.1818181818181,198.9L585.4545454545454,221.66999999999996L592.7272727272727,212.76000000000002L600,210.65999999999997L607.2727272727273,276.33L614.5454545454545,202.25999999999996L621.8181818181818,197.45999999999998L629.090909090909,276.59999999999997L636.3636363636364,260.61L643.6363636363636,261.69L650.9090909090909,252.63000000000002L658.1818181818181,257.64L665.4545454545454,258.27L672.7272727272727,232.35L680,332.97L687.2727272727273,340.62L694.5454545454545,323.37L701.8181818181818,335.07L709.090909090909,332.07L716.3636363636364,354.09L723.6363636363636,355.16999999999996L730.9090909090909,354.63000000000005L738.1818181818181,363.12L745.4545454545454,282.65999999999997L752.7272727272727,287.46L760,298.68L767.2727272727273,288.69L774.5454545454545,294.75L781.8181818181818,317.88000000000005L789.090909090909,329.21999999999997L796.3636363636364,327.12\" stroke=\"#54a24b\" stroke-width=\"2\"></path></g></g><path class=\"foreground\" aria-hidden=\"true\" d=\"\" display=\"none\"></path></g><g transform=\"translate(0,0)\"><path class=\"background\" aria-hidden=\"true\" d=\"M0,0h800v600h-800Z\"></path><g><g class=\"mark-line role-mark marks\" role=\"graphics-object\" aria-roledescription=\"line mark container\"><path aria-label=\"modeldate: 6/1/2020; winstate_inc: 0.319275; state: New Hampshire\" role=\"graphics-symbol\" aria-roledescription=\"line mark\" d=\"M3.636363636363626,216.87000000000003L10.9090909090909,227.43L18.181818181818173,246.95999999999998L25.454545454545443,248.94000000000003L32.72727272727272,248.87999999999997L39.999999999999986,255.63000000000002L47.27272727272726,242.21999999999997L54.54545454545453,246.69L61.818181818181806,251.16L69.09090909090908,250.32000000000002L76.36363636363635,263.01L83.63636363636363,217.59L90.90909090909089,266.67L98.18181818181817,262.44L105.45454545454544,296.60999999999996L112.72727272727272,295.95L119.99999999999999,304.95L127.27272727272725,300.65999999999997L134.54545454545453,311.07000000000005L141.8181818181818,313.44L149.09090909090907,306.81L156.36363636363635,307.61999999999995L163.63636363636363,218.4L170.9090909090909,275.7L178.18181818181816,222.33000000000004L185.45454545454544,200.07000000000002L192.72727272727272,203.67000000000002L199.99999999999997,205.25999999999996L207.27272727272725,208.65L214.54545454545453,217.62L221.8181818181818,282.81L229.09090909090907,238.65000000000003L236.36363636363635,238.77L243.63636363636363,243.03L250.90909090909088,248.31000000000003L258.18181818181813,245.7L265.45454545454544,268.35L272.7272727272727,245.49L280,244.32L287.27272727272725,244.35L294.5454545454545,248.18999999999997L301.8181818181818,279.65999999999997L309.09090909090907,246.09L316.3636363636363,235.20000000000002L323.6363636363636,247.11000000000004L330.9090909090909,237.06L338.1818181818182,240.41999999999996L345.45454545454544,241.08000000000004L352.7272727272727,243.84L360,239.88000000000002L367.27272727272725,283.41L374.5454545454545,278.16L381.8181818181818,282.74999999999994L389.09090909090907,281.96999999999997L396.3636363636363,248.46L403.6363636363636,280.14L410.9090909090909,282.06L418.18181818181813,234.92999999999998L425.45454545454544,245.84999999999997L432.7272727272727,245.43L440,245.21999999999997L447.27272727272725,255.39L454.5454545454545,259.26000000000005L461.8181818181818,258.6L469.09090909090907,259.32L476.3636363636363,272.13L483.6363636363636,276.24L490.9090909090909,269.67L498.18181818181813,265.68L505.45454545454544,270.15000000000003L512.7272727272727,276.57L520,269.1L527.2727272727273,254.79L534.5454545454545,264.18L541.8181818181818,267.57L549.090909090909,265.86L556.3636363636364,266.28L563.6363636363636,260.43L570.9090909090909,260.96999999999997L578.1818181818181,236.15999999999997L585.4545454545454,238.98L592.7272727272727,235.8L600,233.91000000000003L607.2727272727273,262.08L614.5454545454545,228.45000000000002L621.8181818181818,224.45999999999998L629.090909090909,262.04999999999995L636.3636363636364,241.61999999999998L643.6363636363636,242.4L650.9090909090909,240.89999999999998L658.1818181818181,248.76L665.4545454545454,249.24L672.7272727272727,230.85000000000002L680,292.59000000000003L687.2727272727273,300.23999999999995L694.5454545454545,266.13L701.8181818181818,271.5L709.090909090909,265.38L716.3636363636364,271.71L723.6363636363636,274.05L730.9090909090909,266.49L738.1818181818181,276.99L745.4545454545454,251.81999999999996L752.7272727272727,254.67L760,260.96999999999997L767.2727272727273,256.71L774.5454545454545,261.57L781.8181818181818,265.53L789.090909090909,275.42999999999995L796.3636363636364,285.59999999999997\" stroke=\"#e45756\" stroke-width=\"2\"></path></g></g><path class=\"foreground\" aria-hidden=\"true\" d=\"\" display=\"none\"></path></g><g transform=\"translate(0,0)\"><path class=\"background\" aria-hidden=\"true\" d=\"M0,0h800v600h-800Z\"></path><g><g class=\"mark-line role-mark marks\" role=\"graphics-object\" aria-roledescription=\"line mark container\"><path aria-label=\"modeldate: 6/1/2020; winstate_inc: 0.28725; state: Pennsylvania\" role=\"graphics-symbol\" aria-roledescription=\"line mark\" d=\"M3.636363636363626,255.29999999999998L10.9090909090909,266.88L18.181818181818173,346.56L25.454545454545443,347.25L32.72727272727272,352.26L39.999999999999986,349.65L47.27272727272726,333.84000000000003L54.54545454545453,343.79999999999995L61.818181818181806,347.79L69.09090909090908,345.17999999999995L76.36363636363635,353.49L83.63636363636363,254.37000000000003L90.90909090909089,359.55L98.18181818181817,363.69L105.45454545454544,367.26L112.72727272727272,354.57L119.99999999999999,360.59999999999997L127.27272727272725,357.74999999999994L134.54545454545453,372.57L141.8181818181818,371.61L149.09090909090907,367.53L156.36363636363635,370.8L163.63636363636363,253.01999999999998L170.9090909090909,337.28999999999996L178.18181818181816,257.88L185.45454545454544,239.49L192.72727272727272,242.52L199.99999999999997,244.11L207.27272727272725,246.66000000000003L214.54545454545453,258.69L221.8181818181818,341.64L229.09090909090907,289.38L236.36363636363635,287.58L243.63636363636363,298.11L250.90909090909088,312.51000000000005L258.18181818181813,310.46999999999997L265.45454545454544,332.76L272.7272727272727,307.89L280,305.82000000000005L287.27272727272725,305.25L294.5454545454545,311.52L301.8181818181818,330.93L309.09090909090907,316.98L316.3636363636363,303.69L323.6363636363636,315.15L330.9090909090909,290.88L338.1818181818182,277.05L345.45454545454544,285.17999999999995L352.7272727272727,289.26L360,287.67L367.27272727272725,292.95L374.5454545454545,283.74L381.8181818181818,336.33L389.09090909090907,288.24L396.3636363636363,258.99L403.6363636363636,329.7L410.9090909090909,335.37000000000006L418.18181818181813,285.81000000000006L425.45454545454544,296.58L432.7272727272727,295.05L440,293.22L447.27272727272725,262.89000000000004L454.5454545454545,275.64000000000004L461.8181818181818,282.15L469.09090909090907,280.74L476.3636363636363,289.32L483.6363636363636,297.51L490.9090909090909,287.4L498.18181818181813,283.8L505.45454545454544,293.25L512.7272727272727,302.12999999999994L520,290.64000000000004L527.2727272727273,262.5L534.5454545454545,290.67L541.8181818181818,284.76L549.090909090909,282.96000000000004L556.3636363636364,283.89L563.6363636363636,282.78000000000003L570.9090909090909,283.38000000000005L578.1818181818181,249.72L585.4545454545454,245.64L592.7272727272727,237.12L600,234.57000000000002L607.2727272727273,265.2L614.5454545454545,229.14000000000001L621.8181818181818,214.79999999999998L629.090909090909,270.36L636.3636363636364,247.98L643.6363636363636,269.16L650.9090909090909,256.26000000000005L658.1818181818181,263.7L665.4545454545454,267.42L672.7272727272727,223.11L680,288.87L687.2727272727273,299.43L694.5454545454545,291.87L701.8181818181818,302.58L709.090909090909,300.96000000000004L716.3636363636364,301.83L723.6363636363636,301.61999999999995L730.9090909090909,300.6L738.1818181818181,312.87L745.4545454545454,229.77L752.7272727272727,220.65L760,237.78L767.2727272727273,230.25000000000003L774.5454545454545,233.88000000000002L781.8181818181818,238.41L789.090909090909,229.52999999999997L796.3636363636364,283.02\" stroke=\"#72b7b2\" stroke-width=\"2\"></path></g></g><path class=\"foreground\" aria-hidden=\"true\" d=\"\" display=\"none\"></path></g></g><g class=\"mark-group role-legend\" role=\"graphics-symbol\" aria-roledescription=\"legend\" aria-label=\"Symbol legend titled 'state' for stroke color with 5 values: Florida, NE-2, New Hampshire, Pennsylvania, Wisconsin\"><g transform=\"translate(818,0)\"><path class=\"background\" aria-hidden=\"true\" d=\"M0,0h88v79h-88Z\" pointer-events=\"none\"></path><g><g class=\"mark-group role-legend-entry\"><g transform=\"translate(0,16)\"><path class=\"background\" aria-hidden=\"true\" d=\"M0,0h0v0h0Z\" pointer-events=\"none\"></path><g><g class=\"mark-group role-scope\" role=\"graphics-object\" aria-roledescription=\"group mark container\"><g transform=\"translate(0,0)\"><path class=\"background\" aria-hidden=\"true\" d=\"M0,0h88v11h-88Z\" pointer-events=\"none\" opacity=\"1\"></path><g><g class=\"mark-symbol role-legend-symbol\" pointer-events=\"none\"><path transform=\"translate(6,6)\" d=\"M-5,0L5,0\" stroke=\"#4c78a8\" stroke-width=\"1.5\" opacity=\"1\"></path></g><g class=\"mark-text role-legend-label\" pointer-events=\"none\"><text text-anchor=\"start\" transform=\"translate(16,9)\" font-family=\"sans-serif\" font-size=\"10px\" fill=\"#000\" opacity=\"1\">Florida</text></g></g><path class=\"foreground\" aria-hidden=\"true\" d=\"\" pointer-events=\"none\" display=\"none\"></path></g><g transform=\"translate(0,13)\"><path class=\"background\" aria-hidden=\"true\" d=\"M0,0h88v11h-88Z\" pointer-events=\"none\" opacity=\"1\"></path><g><g class=\"mark-symbol role-legend-symbol\" pointer-events=\"none\"><path transform=\"translate(6,6)\" d=\"M-5,0L5,0\" stroke=\"#f58518\" stroke-width=\"1.5\" opacity=\"1\"></path></g><g class=\"mark-text role-legend-label\" pointer-events=\"none\"><text text-anchor=\"start\" transform=\"translate(16,9)\" font-family=\"sans-serif\" font-size=\"10px\" fill=\"#000\" opacity=\"1\">NE-2</text></g></g><path class=\"foreground\" aria-hidden=\"true\" d=\"\" pointer-events=\"none\" display=\"none\"></path></g><g transform=\"translate(0,26)\"><path class=\"background\" aria-hidden=\"true\" d=\"M0,0h88v11h-88Z\" pointer-events=\"none\" opacity=\"1\"></path><g><g class=\"mark-symbol role-legend-symbol\" pointer-events=\"none\"><path transform=\"translate(6,6)\" d=\"M-5,0L5,0\" stroke=\"#e45756\" stroke-width=\"1.5\" opacity=\"1\"></path></g><g class=\"mark-text role-legend-label\" pointer-events=\"none\"><text text-anchor=\"start\" transform=\"translate(16,9)\" font-family=\"sans-serif\" font-size=\"10px\" fill=\"#000\" opacity=\"1\">New Hampshire</text></g></g><path class=\"foreground\" aria-hidden=\"true\" d=\"\" pointer-events=\"none\" display=\"none\"></path></g><g transform=\"translate(0,39)\"><path class=\"background\" aria-hidden=\"true\" d=\"M0,0h88v11h-88Z\" pointer-events=\"none\" opacity=\"1\"></path><g><g class=\"mark-symbol role-legend-symbol\" pointer-events=\"none\"><path transform=\"translate(6,6)\" d=\"M-5,0L5,0\" stroke=\"#72b7b2\" stroke-width=\"1.5\" opacity=\"1\"></path></g><g class=\"mark-text role-legend-label\" pointer-events=\"none\"><text text-anchor=\"start\" transform=\"translate(16,9)\" font-family=\"sans-serif\" font-size=\"10px\" fill=\"#000\" opacity=\"1\">Pennsylvania</text></g></g><path class=\"foreground\" aria-hidden=\"true\" d=\"\" pointer-events=\"none\" display=\"none\"></path></g><g transform=\"translate(0,52)\"><path class=\"background\" aria-hidden=\"true\" d=\"M0,0h88v11h-88Z\" pointer-events=\"none\" opacity=\"1\"></path><g><g class=\"mark-symbol role-legend-symbol\" pointer-events=\"none\"><path transform=\"translate(6,6)\" d=\"M-5,0L5,0\" stroke=\"#54a24b\" stroke-width=\"1.5\" opacity=\"1\"></path></g><g class=\"mark-text role-legend-label\" pointer-events=\"none\"><text text-anchor=\"start\" transform=\"translate(16,9)\" font-family=\"sans-serif\" font-size=\"10px\" fill=\"#000\" opacity=\"1\">Wisconsin</text></g></g><path class=\"foreground\" aria-hidden=\"true\" d=\"\" pointer-events=\"none\" display=\"none\"></path></g></g></g><path class=\"foreground\" aria-hidden=\"true\" d=\"\" pointer-events=\"none\" display=\"none\"></path></g></g><g class=\"mark-text role-legend-title\" pointer-events=\"none\"><text text-anchor=\"start\" transform=\"translate(0,9)\" font-family=\"sans-serif\" font-size=\"11px\" font-weight=\"bold\" fill=\"#000\" opacity=\"1\">state</text></g></g><path class=\"foreground\" aria-hidden=\"true\" d=\"\" pointer-events=\"none\" display=\"none\"></path></g></g></g><path class=\"foreground\" aria-hidden=\"true\" d=\"\" display=\"none\"></path></g></g></g></svg>\n"
      ],
      "text/plain": [
       "@vlplot(\n",
       "    width=800,\n",
       "    height=600,\n",
       "    mark=\"line\",\n",
       "    encoding={\n",
       "        x={\n",
       "            field=\"modeldate\"\n",
       "        },\n",
       "        y={\n",
       "            field=\"winstate_inc\"\n",
       "        },\n",
       "        color={\n",
       "            field=\"state\"\n",
       "        }\n",
       "    },\n",
       "    data={\n",
       "        values=...\n",
       "    }\n",
       ")"
      ]
     },
     "execution_count": 104,
     "metadata": {},
     "output_type": "execute_result"
    }
   ],
   "source": [
    "toplines |> \n",
    "@filter(_.state in tipping_points) |> \n",
    "DataFrame |> \n",
    "@vlplot(\n",
    "    :line,\n",
    "    x=:modeldate,\n",
    "    y=:winstate_inc,\n",
    "    color=:state,\n",
    "    width=800,\n",
    "    height=600\n",
    ")"
   ]
  },
  {
   "cell_type": "code",
   "execution_count": null,
   "metadata": {},
   "outputs": [],
   "source": []
  }
 ],
 "metadata": {
  "kernelspec": {
   "display_name": "Julia 1.4.2",
   "language": "julia",
   "name": "julia-1.4"
  },
  "language_info": {
   "file_extension": ".jl",
   "mimetype": "application/julia",
   "name": "julia",
   "version": "1.4.2"
  }
 },
 "nbformat": 4,
 "nbformat_minor": 4
}
